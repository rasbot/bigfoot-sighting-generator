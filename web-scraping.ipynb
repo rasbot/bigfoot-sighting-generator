{
 "cells": [
  {
   "cell_type": "code",
   "execution_count": 1,
   "metadata": {},
   "outputs": [],
   "source": [
    "import requests\n",
    "from bs4 import BeautifulSoup"
   ]
  },
  {
   "cell_type": "markdown",
   "metadata": {},
   "source": [
    "### Web scraping the bigfoot website"
   ]
  },
  {
   "cell_type": "code",
   "execution_count": 2,
   "metadata": {},
   "outputs": [],
   "source": [
    "URL = 'https://www.bfro.net/GDB/show_report.asp?id=1257'\n",
    "page = requests.get(URL)\n",
    "soup = BeautifulSoup(page.content, 'html.parser')\n",
    "features = [item.get_text() for item in soup.select(\"span.field\")]\n",
    "sighting_d = dict()\n",
    "for item in features:\n",
    "    if item == 'STATE:' or item == 'COUNTY:':\n",
    "        sighting_d[item] = soup.find(\"span\", text=item).next_element.next_element.next_element.next_element\n",
    "    else:\n",
    "        sighting_d[item] = soup.find(\"span\", text=item).next_sibling"
   ]
  },
  {
   "cell_type": "code",
   "execution_count": 3,
   "metadata": {},
   "outputs": [
    {
     "data": {
      "text/plain": [
       "{'Submitted  by  witness   on Sunday,\\xa0May\\xa031,\\xa01998.': '\\n',\n",
       " 'Family on their way home see a large, hairy creature cross the road': '\\n',\n",
       " 'YEAR:': ' 1998',\n",
       " 'SEASON:': ' Spring',\n",
       " 'MONTH:': ' May',\n",
       " 'DATE:': ' 22',\n",
       " 'STATE:': 'Alaska',\n",
       " 'COUNTY:': 'Fairbanks County',\n",
       " 'LOCATION DETAILS:': ' Fort Wainwright',\n",
       " 'OBSERVED:': \" I personally did not see it but a Noncommissioned officer i work with along with his wife, child and hunting buddy were on their way home when according to them a large, hairy about seven foot ape looking thing crossed the road in front of them. From what i could gather none of them are too familiar with bigfoot information. Any way they say it crossed the road which is about thirty-five feet in width in four to five steps it seemed and disappeared into the brush on the other side which leads to a river called the Chena. Both of the guys have been hunting since childhood and are sure they know a bear when they see one. The thing crossed the road on its hind legs and as we all agreed yeah a bear can raise up on its hindlegs and even take a few clumsy steps, but, cross a thirty-five foot road.....naw! They say they even came back later (they were shook) and looked for tracks. He wasn't too sure but says he found some tracks that didn't look like any tracks he was! ! familiar with. They were pointed inward as a person who is what i call pigeon-toed. They heard or saw nothing else but were a bit shook and headed home. The entire story seemed incredible to me because the incident took place on a military installation. I really don't won't to get the guys involved because they fear ridicule. \",\n",
       " 'OTHER WITNESSES:': ' They had just picked the buddy up from work.',\n",
       " 'ENVIRONMENT:': \" On a road called Trainor Gate road, on the more rural section of it which leads to Birch Hill. Birch Hill is where a lot of us military guys go and ski. Beyond Birch Hill is nothing but wilderness, all around Ft. Wainwright is nothing but wilderness. So on one side of the road (which this part is gravel) is Birch Hill and on the other is Chena River which has the main road of the military post on its other side. The area around the incident is very rugged, with a mixture of vegetation, hills, rocks, etc. There are lots of wildlife in the area also, there's nothing odd about seeing moose or even wolf though bear usually stay clear.\"}"
      ]
     },
     "execution_count": 3,
     "metadata": {},
     "output_type": "execute_result"
    }
   ],
   "source": [
    "sighting_d"
   ]
  },
  {
   "cell_type": "code",
   "execution_count": null,
   "metadata": {},
   "outputs": [],
   "source": []
  }
 ],
 "metadata": {
  "kernelspec": {
   "display_name": "Python 3",
   "language": "python",
   "name": "python3"
  },
  "language_info": {
   "codemirror_mode": {
    "name": "ipython",
    "version": 3
   },
   "file_extension": ".py",
   "mimetype": "text/x-python",
   "name": "python",
   "nbconvert_exporter": "python",
   "pygments_lexer": "ipython3",
   "version": "3.6.7"
  }
 },
 "nbformat": 4,
 "nbformat_minor": 4
}

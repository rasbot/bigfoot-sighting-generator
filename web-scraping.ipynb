{
 "cells": [
  {
   "cell_type": "code",
   "execution_count": 1,
   "metadata": {},
   "outputs": [],
   "source": [
    "import requests\n",
    "from bs4 import BeautifulSoup"
   ]
  },
  {
   "cell_type": "markdown",
   "metadata": {},
   "source": [
    "### Web scraping the bigfoot website"
   ]
  },
  {
   "cell_type": "code",
   "execution_count": 2,
   "metadata": {},
   "outputs": [],
   "source": [
    "URL = 'https://www.bfro.net/GDB/show_report.asp?id=1257'\n",
    "page = requests.get(URL)\n",
    "soup = BeautifulSoup(page.content, 'html.parser')\n",
    "features = [item.get_text() for item in soup.select(\"span.field\")]\n",
    "sighting_d = dict()\n",
    "for item in features:\n",
    "    if item == 'STATE:' or item == 'COUNTY:':\n",
    "        sighting_d[item] = soup.find(\"span\", text=item).next_element.next_element.next_element.next_element\n",
    "    else:\n",
    "        sighting_d[item] = soup.find(\"span\", text=item).next_sibling"
   ]
  },
  {
   "cell_type": "code",
   "execution_count": 3,
   "metadata": {},
   "outputs": [
    {
     "output_type": "execute_result",
     "data": {
      "text/plain": "{'Submitted  by  witness   on Sunday,\\xa0May\\xa031,\\xa01998.': '\\n',\n 'Family on their way home see a large, hairy creature cross the road': '\\n',\n 'YEAR:': ' 1998',\n 'SEASON:': ' Spring',\n 'MONTH:': ' May',\n 'DATE:': ' 22',\n 'STATE:': 'Alaska',\n 'COUNTY:': 'Fairbanks County',\n 'LOCATION DETAILS:': ' Fort Wainwright',\n 'OBSERVED:': \" I personally did not see it but a Noncommissioned officer i work with along with his wife, child and hunting buddy were on their way home when according to them a large, hairy about seven foot ape looking thing crossed the road in front of them. From what i could gather none of them are too familiar with bigfoot information. Any way they say it crossed the road which is about thirty-five feet in width in four to five steps it seemed and disappeared into the brush on the other side which leads to a river called the Chena. Both of the guys have been hunting since childhood and are sure they know a bear when they see one. The thing crossed the road on its hind legs and as we all agreed yeah a bear can raise up on its hindlegs and even take a few clumsy steps, but, cross a thirty-five foot road.....naw! They say they even came back later (they were shook) and looked for tracks. He wasn't too sure but says he found some tracks that didn't look like any tracks he was! ! familiar with. They were pointed inward as a person who is what i call pigeon-toed. They heard or saw nothing else but were a bit shook and headed home. The entire story seemed incredible to me because the incident took place on a military installation. I really don't won't to get the guys involved because they fear ridicule. \",\n 'OTHER WITNESSES:': ' They had just picked the buddy up from work.',\n 'ENVIRONMENT:': \" On a road called Trainor Gate road, on the more rural section of it which leads to Birch Hill. Birch Hill is where a lot of us military guys go and ski. Beyond Birch Hill is nothing but wilderness, all around Ft. Wainwright is nothing but wilderness. So on one side of the road (which this part is gravel) is Birch Hill and on the other is Chena River which has the main road of the military post on its other side. The area around the incident is very rugged, with a mixture of vegetation, hills, rocks, etc. There are lots of wildlife in the area also, there's nothing odd about seeing moose or even wolf though bear usually stay clear.\"}"
     },
     "metadata": {},
     "execution_count": 3
    }
   ],
   "source": [
    "sighting_d"
   ]
  },
  {
   "cell_type": "markdown",
   "metadata": {},
   "source": [
    "#### Getting valid URLS\n",
    "\n",
    "The site uses an id for their sightings, and not all ids lead to valid html pages. My first attempt is to brute force look through all id values up to a certain number (in this case, one of the latest sightings has `id=65996`. "
   ]
  },
  {
   "cell_type": "code",
   "execution_count": 7,
   "metadata": {},
   "outputs": [],
   "source": [
    "id_file = open(\"ids.txt\", \"w\")\n",
    "for i in range(10):\n",
    "    id_file.write(str(i)+\"\\n\")\n",
    "id_file.close()"
   ]
  },
  {
   "cell_type": "code",
   "execution_count": 18,
   "metadata": {
    "tags": []
   },
   "outputs": [
    {
     "output_type": "stream",
     "name": "stdout",
     "text": "60\n70\n76\n77\n80\n81\n83\n85\n89\n96\n97\n102\n105\n109\n113\n115\n116\n118\n135\n140\n145\n147\n160\n166\n170\n174\n175\n177\n179\n186\n187\n191\n202\n203\n206\n208\n211\n213\n216\n231\n232\n236\n245\n246\n257\n264\n270\n273\n283\n292\n294\n317\n325\n329\n337\n338\n348\n353\n354\n359\n369\n374\n378\n382\n391\n396\n398\n400\n405\n406\n407\n408\n410\n412\n414\n415\n416\n417\n422\n423\n430\n431\n435\n436\n438\n439\n440\n443\n444\n445\n446\n447\n448\n450\n451\n454\n455\n459\n470\n475\n483\n489\n490\n491\n493\n495\n496\n502\n510\n511\n513\n514\n523\n527\n528\n529\n531\n533\n537\n546\n548\n553\n562\n564\n565\n568\n571\n573\n577\n580\n591\n592\n594\n595\n596\n597\n598\n604\n606\n607\n615\n624\n629\n637\n638\n642\n650\n651\n652\n653\n654\n655\n656\n657\n658\n659\n660\n661\n662\n663\n664\n665\n666\n667\n668\n669\n670\n671\n672\n673\n674\n675\n676\n677\n678\n679\n680\n681\n682\n683\n684\n685\n686\n687\n688\n689\n690\n691\n692\n693\n694\n695\n696\n697\n698\n699\n"
    }
   ],
   "source": [
    "valid_ids = []\n",
    "# id_file = open(\"ids.txt\", \"w\")\n",
    "for i in range(1,700):\n",
    "    URL = f\"https://www.bfro.net/GDB/show_report.asp?id={i}\"\n",
    "    page = requests.get(URL)\n",
    "    soup = BeautifulSoup(page.content, 'html.parser')\n",
    "    if len(soup) == 5:\n",
    "        # id_file.write(str(id)+\"\\n\")\n",
    "        print(i)\n",
    "        valid_ids.append(i)\n",
    "# id_file.close()"
   ]
  },
  {
   "cell_type": "code",
   "execution_count": 17,
   "metadata": {},
   "outputs": [
    {
     "output_type": "execute_result",
     "data": {
      "text/plain": "[71]"
     },
     "metadata": {},
     "execution_count": 17
    }
   ],
   "source": [
    "valid_ids"
   ]
  },
  {
   "cell_type": "code",
   "execution_count": 28,
   "metadata": {},
   "outputs": [],
   "source": [
    "id = 20000\n",
    "for i in range(2000):\n",
    "    id += i\n",
    "    URL = f\"https://www.bfro.net/GDB/show_report.asp?id={id}\"\n",
    "    page = requests.get(URL)\n",
    "    soup = BeautifulSoup(page.content, 'html.parser')\n",
    "    if len(soup) == 5:\n",
    "        valid_ids.append(id)"
   ]
  },
  {
   "cell_type": "code",
   "execution_count": 29,
   "metadata": {},
   "outputs": [
    {
     "data": {
      "text/plain": [
       "62"
      ]
     },
     "execution_count": 29,
     "metadata": {},
     "output_type": "execute_result"
    }
   ],
   "source": [
    "len(valid_ids)"
   ]
  },
  {
   "cell_type": "code",
   "execution_count": 12,
   "metadata": {},
   "outputs": [
    {
     "data": {
      "text/plain": [
       "\n",
       "<!DOCTYPE html public \"-//w3c//dtd html 4.0 transitional//en\">\n",
       "\n",
       "<html>\n",
       "<head>\n",
       "<meta content=\"IE=EmulateIE7\" http-equiv=\"X-UA-Compatible\"/>\n",
       "<meta content=\"text/html; charset=utf-8\" http-equiv=\"Content-Type\"/>\n",
       "<meta content=\"bigfoot, big foot, BigFoot, BFRO, Bigfoot research, sightings database, organizations, Organization, sightings, lists, locations, areas, reports, report, ape, apes, forest, giant, giants, monster, monsters, swamp, creek, Florida, Skunk Ape Florida Skuk Ape, Abominable Snowman, Agogwe, Almasti, Batutut-Borneo, Didi, Dwendi, Kakundakari, Kung-Lu, Mapinguary, Muhalu, sasquatch, sasquach, Sedapa, Orang Pendek, Shiru, Sisimite, Skunk Ape, Tok- Burma, Yeti, Yowie, cryptozoology, animals, strange, glowing eyes, foot prints, cast, tracks, fottprint cast, hairy, beast, mystery, paranormal, ufo, x-files, xfiles, bionic woman, sightings, sighting, IVBC, Byrne, report, howl, scream, primate, everglades, Florida Everglades, swamp, Gigantopithecus, missing link, missing, link, anthropology, skunk, monkey, foot, big, encounters, eyewitness reports, North America, Submit a report, reports, Submit an Article, Submit Comments, theories, research projects, track, cast, investigation, hair, microscopy analysis, field research journals, the Gigantopithecus Theory, Sasquatching Equipment, Sasquatching Tips for Collecting Evidence, photograph, tracks, physical evidence, Sounds, Photos\" name=\"KEYWORDS\"/>\n",
       "<!-- Global site tag (gtag.js) - Google Analytics -->\n",
       "<script async=\"\" src=\"https://www.googletagmanager.com/gtag/js?id=UA-151896985-1\"></script>\n",
       "<script>\n",
       "  window.dataLayer = window.dataLayer || [];\n",
       "  function gtag(){dataLayer.push(arguments);}\n",
       "  gtag('js', new Date());\n",
       "\n",
       "  gtag('config', 'UA-151896985-1');\n",
       "</script>\n",
       "<title>BFRO Report 65987: </title>\n",
       "<script language=\"Javascript\" src=\"/fade.js\"></script>\n",
       "<script type=\"text/javascript\">\n",
       "\t\tfunction runLogo() {\n",
       "\t\t\tvar logo = document.getElementById(\"logo\");\n",
       "\t\t\tif(logo != null)\n",
       "\t\t\t{\n",
       "\t\t\t\tlogo.src=logo.src + 'a;'\n",
       "\t\t\t}\n",
       "\t\t}\n",
       "\t\t\n",
       "\t\t</script>\n",
       "<!-- /Flash Browser Detection Script -->\n",
       "<link href=\"/bfro_v2.css\" rel=\"STYLESHEET\" type=\"text/css\"/>\n",
       "<link href=\"http://www.bfro.net/favicon.ico\" rel=\"SHORTCUT ICON\"/>\n",
       "<style type=\"text/css\">\n",
       "\t\t.auto-style1 {\n",
       "\t\t\tborder-width: 0px;\n",
       "\t\t}\n",
       "\t\t</style>\n",
       "</head>\n",
       "<body bgcolor=\"#000000\" leftmargin=\"0\" onload=\"runLogo()\" topmargin=\"0\">\n",
       "<script>\n",
       "\t\t\t<!--\n",
       "\t\t\t\tif (document.images) \n",
       "\t\t\t\t{\n",
       "\t\t\t\t\tb_Media_Articles = new Image();\n",
       "\t\t\t\t\tb_Media_Articles.src = \"/images/templates/b-Media%20Articles_hl.jpg\";\n",
       "\t\t\t\t\tb_Media_Articles_orig = new Image();\n",
       "\t\t\t\t\tb_Media_Articles_orig.src = \"/images/templates/b-Media%20Articles.jpg\";\n",
       "\t\t\t\t\tb_ReportForm = new Image();\n",
       "\t\t\t\t\tb_ReportForm.src = \"/images/templates/b-Report%20Form_hl.jpg\";\n",
       "\t\t\t\t\tb_ReportForm_orig = new Image();\n",
       "\t\t\t\t\tb_ReportForm_orig.src = \"/images/templates/b-Report%20Form.jpg\";\n",
       "\t\t\t\t\tb_Home = new Image();\n",
       "\t\t\t\t\tb_Home.src = \"/images/templates/b-Home_hl.jpg\";\n",
       "\t\t\t\t\tb_Home_orig = new Image();\n",
       "\t\t\t\t\tb_Home_orig.src = \"/images/templates/b-Home.jpg\";\n",
       "\t\t\t\t}\n",
       "\n",
       "\t\t\t\tfunction turnOn(imageName) \n",
       "\t\t\t\t{\n",
       "\t\t\t\t\tif (document.images) \n",
       "\t\t\t\t\t{\n",
       "\t\t\t\t\t\tdocument[imageName].src = eval(imageName + \".src\");  \n",
       "\t\t\t\t\t}\n",
       "\t\t\t\t}\n",
       "\n",
       "\t\t\t\tfunction turnOff(imageName) \n",
       "\t\t\t\t{  \n",
       "\t\t\t\t\tif (document.images) \n",
       "\t\t\t\t\t{\n",
       "\t\t\t\t\t\t\tdocument[imageName].src = eval(imageName + \"_orig.src\");  \n",
       "\t\t\t\t\t}\n",
       "\t\t\t\t}\n",
       "\t\t\t\t-->\n",
       "\t\t\t</script>\n",
       "<script language=\"JavaScript1.2\" src=\"/images/templates/bfro_data.asp\"></script>\n",
       "<script language=\"JavaScript1.2\" src=\"/images/templates/dqm_script.js\"></script>\n",
       "<table align=\"left\" border=\"0\" cellpadding=\"0\" cellspacing=\"0\" width=\"780\">\n",
       "<tr>\n",
       "<td align=\"middle\" valign=\"top\" width=\"130\">\n",
       "<table align=\"left\" border=\"0\" cellpadding=\"0\" cellspacing=\"0\" width=\"130\">\n",
       "<tr>\n",
       "<td align=\"middle\" height=\"130\" width=\"130\">\n",
       "<a href=\"/\"><img alt=\"Bigfoot Field Researchers Organization Logo\" border=\"0\" height=\"130\" id=\"logo\" onmouseover=\"runLogo();\" src=\"/images/templates/LogoSpin.gif?\" width=\"130\"/></a>\n",
       "<noscript> <a href=\"/\"><img alt=\"Bigfoot Field Researchers Organization Logo\" border=\"0\" height=\"130\" onmouseover=\"runLogo();\" src=\"/images/templates/LogoSpin.gif?\" width=\"130\"/></a>\n",
       "</noscript> </td>\n",
       "</tr>\n",
       "<tr>\n",
       "<td align=\"left\" valign=\"top\">\n",
       "<table border=\"0\" cellpadding=\"0\" cellspacing=\"0\">\n",
       "<tr>\n",
       "<td colspan=\"2\"><img height=\"15\" src=\"/images/templates/Outline_01.gif\" width=\"130\"/></td>\n",
       "</tr>\n",
       "<tr>\n",
       "<td><img height=\"20\" src=\"/images/templates/Outline_02.gif\" width=\"15\"/></td>\n",
       "<td><a href=\"/\" onmouseout=\"turnOff('b_Home');\" onmouseover=\"turnOn('b_Home');\"><img border=\"0\" height=\"20\" name=\"b_Home\" src=\"/images/templates/b-Home.jpg\" width=\"130\"/></a></td>\n",
       "</tr>\n",
       "<tr>\n",
       "<td><img height=\"20\" src=\"/images/templates/Outline_02.gif\" width=\"15\"/></td>\n",
       "<td><a href=\"/\"><img border=\"0\" height=\"20\" id=\"menu0\" name=\"menu0\" onmouseout=\"hideMenu(event)\" onmouseover=\"showMenu(event)\" src=\"/images/templates/b-Features.jpg\" width=\"130\"/></a></td>\n",
       "</tr>\n",
       "<tr>\n",
       "<td><img height=\"20\" src=\"/images/templates/Outline_02.gif\" width=\"15\"/></td>\n",
       "<td><a href=\"/GDB/\"><img border=\"0\" height=\"20\" id=\"menu1\" name=\"menu1\" onmouseout=\"hideMenu(event)\" onmouseover=\"showMenu(event)\" src=\"/images/templates/b-Reports.jpg\" width=\"130\"/></a></td>\n",
       "</tr>\n",
       "<tr>\n",
       "<td><img height=\"20\" src=\"/images/templates/Outline_02.gif\" width=\"15\"/></td>\n",
       "<td><a href=\"/GDB/newart.asp\" onmouseout=\"turnOff('b_Media_Articles');\" onmouseover=\"turnOn('b_Media_Articles');\"><img border=\"0\" height=\"20\" name=\"b_Media_Articles\" src=\"/images/templates/b-Media%20Articles.jpg\" width=\"130\"/></a></td>\n",
       "</tr>\n",
       "<tr>\n",
       "<td><img height=\"20\" src=\"/images/templates/Outline_02.gif\" width=\"15\"/></td>\n",
       "<td><a href=\"/GDB/submitfm.asp\" onmouseout=\"turnOff('b_ReportForm');\" onmouseover=\"turnOn('b_ReportForm');\"><img border=\"0\" height=\"20\" name=\"b_ReportForm\" src=\"/images/templates/b-Report%20Form.jpg\" width=\"130\"/></a></td>\n",
       "</tr>\n",
       "<tr>\n",
       "<td><img height=\"20\" src=\"/images/templates/Outline_02.gif\" width=\"15\"/></td>\n",
       "<td><a href=\"/gdb/show_fAQ.asp?id=405\"><img border=\"0\" height=\"20\" id=\"menu2\" name=\"menu2\" onmouseout=\"hideMenu(event)\" onmouseover=\"showMenu(event)\" src=\"/images/templates/b-FAQs.jpg\" width=\"130\"/></a></td>\n",
       "</tr>\n",
       "<tr>\n",
       "<td><img height=\"20\" src=\"/images/templates/Outline_02.gif\" width=\"15\"/></td>\n",
       "<td><a href=\"/GDB/theories.asp\"><img border=\"0\" height=\"20\" id=\"menu3\" name=\"menu3\" onmouseout=\"hideMenu(event)\" onmouseover=\"showMenu(event)\" src=\"/images/templates/b-Departments.jpg\" width=\"130\"/></a></td>\n",
       "</tr>\n",
       "<tr>\n",
       "<td colspan=\"2\"><img height=\"15\" src=\"/images/templates/Outline_05.gif\" width=\"130\"/></td>\n",
       "</tr>\n",
       "</table>\n",
       "</td>\n",
       "</tr>\n",
       "<tr align=\"left\" bordercolor=\"3\">\n",
       "<td style=\"padding-right: 13px; padding-left: 13px; font-size: 10pt\">\n",
       "<div align=\"left\"> <br/>\n",
       "<br/>\n",
       "</div>\n",
       "</td></tr>\n",
       "<tr>\n",
       "<td><br/><br/>\n",
       "<a href=\"http://www.bfro.net/news/roundup/expeds_2020.asp\">\n",
       "<img alt=\"expeds\" border=\"3\" height=\"127\" src=\"http://www.bfro.net/gdb/images/exped_2020_map_sidebar.gif\" width=\"135\"/></a><br/>\n",
       "<!--<br>\n",
       "<br><br>\n",
       "<a href=\"http://www.bfro.net/merchandise/catalog.asp\"><img src=\"http://www.bfro.net/gdb/images/bfro_store_margin_banner.gif\" alt=\"store\" width=\"135\" height=\"81\" border=\"3\"></a>-->\n",
       "<br/>\n",
       "<br/>\n",
       "<a href=\"http://www.bfro.net/merchandise/catalog.asp\"><img alt=\"store\" border=\"3\" height=\"148\" src=\"http://www.bfro.net/gdb/images/margin_icon_store.gif\" width=\"135\"/></a><br/><br/>\n",
       "<div id=\"google_translate_element\"></div><script>\n",
       "function googleTranslateElementInit() {\n",
       "  new google.translate.TranslateElement({\n",
       "    pageLanguage: 'en'\n",
       "  }, 'google_translate_element');\n",
       "}\n",
       "</script><script src=\"//translate.google.com/translate_a/element.js?cb=googleTranslateElementInit\"></script>\n",
       "<br/><!--<a href=\"http://www.bfro.net/news/roundup/georgia.asp\">\n",
       "  <img class=\"auto-style3\" height=\"135\" src=\"http://www.bfro.net/GDB/ReportImages/lnav_GA.jpg\" width=\"135\"></a><br>-->\n",
       "<!--\n",
       "<div class=\"addthis_toolbox addthis_default_style \">\n",
       "<a class=\"addthis_button_preferred_1\"></a>\n",
       "<a class=\"addthis_button_preferred_2\"></a>\n",
       "<a class=\"addthis_button_preferred_3\"></a>\n",
       "<a class=\"addthis_button_preferred_4\"></a>\n",
       "<a class=\"addthis_button_compact\"></a>\n",
       "<a class=\"addthis_counter addthis_bubble_style\"></a>\n",
       "</div>\n",
       "<script type=\"text/javascript\">var addthis_config = {\"data_track_clickback\":true};</script>\n",
       "<script type=\"text/javascript\" src=\"http://s7.addthis.com/js/250/addthis_widget.js#pubid=ra-4e017f48386f7ed9\"></script>\n",
       "-->\n",
       "<!--<a href=\"http://www.bfro.net/news/roundup/tennessee_2020.asp\">\n",
       "\n",
       "<img src=\"http://www.bfro.net/GDB/ReportImages/lnav_TN.jpg\" class=\"auto-style3\"></a>-->\n",
       "<!--<a href=\"http://www.bfro.net/news/roundup/new_jersey.asp\">\n",
       "  <img class=\"auto-style3\" height=\"138\" src=\"http://www.bfro.net/GDB/ReportImages/lnav_NJ.jpg\" width=\"135\"></a>-->\n",
       "<br/><br/><br/><br/><br/>\n",
       "<a href=\"http://www.bfro.net/news/roundup/ohio_photos.asp\">\n",
       "<img class=\"auto-style3\" src=\"http://www.bfro.net/GDB/ReportImages/lnav_OH.jpg\"/></a>\n",
       "<br/><br/><br/><br/>\n",
       "<a href=\"http://www.bfro.net/news/roundup/montana.asp\">\n",
       "<img class=\"auto-style3\" src=\"http://www.bfro.net/GDB/ReportImages/lnav_MT.jpg\"/></a>\n",
       "<br/><br/><br/><br/><br/><a href=\"http://www.bfro.net/news/roundup/new_york_south.asp\">\n",
       "<img class=\"auto-style3\" height=\"161\" src=\"http://www.bfro.net/GDB/ReportImages/lnav_NY.jpg\" width=\"135\"/></a><br/>\n",
       "<br/><br/><a href=\"http://www.bfro.net/news/roundup/tennessee_sept_2020.asp\">\n",
       "<img class=\"auto-style3\" height=\"161\" src=\"http://www.bfro.net/GDB/ReportImages/lnav_TN2.jpg\" width=\"135\"/></a><br/>\n",
       "<br/>\n",
       "<br/><a href=\"http://www.bfro.net/news/roundup/new_jersey.asp\">\n",
       "<img class=\"auto-style3\" height=\"138\" src=\"http://www.bfro.net/GDB/ReportImages/lnav_NJ.jpg\" width=\"135\"/></a><br/><br/><br/>\n",
       "<a href=\"http://www.bfro.net/news/roundup/missouri.asp\">\n",
       "<img class=\"auto-style3\" src=\"http://www.bfro.net/GDB/ReportImages/lnav_MO.jpg\"/></a>\n",
       "<br/><br/><br/><a href=\"http://www.bfro.net/news/roundup/tennessee_2020.asp\">\n",
       "<img class=\"auto-style3\" src=\"http://www.bfro.net/GDB/ReportImages/lnav_TN.jpg\"/></a><br/>\n",
       "<br/><br/><a href=\"http://www.bfro.net/news/roundup/kentucky_2020.asp\">\n",
       "<img class=\"auto-style3\" src=\"http://www.bfro.net/GDB/ReportImages/lnav_KY.jpg\"/></a><br/>\n",
       "</td></tr>\n",
       "</table>\n",
       "<!-- BEGIN CONTENT SECTION -->\n",
       "</td>\n",
       "<td>\n",
       "<img align=\"\" height=\"400\" src=\"/images/templates/spacer.gif\" width=\"1\"/>\n",
       "</td>\n",
       "<td align=\"left\" valign=\"top\">\n",
       "<table bgcolor=\"#003333\" border=\"0\" cellpadding=\"14\" cellspacing=\"5\" id=\"Table1\" width=\"100%\">\n",
       "<tr><td>\n",
       "<!--<img src=\"/images/sighting.jpg\">-->\n",
       "<p><b><font face=\"Arial, Helvetica, sans-serif\" size=\"3\">\n",
       "\t\t\t\t\n",
       "\t\t\t\t      Sorry--Report '65987' was not found.\n",
       "\t\t\t\t\n",
       "      </font></b></p>\n",
       "</td></tr></table></td></tr></table></body></html>"
      ]
     },
     "execution_count": 12,
     "metadata": {},
     "output_type": "execute_result"
    }
   ],
   "source": [
    "soup"
   ]
  },
  {
   "cell_type": "code",
   "execution_count": null,
   "metadata": {},
   "outputs": [],
   "source": []
  }
 ],
 "metadata": {
  "kernelspec": {
   "display_name": "Python 3",
   "language": "python",
   "name": "python3"
  },
  "language_info": {
   "codemirror_mode": {
    "name": "ipython",
    "version": 3
   },
   "file_extension": ".py",
   "mimetype": "text/x-python",
   "name": "python",
   "nbconvert_exporter": "python",
   "pygments_lexer": "ipython3",
   "version": "3.7.7-final"
  }
 },
 "nbformat": 4,
 "nbformat_minor": 4
}
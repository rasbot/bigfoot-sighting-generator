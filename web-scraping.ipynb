{
 "cells": [
  {
   "cell_type": "code",
   "execution_count": 1,
   "metadata": {},
   "outputs": [],
   "source": [
    "import requests\n",
    "from bs4 import BeautifulSoup"
   ]
  },
  {
   "cell_type": "markdown",
   "metadata": {},
   "source": [
    "### Web scraping the bigfoot website"
   ]
  },
  {
   "cell_type": "code",
   "execution_count": 190,
   "metadata": {},
   "outputs": [],
   "source": [
    "def get_data_from_id(id):\n",
    "    \"\"\"parse the URL and store the data in a dictionary\"\"\"\n",
    "    sighting_d = dict()\n",
    "    URL = f\"https://www.bfro.net/GDB/show_report.asp?id={id}\"\n",
    "    page = requests.get(URL)\n",
    "    soup = BeautifulSoup(page.content, 'html.parser')\n",
    "    for br in soup.find_all(\"br\"):\n",
    "        br.replace_with(\" \")\n",
    "    for i in soup.find_all(\"p\"):\n",
    "        split_text = i.getText().split(\": \")\n",
    "        if len(split_text) > 2:\n",
    "            split_text = [split_text[0], ': '.join(split_text[1:])]\n",
    "        if len(split_text) == 2:\n",
    "            sighting_d[split_text[0]] = split_text[1]\n",
    "    return sighting_d"
   ]
  },
  {
   "cell_type": "code",
   "execution_count": 191,
   "metadata": {},
   "outputs": [
    {
     "output_type": "execute_result",
     "data": {
      "text/plain": "{'YEAR': '1993',\n 'SEASON': 'Summer',\n 'MONTH': 'June',\n 'STATE': 'Oregon',\n 'COUNTY': 'Clackamas County',\n 'LOCATION DETAILS': 'At our cabin on Still Creek Rd. Lot 18. Outside Rhododendron.',\n 'NEAREST TOWN': 'Rhododendron',\n 'NEAREST ROAD': 'Highway 26',\n 'OBSERVED': \"About 11 years ago, my fiance and I had a cabin on Mt. Hood in Oregon state. We were in the roofing business and I was sorting out some cedar shakes outside the cabin. I had my Rottweiler tied to a tree. She started growling and looking towards the forest. I looked up and saw something big and hairy step from tree to tree. They have huge cedars in there. It did not register at first what I was seeing, so I yelled for whatever was in there to leave or I would turn the dog loose. It stepped behind another tree and kept doing so repeatedly. I finally called my kids and told them to come out and keep an eye on this thing while I got my work done. (I usually have a Mossberger seni-auto matic shotgun - I did not this day). It was moving in closer and then my boyfriend pulled up and it was gone. It was then that I realized it wasn't a bear we were watching.\",\n 'ALSO NOTICED': 'In winter we found large barefoot tracks in the snow. Would smell a really rotten smell like something dead and come out later and the smell would be gone. The dogs would sit and just stare at the woods. Would hear weird animal noises like a growl and howl together.',\n 'OTHER WITNESSES': '3. My 11 year old daughter, my 11 year old step- son, and myself. They were in the cabin, I was outside sorting shingles.',\n 'OTHER STORIES': 'Yes, the manager of the motel in Rhododendron was hiking with her very large dog and it went after something and dissappeared. They followed the tracks where the prints just stopped like someone picked the dog up which this dog was too big for. Hours later it came home all bloody. It was not bleeding and did not have a mark on it where it fought something. There have been many stories around that particular hiking trail.',\n 'TIME AND CONDITIONS': 'Late afternoon. Sunny day.',\n 'ENVIRONMENT': 'Evergreen forest with large, old-growth cedars. 8 miles below the summit (Government camp).'}"
     },
     "metadata": {},
     "execution_count": 191
    }
   ],
   "source": [
    "get_data_from_id(12216)"
   ]
  },
  {
   "cell_type": "markdown",
   "metadata": {},
   "source": [
    "#### Getting valid URLS\n",
    "\n",
    "The site uses an id for their sightings, and not all ids lead to valid html pages. My first attempt is to brute force look through all id values up to a certain number (in this case, one of the latest sightings has `id=65996`. \n",
    "\n",
    "The following code was used to pull valid ids from the website. The website urls look like:\n",
    "\n",
    "> https://www.bfro.net/GDB/show_report.asp?id=IDNUMBER\n",
    "\n",
    "It appears this ranges from 1 to something around 70,000. This will check each possible id and store valid ones in a text file."
   ]
  },
  {
   "cell_type": "code",
   "execution_count": 9,
   "metadata": {
    "tags": []
   },
   "outputs": [],
   "source": [
    "# valid_ids = []\n",
    "# id_file = open(\"ids.txt\", \"a\")\n",
    "# # id_file.write(\"\\n\")\n",
    "# for i in range(5000,20000):\n",
    "#     URL = f\"https://www.bfro.net/GDB/show_report.asp?id={i}\"\n",
    "#     page = requests.get(URL)\n",
    "#     soup = BeautifulSoup(page.content, 'html.parser')\n",
    "#     if len(soup) == 5:\n",
    "#         id_file.write(str(i)+\"\\n\")\n",
    "#         # print(i)\n",
    "#         valid_ids.append(i)\n",
    "# id_file.close()"
   ]
  },
  {
   "cell_type": "markdown",
   "metadata": {},
   "source": [
    "Opening the file and reading in all the ids:"
   ]
  },
  {
   "cell_type": "code",
   "execution_count": 19,
   "metadata": {},
   "outputs": [],
   "source": [
    "f = open(\"ids.txt\", \"r\")\n",
    "ids = f.read().splitlines()\n",
    "f.close()"
   ]
  },
  {
   "cell_type": "code",
   "execution_count": 21,
   "metadata": {},
   "outputs": [
    {
     "output_type": "execute_result",
     "data": {
      "text/plain": "['60', '70', '76', '77', '80', '81', '83', '85', '89', '96']"
     },
     "metadata": {},
     "execution_count": 21
    }
   ],
   "source": [
    "ids[:10]"
   ]
  },
  {
   "cell_type": "code",
   "execution_count": 38,
   "metadata": {
    "tags": []
   },
   "outputs": [
    {
     "output_type": "stream",
     "name": "stdout",
     "text": "85\n Right off the bat, I'll tell you I'm a 16 year old kid telling absolutely the truth, so god strike me dead. I hope you don't take my report as bogus because of that. Let me explain my situation to you: I live, and have lived, on the Molalla river for most of my life and never thought twice about walking around at night or anywhere period. About 2 months ago, I was alone in my Grandmas house using the computer, when I decided to go home (my house is only about 50 yards away). As I was stepping outside the most hideous feeling of being alone and fear thumped my heart. I kept walking in terror, when all of the sudden about 30 feet off to my right, I heard a loud thumping sound crash out. From there on, being distorted by my act of running faster than I've ever moved before, I could swear I heard the distinctive two-legged footsteps veering toward me from off the trail between houses. I raced in my house, slammed the door, locked it and sat in the living room to calm down from my strange experience.The oddest feelings flushed through me then, and now. Now, before you dismiss my story as a frightened child running from noises, I'll have to tell you of the strange past our 45 acres of land at the end of the Dickey Prairie road has had:\n"
    }
   ],
   "source": [
    "id = ids[7]\n",
    "print(id)\n",
    "print(get_data_from_id(id)[\"OBSERVED:\"])"
   ]
  },
  {
   "cell_type": "code",
   "execution_count": 25,
   "metadata": {},
   "outputs": [],
   "source": [
    "all_sightings_d = dict()\n",
    "for id in ids[:10]:\n",
    "    all_sightings_d[id] = get_data_from_id(id)"
   ]
  },
  {
   "cell_type": "code",
   "execution_count": 28,
   "metadata": {},
   "outputs": [
    {
     "output_type": "execute_result",
     "data": {
      "text/plain": "{'Submitted  by  witness Paul R. on Saturday,\\xa0July\\xa029,\\xa02000.': '\\n',\n 'Late Arriving Campers Hear Running, Stomping, Shrieking, Howling': '\\n',\n 'YEAR:': ' 1983',\n 'SEASON:': ' Summer',\n 'MONTH:': ' August',\n 'DATE:': ' 12',\n 'STATE:': 'Oregon',\n 'COUNTY:': 'Lane County',\n 'LOCATION DETAILS:': ' It was at Kitson Springs, near the Willamette Divide',\n 'NEAREST TOWN:': ' Bend, Oregon',\n 'NEAREST ROAD:': ' State Hwy 58',\n 'OBSERVED:': ' My veterinarian sister, former girlfriend, and myself had been on a road trip and had finished eating dinner at the Sizzler in Bend, when we headed south to find a camping spot for the night. ',\n 'OTHER WITNESSES:': ' 3 persons total.  We were tring to get some sleep.',\n 'OTHER STORIES:': ' On another occaison I had found and photograhed bigfoot prints on the trail at Coffee Creek in the Trinity Alps.  I also have seen literature regarding Sasquatch at the ranger station at Castle Crags Park in northern California.',\n 'TIME AND CONDITIONS:': ' 1:00AM dark, warm evening. clear sky.',\n 'ENVIRONMENT:': ' Forest, mountains and streams'}"
     },
     "metadata": {},
     "execution_count": 28
    }
   ],
   "source": [
    "all_sightings_d[ids[4]]"
   ]
  },
  {
   "cell_type": "code",
   "execution_count": 29,
   "metadata": {},
   "outputs": [
    {
     "output_type": "execute_result",
     "data": {
      "text/plain": "'80'"
     },
     "metadata": {},
     "execution_count": 29
    }
   ],
   "source": [
    "ids[4]"
   ]
  },
  {
   "cell_type": "code",
   "execution_count": 28,
   "metadata": {},
   "outputs": [],
   "source": [
    "id = 20000\n",
    "for i in range(2000):\n",
    "    id += i\n",
    "    URL = f\"https://www.bfro.net/GDB/show_report.asp?id={id}\"\n",
    "    page = requests.get(URL)\n",
    "    soup = BeautifulSoup(page.content, 'html.parser')\n",
    "    if len(soup) == 5:\n",
    "        valid_ids.append(id)\n",
    "    if i % "
   ]
  },
  {
   "cell_type": "code",
   "execution_count": 29,
   "metadata": {},
   "outputs": [
    {
     "data": {
      "text/plain": [
       "62"
      ]
     },
     "execution_count": 29,
     "metadata": {},
     "output_type": "execute_result"
    }
   ],
   "source": [
    "len(valid_ids)"
   ]
  },
  {
   "cell_type": "code",
   "execution_count": 12,
   "metadata": {
    "tags": []
   },
   "outputs": [
    {
     "output_type": "stream",
     "name": "stdout",
     "text": "20000\n21000\n22000\n23000\n24000\n25000\n26000\n27000\n28000\n29000\n"
    }
   ],
   "source": [
    "for i in range(20000,30000):\n",
    "    if i % 1000 == 0:\n",
    "        print(i)"
   ]
  },
  {
   "cell_type": "code",
   "execution_count": null,
   "metadata": {},
   "outputs": [],
   "source": []
  }
 ],
 "metadata": {
  "kernelspec": {
   "display_name": "Python 3",
   "language": "python",
   "name": "python3"
  },
  "language_info": {
   "codemirror_mode": {
    "name": "ipython",
    "version": 3
   },
   "file_extension": ".py",
   "mimetype": "text/x-python",
   "name": "python",
   "nbconvert_exporter": "python",
   "pygments_lexer": "ipython3",
   "version": "3.7.7-final"
  }
 },
 "nbformat": 4,
 "nbformat_minor": 4
}
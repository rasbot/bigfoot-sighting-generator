{
 "cells": [
  {
   "cell_type": "code",
   "execution_count": 1,
   "metadata": {},
   "outputs": [],
   "source": [
    "import requests\n",
    "from bs4 import BeautifulSoup"
   ]
  },
  {
   "cell_type": "markdown",
   "metadata": {},
   "source": [
    "### Web scraping the bigfoot website"
   ]
  },
  {
   "cell_type": "code",
   "execution_count": 2,
   "metadata": {},
   "outputs": [],
   "source": [
    "URL = 'https://www.bfro.net/GDB/show_report.asp?id=1257'\n",
    "page = requests.get(URL)\n",
    "soup = BeautifulSoup(page.content, 'html.parser')\n",
    "features = [item.get_text() for item in soup.select(\"span.field\")]\n",
    "sighting_d = dict()\n",
    "for item in features:\n",
    "    if item == 'STATE:' or item == 'COUNTY:':\n",
    "        sighting_d[item] = soup.find(\"span\", text=item).next_element.next_element.next_element.next_element\n",
    "    else:\n",
    "        sighting_d[item] = soup.find(\"span\", text=item).next_sibling"
   ]
  },
  {
   "cell_type": "code",
   "execution_count": 3,
   "metadata": {},
   "outputs": [
    {
     "output_type": "execute_result",
     "data": {
      "text/plain": "{'Submitted  by  witness   on Sunday,\\xa0May\\xa031,\\xa01998.': '\\n',\n 'Family on their way home see a large, hairy creature cross the road': '\\n',\n 'YEAR:': ' 1998',\n 'SEASON:': ' Spring',\n 'MONTH:': ' May',\n 'DATE:': ' 22',\n 'STATE:': 'Alaska',\n 'COUNTY:': 'Fairbanks County',\n 'LOCATION DETAILS:': ' Fort Wainwright',\n 'OBSERVED:': \" I personally did not see it but a Noncommissioned officer i work with along with his wife, child and hunting buddy were on their way home when according to them a large, hairy about seven foot ape looking thing crossed the road in front of them. From what i could gather none of them are too familiar with bigfoot information. Any way they say it crossed the road which is about thirty-five feet in width in four to five steps it seemed and disappeared into the brush on the other side which leads to a river called the Chena. Both of the guys have been hunting since childhood and are sure they know a bear when they see one. The thing crossed the road on its hind legs and as we all agreed yeah a bear can raise up on its hindlegs and even take a few clumsy steps, but, cross a thirty-five foot road.....naw! They say they even came back later (they were shook) and looked for tracks. He wasn't too sure but says he found some tracks that didn't look like any tracks he was! ! familiar with. They were pointed inward as a person who is what i call pigeon-toed. They heard or saw nothing else but were a bit shook and headed home. The entire story seemed incredible to me because the incident took place on a military installation. I really don't won't to get the guys involved because they fear ridicule. \",\n 'OTHER WITNESSES:': ' They had just picked the buddy up from work.',\n 'ENVIRONMENT:': \" On a road called Trainor Gate road, on the more rural section of it which leads to Birch Hill. Birch Hill is where a lot of us military guys go and ski. Beyond Birch Hill is nothing but wilderness, all around Ft. Wainwright is nothing but wilderness. So on one side of the road (which this part is gravel) is Birch Hill and on the other is Chena River which has the main road of the military post on its other side. The area around the incident is very rugged, with a mixture of vegetation, hills, rocks, etc. There are lots of wildlife in the area also, there's nothing odd about seeing moose or even wolf though bear usually stay clear.\"}"
     },
     "metadata": {},
     "execution_count": 3
    }
   ],
   "source": [
    "sighting_d"
   ]
  },
  {
   "cell_type": "markdown",
   "metadata": {},
   "source": [
    "#### Getting valid URLS\n",
    "\n",
    "The site uses an id for their sightings, and not all ids lead to valid html pages. My first attempt is to brute force look through all id values up to a certain number (in this case, one of the latest sightings has `id=65996`. "
   ]
  },
  {
   "cell_type": "code",
   "execution_count": 5,
   "metadata": {},
   "outputs": [],
   "source": [
    "id_file = open(\"ids.txt\", \"a\")\n",
    "for i in range(100, 110):\n",
    "    id_file.write(str(i)+\"\\n\")\n",
    "id_file.close()"
   ]
  },
  {
   "cell_type": "code",
   "execution_count": null,
   "metadata": {},
   "outputs": [],
   "source": []
  },
  {
   "cell_type": "code",
   "execution_count": 9,
   "metadata": {
    "tags": []
   },
   "outputs": [],
   "source": [
    "valid_ids = []\n",
    "id_file = open(\"ids.txt\", \"a\")\n",
    "# id_file.write(\"\\n\")\n",
    "for i in range(5000,20000):\n",
    "    URL = f\"https://www.bfro.net/GDB/show_report.asp?id={i}\"\n",
    "    page = requests.get(URL)\n",
    "    soup = BeautifulSoup(page.content, 'html.parser')\n",
    "    if len(soup) == 5:\n",
    "        id_file.write(str(i)+\"\\n\")\n",
    "        # print(i)\n",
    "        valid_ids.append(i)\n",
    "id_file.close()"
   ]
  },
  {
   "cell_type": "code",
   "execution_count": 10,
   "metadata": {},
   "outputs": [
    {
     "output_type": "execute_result",
     "data": {
      "text/plain": "[5013,\n 5021,\n 5022,\n 5030,\n 5041,\n 5044,\n 5047,\n 5053,\n 5059,\n 5064,\n 5072,\n 5076,\n 5085,\n 5100,\n 5104,\n 5121,\n 5123,\n 5136,\n 5137,\n 5160,\n 5162,\n 5172,\n 5173,\n 5182,\n 5186,\n 5220,\n 5228,\n 5229,\n 5232,\n 5241,\n 5242,\n 5244,\n 5245,\n 5249,\n 5251,\n 5253,\n 5259,\n 5260,\n 5262,\n 5267,\n 5280,\n 5284,\n 5286,\n 5294,\n 5297,\n 5299,\n 5311,\n 5316,\n 5321,\n 5326,\n 5331,\n 5333,\n 5342,\n 5350,\n 5369,\n 5381,\n 5383,\n 5395,\n 5406,\n 5418,\n 5452,\n 5453,\n 5463,\n 5473,\n 5477,\n 5493,\n 5495,\n 5505,\n 5507,\n 5509,\n 5510,\n 5515,\n 5516,\n 5519,\n 5525,\n 5529,\n 5532,\n 5535,\n 5552,\n 5563,\n 5586,\n 5607,\n 5608,\n 5609,\n 5610,\n 5620,\n 5623,\n 5627,\n 5637,\n 5641,\n 5649,\n 5650,\n 5652,\n 5674,\n 5678,\n 5681,\n 5685,\n 5692,\n 5694,\n 5697,\n 5702,\n 5703,\n 5720,\n 5725,\n 5742,\n 5767,\n 5770,\n 5771,\n 5778,\n 5791,\n 5801,\n 5813,\n 5816,\n 5817,\n 5873,\n 5875,\n 5881,\n 5884,\n 5909,\n 5929,\n 5953,\n 5954,\n 5977,\n 5996,\n 6007,\n 6020,\n 6027,\n 6037,\n 6058,\n 6062,\n 6094,\n 6097,\n 6130,\n 6147,\n 6160,\n 6164,\n 6170,\n 6178,\n 6186,\n 6194,\n 6201,\n 6210,\n 6232,\n 6233,\n 6235,\n 6249,\n 6267,\n 6303,\n 6304,\n 6309,\n 6313,\n 6330,\n 6347,\n 6384,\n 6391,\n 6394,\n 6406,\n 6410,\n 6417,\n 6418,\n 6419,\n 6420,\n 6421,\n 6425,\n 6429,\n 6441,\n 6443,\n 6444,\n 6445,\n 6448,\n 6449,\n 6461,\n 6462,\n 6463,\n 6470,\n 6478,\n 6486,\n 6496,\n 6513,\n 6520,\n 6521,\n 6527,\n 6530,\n 6534,\n 6538,\n 6541,\n 6552,\n 6559,\n 6579,\n 6583,\n 6584,\n 6620,\n 6623,\n 6631,\n 6632,\n 6638,\n 6639,\n 6643,\n 6644,\n 6651,\n 6655,\n 6656,\n 6668,\n 6695,\n 6700,\n 6706,\n 6708,\n 6712,\n 6722,\n 6724,\n 6734,\n 6737,\n 6746,\n 6755,\n 6758,\n 6775,\n 6782,\n 6785,\n 6804,\n 6806,\n 6814,\n 6820,\n 6824,\n 6829,\n 6831,\n 6833,\n 6836,\n 6848,\n 6854,\n 6864,\n 6868,\n 6875,\n 6900,\n 6922,\n 6929,\n 6932,\n 6937,\n 6938,\n 6941,\n 6946,\n 6950,\n 6951,\n 6960,\n 6961,\n 6962,\n 6963,\n 6971,\n 6983,\n 6990,\n 6992,\n 7003,\n 7004,\n 7023,\n 7026,\n 7031,\n 7036,\n 7038,\n 7045,\n 7059,\n 7062,\n 7077,\n 7085,\n 7088,\n 7096,\n 7097,\n 7109,\n 7113,\n 7115,\n 7117,\n 7124,\n 7133,\n 7137,\n 7139,\n 7146,\n 7148,\n 7159,\n 7168,\n 7180,\n 7181,\n 7185,\n 7188,\n 7205,\n 7209,\n 7211,\n 7215,\n 7220,\n 7224,\n 7225,\n 7229,\n 7231,\n 7232,\n 7234,\n 7235,\n 7236,\n 7237,\n 7239,\n 7241,\n 7246,\n 7250,\n 7263,\n 7272,\n 7275,\n 7294,\n 7298,\n 7299,\n 7300,\n 7303,\n 7326,\n 7331,\n 7334,\n 7336,\n 7352,\n 7353,\n 7356,\n 7363,\n 7366,\n 7368,\n 7382,\n 7386,\n 7392,\n 7393,\n 7394,\n 7399,\n 7406,\n 7408,\n 7416,\n 7421,\n 7425,\n 7427,\n 7431,\n 7436,\n 7437,\n 7439,\n 7441,\n 7452,\n 7455,\n 7456,\n 7464,\n 7473,\n 7474,\n 7481,\n 7483,\n 7493,\n 7495,\n 7504,\n 7505,\n 7512,\n 7514,\n 7519,\n 7521,\n 7534,\n 7537,\n 7546,\n 7548,\n 7552,\n 7555,\n 7558,\n 7562,\n 7566,\n 7567,\n 7568,\n 7575,\n 7580,\n 7593,\n 7597,\n 7604,\n 7614,\n 7627,\n 7632,\n 7637,\n 7642,\n 7649,\n 7651,\n 7652,\n 7653,\n 7658,\n 7662,\n 7664,\n 7669,\n 7670,\n 7671,\n 7676,\n 7679,\n 7687,\n 7692,\n 7702,\n 7709,\n 7715,\n 7718,\n 7727,\n 7731,\n 7758,\n 7759,\n 7766,\n 7771,\n 7773,\n 7776,\n 7778,\n 7785,\n 7789,\n 7792,\n 7800,\n 7802,\n 7803,\n 7804,\n 7809,\n 7815,\n 7823,\n 7827,\n 7830,\n 7832,\n 7835,\n 7836,\n 7860,\n 7864,\n 7865,\n 7870,\n 7872,\n 7884,\n 7890,\n 7904,\n 7907,\n 7909,\n 7911,\n 7932,\n 7936,\n 7939,\n 7940,\n 7943,\n 7954,\n 7957,\n 7963,\n 7967,\n 7969,\n 7971,\n 7973,\n 7988,\n 7993,\n 7995,\n 8000,\n 8006,\n 8017,\n 8022,\n 8025,\n 8026,\n 8038,\n 8039,\n 8042,\n 8059,\n 8060,\n 8064,\n 8067,\n 8069,\n 8083,\n 8086,\n 8107,\n 8108,\n 8116,\n 8117,\n 8121,\n 8130,\n 8135,\n 8165,\n 8171,\n 8183,\n 8184,\n 8187,\n 8197,\n 8226,\n 8227,\n 8234,\n 8236,\n 8251,\n 8259,\n 8289,\n 8305,\n 8316,\n 8339,\n 8345,\n 8351,\n 8375,\n 8376,\n 8381,\n 8389,\n 8392,\n 8394,\n 8405,\n 8406,\n 8407,\n 8409,\n 8417,\n 8420,\n 8429,\n 8435,\n 8438,\n 8441,\n 8446,\n 8450,\n 8451,\n 8454,\n 8456,\n 8460,\n 8463,\n 8487,\n 8494,\n 8502,\n 8514,\n 8517,\n 8527,\n 8530,\n 8532,\n 8543,\n 8547,\n 8549,\n 8561,\n 8576,\n 8587,\n 8591,\n 8595,\n 8597,\n 8598,\n 8621,\n 8633,\n 8635,\n 8650,\n 8670,\n 8678,\n 8679,\n 8680,\n 8685,\n 8689,\n 8696,\n 8715,\n 8717,\n 8728,\n 8729,\n 8730,\n 8732,\n 8735,\n 8745,\n 8748,\n 8757,\n 8777,\n 8778,\n 8784,\n 8785,\n 8790,\n 8792,\n 8796,\n 8797,\n 8804,\n 8811,\n 8819,\n 8832,\n 8836,\n 8843,\n 8857,\n 8861,\n 8868,\n 8880,\n 8888,\n 8890,\n 8896,\n 8904,\n 8905,\n 8913,\n 8921,\n 8944,\n 8948,\n 8953,\n 8972,\n 8978,\n 8983,\n 8986,\n 8999,\n 9001,\n 9005,\n 9009,\n 9012,\n 9018,\n 9020,\n 9022,\n 9036,\n 9038,\n 9042,\n 9046,\n 9047,\n 9051,\n 9069,\n 9089,\n 9096,\n 9109,\n 9113,\n 9121,\n 9128,\n 9129,\n 9137,\n 9142,\n 9168,\n 9169,\n 9174,\n 9175,\n 9188,\n 9197,\n 9202,\n 9204,\n 9212,\n 9218,\n 9228,\n 9231,\n 9245,\n 9248,\n 9253,\n 9254,\n 9267,\n 9274,\n 9276,\n 9277,\n 9281,\n 9282,\n 9283,\n 9286,\n 9289,\n 9295,\n 9296,\n 9305,\n 9312,\n 9313,\n 9315,\n 9317,\n 9352,\n 9353,\n 9357,\n 9367,\n 9368,\n 9373,\n 9376,\n 9385,\n 9387,\n 9391,\n 9392,\n 9393,\n 9407,\n 9426,\n 9436,\n 9438,\n 9439,\n 9447,\n 9465,\n 9475,\n 9495,\n 9502,\n 9506,\n 9507,\n 9510,\n 9516,\n 9534,\n 9537,\n 9544,\n 9545,\n 9546,\n 9547,\n 9552,\n 9555,\n 9567,\n 9568,\n 9604,\n 9607,\n 9627,\n 9642,\n 9648,\n 9654,\n 9661,\n 9665,\n 9670,\n 9683,\n 9694,\n 9712,\n 9717,\n 9723,\n 9750,\n 9753,\n 9759,\n 9765,\n 9766,\n 9778,\n 9785,\n 9796,\n 9797,\n 9810,\n 9811,\n 9818,\n 9819,\n 9840,\n 9842,\n 9850,\n 9853,\n 9862,\n 9863,\n 9867,\n 9868,\n 9869,\n 9872,\n 9873,\n 9876,\n 9879,\n 9885,\n 9898,\n 9918,\n 9924,\n 9929,\n 9941,\n 9944,\n 9946,\n 9954,\n 9962,\n 9980,\n 9992,\n 10001,\n 10006,\n 10012,\n 10024,\n 10034,\n 10037,\n 10046,\n 10062,\n 10074,\n 10082,\n 10091,\n 10093,\n 10095,\n 10097,\n 10114,\n 10119,\n 10123,\n 10126,\n 10127,\n 10136,\n 10151,\n 10153,\n 10157,\n 10192,\n 10197,\n 10220,\n 10234,\n 10239,\n 10249,\n 10251,\n 10258,\n 10260,\n 10265,\n 10266,\n 10272,\n 10273,\n 10277,\n 10279,\n 10284,\n 10289,\n 10308,\n 10324,\n 10330,\n 10349,\n 10354,\n 10357,\n 10397,\n 10407,\n 10421,\n 10422,\n 10438,\n 10445,\n 10446,\n 10470,\n 10486,\n 10498,\n 10501,\n 10505,\n 10506,\n 10509,\n 10510,\n 10533,\n 10535,\n 10538,\n 10556,\n 10572,\n 10591,\n 10595,\n 10597,\n 10608,\n 10609,\n 10611,\n 10620,\n 10623,\n 10632,\n 10633,\n 10646,\n 10653,\n 10660,\n 10678,\n 10687,\n 10718,\n 10729,\n 10733,\n 10734,\n 10740,\n 10765,\n 10766,\n 10771,\n 10775,\n 10776,\n 10778,\n 10783,\n 10797,\n 10800,\n 10805,\n 10814,\n 10829,\n 10855,\n 10861,\n 10863,\n 10864,\n 10867,\n 10874,\n 10877,\n 10878,\n 10879,\n 10881,\n 10883,\n 10889,\n 10892,\n 10904,\n 10910,\n 10913,\n 10918,\n 10919,\n 10925,\n 10927,\n 10928,\n 10934,\n 10945,\n 10948,\n 10960,\n 10974,\n 10977,\n 10980,\n 11016,\n 11026,\n 11030,\n 11040,\n 11070,\n 11089,\n 11109,\n 11121,\n 11137,\n 11147,\n 11156,\n 11162,\n 11168,\n 11170,\n 11186,\n 11228,\n 11248,\n 11252,\n 11260,\n 11273,\n 11295,\n 11304,\n 11313,\n 11324,\n 11325,\n 11328,\n 11387,\n 11389,\n 11407,\n 11430,\n 11432,\n 11439,\n 11449,\n 11451,\n 11453,\n 11487,\n 11493,\n 11496,\n 11506,\n 11514,\n 11519,\n 11526,\n 11543,\n 11549,\n 11554,\n 11570,\n 11576,\n 11589,\n 11592,\n 11595,\n 11616,\n 11630,\n 11632,\n 11635,\n 11656,\n 11682,\n 11687,\n 11688,\n 11702,\n 11726,\n 11765,\n 11771,\n 11786,\n 11797,\n 11807,\n 11812,\n 11818,\n 11823,\n 11828,\n 11831,\n 11837,\n 11841,\n 11858,\n 11886,\n 11897,\n 11911,\n 11915,\n 11918,\n 11927,\n 11930,\n 11946,\n 11948,\n 11956,\n 11966,\n 11976,\n 11986,\n 11987,\n 11992,\n 11998,\n 12001,\n 12019,\n 12021,\n 12034,\n 12054,\n 12065,\n 12067,\n 12068,\n 12087,\n 12088,\n 12098,\n 12100,\n 12122,\n 12138,\n 12140,\n 12156,\n 12157,\n 12158,\n 12165,\n 12204,\n 12205,\n 12214,\n 12216,\n 12220,\n 12247,\n 12266,\n 12271,\n 12289,\n 12290,\n 12292,\n 12294,\n 12302,\n 12314,\n 12328,\n 12333,\n 12335,\n 12351,\n 12383,\n 12388,\n 12396,\n 12405,\n 12418,\n 12439,\n 12451,\n 12470,\n 12482,\n 12510,\n 12518,\n 12523,\n 12528,\n 12542,\n 12562,\n 12576,\n 12587,\n 12594,\n 12597,\n 12601,\n 12628,\n 12636,\n 12640,\n 12641,\n 12647,\n 12649,\n 12655,\n 12669,\n 12689,\n 12703,\n ...]"
     },
     "metadata": {},
     "execution_count": 10
    }
   ],
   "source": [
    "valid_ids"
   ]
  },
  {
   "cell_type": "code",
   "execution_count": 28,
   "metadata": {},
   "outputs": [],
   "source": [
    "id = 20000\n",
    "for i in range(2000):\n",
    "    id += i\n",
    "    URL = f\"https://www.bfro.net/GDB/show_report.asp?id={id}\"\n",
    "    page = requests.get(URL)\n",
    "    soup = BeautifulSoup(page.content, 'html.parser')\n",
    "    if len(soup) == 5:\n",
    "        valid_ids.append(id)\n",
    "    if i % "
   ]
  },
  {
   "cell_type": "code",
   "execution_count": 29,
   "metadata": {},
   "outputs": [
    {
     "data": {
      "text/plain": [
       "62"
      ]
     },
     "execution_count": 29,
     "metadata": {},
     "output_type": "execute_result"
    }
   ],
   "source": [
    "len(valid_ids)"
   ]
  },
  {
   "cell_type": "code",
   "execution_count": 12,
   "metadata": {
    "tags": []
   },
   "outputs": [
    {
     "output_type": "stream",
     "name": "stdout",
     "text": "20000\n21000\n22000\n23000\n24000\n25000\n26000\n27000\n28000\n29000\n"
    }
   ],
   "source": [
    "for i in range(20000,30000):\n",
    "    if i % 1000 == 0:\n",
    "        print(i)"
   ]
  },
  {
   "cell_type": "code",
   "execution_count": null,
   "metadata": {},
   "outputs": [],
   "source": []
  }
 ],
 "metadata": {
  "kernelspec": {
   "display_name": "Python 3",
   "language": "python",
   "name": "python3"
  },
  "language_info": {
   "codemirror_mode": {
    "name": "ipython",
    "version": 3
   },
   "file_extension": ".py",
   "mimetype": "text/x-python",
   "name": "python",
   "nbconvert_exporter": "python",
   "pygments_lexer": "ipython3",
   "version": "3.7.7-final"
  }
 },
 "nbformat": 4,
 "nbformat_minor": 4
}
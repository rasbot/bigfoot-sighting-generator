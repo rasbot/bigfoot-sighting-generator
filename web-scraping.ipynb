{
 "cells": [
  {
   "cell_type": "code",
   "execution_count": 1,
   "metadata": {},
   "outputs": [],
   "source": [
    "import requests\n",
    "from bs4 import BeautifulSoup"
   ]
  },
  {
   "cell_type": "markdown",
   "metadata": {},
   "source": [
    "### Web scraping the bigfoot website"
   ]
  },
  {
   "cell_type": "code",
   "execution_count": null,
   "metadata": {},
   "outputs": [],
   "source": [
    "/html/body/table/tbody/tr[1]/td[3]/table/tbody/tr/td/p[10]/text()[2]"
   ]
  },
  {
   "cell_type": "code",
   "execution_count": 77,
   "metadata": {
    "tags": []
   },
   "outputs": [
    {
     "output_type": "execute_result",
     "data": {
      "text/plain": "'\\nOBSERVED:\\n        \"Hi, my name is fuckface. I like pizza.\"\\n        \\n\\n        \"Maybe I should go to the moon?\"\\n        \\n\\n'"
     },
     "metadata": {},
     "execution_count": 77
    }
   ],
   "source": [
    "html = \"\"\"\n",
    "<p>\n",
    "    <span class=\"field\">OBSERVED:</span>\n",
    "        \"Hi, my name is fuckface. I like pizza.\"\n",
    "        <br>\n",
    "        <br>\n",
    "        \"Maybe I should go to the moon?\"\n",
    "        <br>\n",
    "        <br>\n",
    "</p>\"\"\"\n",
    "soup = BeautifulSoup(html)\n",
    "soup.find(\"p\").getText()"
   ]
  },
  {
   "cell_type": "code",
   "execution_count": 82,
   "metadata": {
    "tags": []
   },
   "outputs": [],
   "source": [
    "URL = 'https://www.bfro.net/GDB/show_report.asp?id=85'\n",
    "page = requests.get(URL)\n",
    "soup = BeautifulSoup(page.content, 'html.parser')\n",
    "features = [item.get_text() for item in soup.select(\"span.field\")]\n",
    "sighting_d = dict()\n",
    "for blerg in soup.find_all(\"p\"):\n",
    "    sighting_d[blerg] = blerg.getText()\n",
    "# for item in features:\n",
    "#     if item == 'STATE:' or item == 'COUNTY:':\n",
    "#         sighting_d[item] = soup.find(\"span\", text=item).next_element.next_element.next_element.next_element\n",
    "#     else:\n",
    "#         sighting_d[item] = soup.find(\"span\", text=item).next_sibling"
   ]
  },
  {
   "cell_type": "code",
   "execution_count": 83,
   "metadata": {},
   "outputs": [
    {
     "output_type": "execute_result",
     "data": {
      "text/plain": "{<p><span class=\"field\">YEAR:</span> 2000</p>: 'YEAR: 2000',\n <p><span class=\"field\">SEASON:</span> Spring</p>: 'SEASON: Spring',\n <p><span class=\"field\">MONTH:</span> June</p>: 'MONTH: June',\n <p><span class=\"field\">DATE:</span> ?</p>: 'DATE: ?',\n <p><span class=\"field\">STATE:</span> <a href=\"/GDB/state_listing.asp?state=OR\">Oregon</a></p>: 'STATE: Oregon',\n <p><span class=\"field\">COUNTY:</span> <a href=\"/GDB/show_county_reports.asp?state=OR&amp;county=Clackamas\">Clackamas County</a></p>: 'COUNTY: Clackamas County',\n <p><span class=\"field\">LOCATION DETAILS:</span> It occured between two houses on our property, fairly wooded area.</p>: 'LOCATION DETAILS: It occured between two houses on our property, fairly wooded area.',\n <p><span class=\"field\">NEAREST TOWN:</span> Molalla</p>: 'NEAREST TOWN: Molalla',\n <p><span class=\"field\">NEAREST ROAD:</span> Dickey Prairie road</p>: 'NEAREST ROAD: Dickey Prairie road',\n <p><span class=\"field\">OBSERVED:</span> Right off the bat, I'll tell you I'm a 16 year old kid telling absolutely the truth, so god strike me dead. I hope you don't take my report as bogus because of that. Let me explain my situation to you: I live, and have lived, on the Molalla river for most of my life and never thought twice about walking around at night or anywhere period. About 2 months ago, I was alone in my Grandmas house using the computer, when I decided to go home (my house is only about 50 yards away). As I was stepping outside the most hideous feeling of being alone and fear thumped my heart. I kept walking in terror, when all of the sudden about 30 feet off to my right, I heard a loud thumping sound crash out. From there on, being distorted by my act of running faster than I've ever moved before, I could swear I heard the distinctive two-legged footsteps veering toward me from off the trail between houses. I raced in my house, slammed the door, locked it and sat in the living room to calm down from my strange experience.The oddest feelings flushed through me then, and now. Now, before you dismiss my story as a frightened child running from noises, I'll have to tell you of the strange past our 45 acres of land at the end of the Dickey Prairie road has had:<br/><br/>Around three years ago, when we had cattle and cows fenced on our property, I noticed casually how they would always stay together and go near the barns at night. Then one day we discovered two of them killed up in the woods by the drinking creek. The killings weren't average killings either. The cows didn't have a scratch on them, both had broken necks and their eyeballs sucked cleanly out. Since those experiences, I'm now scared to go hiking and travel at night. Yes, average signs of fear, but I have the weird feeling of being an 'Intruder'. Thank you for your time sincerely, Shawn Murray<br/><br/>p.s. I'm a believer.<br/></p>: \"OBSERVED: Right off the bat, I'll tell you I'm a 16 year old kid telling absolutely the truth, so god strike me dead. I hope you don't take my report as bogus because of that. Let me explain my situation to you: I live, and have lived, on the Molalla river for most of my life and never thought twice about walking around at night or anywhere period. About 2 months ago, I was alone in my Grandmas house using the computer, when I decided to go home (my house is only about 50 yards away). As I was stepping outside the most hideous feeling of being alone and fear thumped my heart. I kept walking in terror, when all of the sudden about 30 feet off to my right, I heard a loud thumping sound crash out. From there on, being distorted by my act of running faster than I've ever moved before, I could swear I heard the distinctive two-legged footsteps veering toward me from off the trail between houses. I raced in my house, slammed the door, locked it and sat in the living room to calm down from my strange experience.The oddest feelings flushed through me then, and now. Now, before you dismiss my story as a frightened child running from noises, I'll have to tell you of the strange past our 45 acres of land at the end of the Dickey Prairie road has had:Around three years ago, when we had cattle and cows fenced on our property, I noticed casually how they would always stay together and go near the barns at night. Then one day we discovered two of them killed up in the woods by the drinking creek. The killings weren't average killings either. The cows didn't have a scratch on them, both had broken necks and their eyeballs sucked cleanly out. Since those experiences, I'm now scared to go hiking and travel at night. Yes, average signs of fear, but I have the weird feeling of being an 'Intruder'. Thank you for your time sincerely, Shawn Murrayp.s. I'm a believer.\",\n <p><span class=\"field\">ALSO NOTICED:</span> Before the incident (about 2 years) 2 cows were killed, and ever since it happened, there's a strange silence at night and my mom was awakened by something \"banging on the house\".</p>: 'ALSO NOTICED: Before the incident (about 2 years) 2 cows were killed, and ever since it happened, there\\'s a strange silence at night and my mom was awakened by something \"banging on the house\".',\n <p><span class=\"field\">OTHER WITNESSES:</span> Only one--me. I told my brother and stepdad when I ran in the house. Before the incident I was typing on the computer.</p>: 'OTHER WITNESSES: Only one--me. I told my brother and stepdad when I ran in the house. Before the incident I was typing on the computer.',\n <p><span class=\"field\">OTHER STORIES:</span> When I was in 4th grade, my friend Heather and her brother were taking out some garbage when they saw \"a giant white monkey\" walk up the hill and away from the trash cans. They lived about 5 miles away and moved to texas about 6 months after that happened. It scared them so badly that they slept with their mom and dad in fear. And about 5 years ago, I heard that some big investigators came to look at some tracks across the Molalla River from where I live.</p>: 'OTHER STORIES: When I was in 4th grade, my friend Heather and her brother were taking out some garbage when they saw \"a giant white monkey\" walk up the hill and away from the trash cans. They lived about 5 miles away and moved to texas about 6 months after that happened. It scared them so badly that they slept with their mom and dad in fear. And about 5 years ago, I heard that some big investigators came to look at some tracks across the Molalla River from where I live.',\n <p><span class=\"field\">TIME AND CONDITIONS:</span> Dark out, about midnight, cloudy, starless skys.</p>: 'TIME AND CONDITIONS: Dark out, about midnight, cloudy, starless skys.',\n <p><span class=\"field\">ENVIRONMENT:</span> It happened inbetween my grandma's house and my house, towards the opening of our big field, in and around where we stack firewood. A large area full of pine trees.</p>: \"ENVIRONMENT: It happened inbetween my grandma's house and my house, towards the opening of our big field, in and around where we stack firewood. A large area full of pine trees.\",\n <p>Follow-up investigation report:</p>: 'Follow-up investigation report:',\n <p>The witness is confident that what he experienced was a sasquatch following, if not chasing, him back to his house. He told me that the thumping, which he at first thought was someone stealing firewood, sounded like bipedal steps. He likened it to \"being chased by a thousand pound man\" when he started running. At the time this happened, there was a musky smell in the area.<br/><br/>He also told me of other incidents. One, about a year before this, when something frightened his younger brother while the two of them were hunting on their property. His brother maintains that what he saw was a young sasquatch, Shawn told me he didn't get a clear view. Another involved something getting into their garbage. The refuse was placed in a trailer and covered with a tarp, which was then weighted down with blocks of wood. In order to get into it, something had strewn the wood 15-25 ft. from the trailer and rolled back the tarp. Ripped open bags were found in a field on the property. A third thing he talked about were vocalizations he and his stepfather heard at night. He described them as booming, echoing whoops.<br/><br/>The witness and his family have since moved from this location.</p>: 'The witness is confident that what he experienced was a sasquatch following, if not chasing, him back to his house. He told me that the thumping, which he at first thought was someone stealing firewood, sounded like bipedal steps. He likened it to \"being chased by a thousand pound man\" when he started running. At the time this happened, there was a musky smell in the area.He also told me of other incidents. One, about a year before this, when something frightened his younger brother while the two of them were hunting on their property. His brother maintains that what he saw was a young sasquatch, Shawn told me he didn\\'t get a clear view. Another involved something getting into their garbage. The refuse was placed in a trailer and covered with a tarp, which was then weighted down with blocks of wood. In order to get into it, something had strewn the wood 15-25 ft. from the trailer and rolled back the tarp. Ripped open bags were found in a field on the property. A third thing he talked about were vocalizations he and his stepfather heard at night. He described them as booming, echoing whoops.The witness and his family have since moved from this location.'}"
     },
     "metadata": {},
     "execution_count": 83
    }
   ],
   "source": [
    "sighting_d[]"
   ]
  },
  {
   "cell_type": "markdown",
   "metadata": {},
   "source": [
    "#### Getting valid URLS\n",
    "\n",
    "The site uses an id for their sightings, and not all ids lead to valid html pages. My first attempt is to brute force look through all id values up to a certain number (in this case, one of the latest sightings has `id=65996`. "
   ]
  },
  {
   "cell_type": "code",
   "execution_count": 5,
   "metadata": {},
   "outputs": [],
   "source": [
    "# id_file = open(\"ids.txt\", \"a\")\n",
    "# for i in range(100, 110):\n",
    "#     id_file.write(str(i)+\"\\n\")\n",
    "# id_file.close()"
   ]
  },
  {
   "cell_type": "markdown",
   "metadata": {},
   "source": [
    "The following code was used to pull valid ids from the website. The website urls look like:\n",
    "\n",
    "> https://www.bfro.net/GDB/show_report.asp?id=IDNUMBER\n",
    "\n",
    "It appears this ranges from 1 to something around 70,000. This will check each possible id and store valid ones in a text file."
   ]
  },
  {
   "cell_type": "code",
   "execution_count": 9,
   "metadata": {
    "tags": []
   },
   "outputs": [],
   "source": [
    "# valid_ids = []\n",
    "# id_file = open(\"ids.txt\", \"a\")\n",
    "# # id_file.write(\"\\n\")\n",
    "# for i in range(5000,20000):\n",
    "#     URL = f\"https://www.bfro.net/GDB/show_report.asp?id={i}\"\n",
    "#     page = requests.get(URL)\n",
    "#     soup = BeautifulSoup(page.content, 'html.parser')\n",
    "#     if len(soup) == 5:\n",
    "#         id_file.write(str(i)+\"\\n\")\n",
    "#         # print(i)\n",
    "#         valid_ids.append(i)\n",
    "# id_file.close()"
   ]
  },
  {
   "cell_type": "markdown",
   "metadata": {},
   "source": [
    "Opening the file and reading in all the ids:"
   ]
  },
  {
   "cell_type": "code",
   "execution_count": 19,
   "metadata": {},
   "outputs": [],
   "source": [
    "f = open(\"ids.txt\", \"r\")\n",
    "ids = f.read().splitlines()\n",
    "f.close()"
   ]
  },
  {
   "cell_type": "code",
   "execution_count": 21,
   "metadata": {},
   "outputs": [
    {
     "output_type": "execute_result",
     "data": {
      "text/plain": "['60', '70', '76', '77', '80', '81', '83', '85', '89', '96']"
     },
     "metadata": {},
     "execution_count": 21
    }
   ],
   "source": [
    "ids[:10]"
   ]
  },
  {
   "cell_type": "code",
   "execution_count": 23,
   "metadata": {},
   "outputs": [],
   "source": [
    "def get_data_from_id(id):\n",
    "    \"\"\"parse the URL and store the data in a dictionary\"\"\"\n",
    "    sighting_d = dict()\n",
    "    URL = f\"https://www.bfro.net/GDB/show_report.asp?id={id}\"\n",
    "    page = requests.get(URL)\n",
    "    soup = BeautifulSoup(page.content, 'html.parser')\n",
    "    features = [item.get_text() for item in soup.select(\"span.field\")]\n",
    "    sighting_d = dict()\n",
    "    for item in features:\n",
    "        if item == 'STATE:' or item == 'COUNTY:':\n",
    "            sighting_d[item] = soup.find(\"span\", text=item).next_element.next_element.next_element.next_element\n",
    "        else:\n",
    "            sighting_d[item] = soup.find(\"span\", text=item).next_sibling\n",
    "    return sighting_d"
   ]
  },
  {
   "cell_type": "code",
   "execution_count": 38,
   "metadata": {
    "tags": []
   },
   "outputs": [
    {
     "output_type": "stream",
     "name": "stdout",
     "text": "85\n Right off the bat, I'll tell you I'm a 16 year old kid telling absolutely the truth, so god strike me dead. I hope you don't take my report as bogus because of that. Let me explain my situation to you: I live, and have lived, on the Molalla river for most of my life and never thought twice about walking around at night or anywhere period. About 2 months ago, I was alone in my Grandmas house using the computer, when I decided to go home (my house is only about 50 yards away). As I was stepping outside the most hideous feeling of being alone and fear thumped my heart. I kept walking in terror, when all of the sudden about 30 feet off to my right, I heard a loud thumping sound crash out. From there on, being distorted by my act of running faster than I've ever moved before, I could swear I heard the distinctive two-legged footsteps veering toward me from off the trail between houses. I raced in my house, slammed the door, locked it and sat in the living room to calm down from my strange experience.The oddest feelings flushed through me then, and now. Now, before you dismiss my story as a frightened child running from noises, I'll have to tell you of the strange past our 45 acres of land at the end of the Dickey Prairie road has had:\n"
    }
   ],
   "source": [
    "id = ids[7]\n",
    "print(id)\n",
    "print(get_data_from_id(id)[\"OBSERVED:\"])"
   ]
  },
  {
   "cell_type": "code",
   "execution_count": 25,
   "metadata": {},
   "outputs": [],
   "source": [
    "all_sightings_d = dict()\n",
    "for id in ids[:10]:\n",
    "    all_sightings_d[id] = get_data_from_id(id)"
   ]
  },
  {
   "cell_type": "code",
   "execution_count": 28,
   "metadata": {},
   "outputs": [
    {
     "output_type": "execute_result",
     "data": {
      "text/plain": "{'Submitted  by  witness Paul R. on Saturday,\\xa0July\\xa029,\\xa02000.': '\\n',\n 'Late Arriving Campers Hear Running, Stomping, Shrieking, Howling': '\\n',\n 'YEAR:': ' 1983',\n 'SEASON:': ' Summer',\n 'MONTH:': ' August',\n 'DATE:': ' 12',\n 'STATE:': 'Oregon',\n 'COUNTY:': 'Lane County',\n 'LOCATION DETAILS:': ' It was at Kitson Springs, near the Willamette Divide',\n 'NEAREST TOWN:': ' Bend, Oregon',\n 'NEAREST ROAD:': ' State Hwy 58',\n 'OBSERVED:': ' My veterinarian sister, former girlfriend, and myself had been on a road trip and had finished eating dinner at the Sizzler in Bend, when we headed south to find a camping spot for the night. ',\n 'OTHER WITNESSES:': ' 3 persons total.  We were tring to get some sleep.',\n 'OTHER STORIES:': ' On another occaison I had found and photograhed bigfoot prints on the trail at Coffee Creek in the Trinity Alps.  I also have seen literature regarding Sasquatch at the ranger station at Castle Crags Park in northern California.',\n 'TIME AND CONDITIONS:': ' 1:00AM dark, warm evening. clear sky.',\n 'ENVIRONMENT:': ' Forest, mountains and streams'}"
     },
     "metadata": {},
     "execution_count": 28
    }
   ],
   "source": [
    "all_sightings_d[ids[4]]"
   ]
  },
  {
   "cell_type": "code",
   "execution_count": 29,
   "metadata": {},
   "outputs": [
    {
     "output_type": "execute_result",
     "data": {
      "text/plain": "'80'"
     },
     "metadata": {},
     "execution_count": 29
    }
   ],
   "source": [
    "ids[4]"
   ]
  },
  {
   "cell_type": "code",
   "execution_count": 28,
   "metadata": {},
   "outputs": [],
   "source": [
    "id = 20000\n",
    "for i in range(2000):\n",
    "    id += i\n",
    "    URL = f\"https://www.bfro.net/GDB/show_report.asp?id={id}\"\n",
    "    page = requests.get(URL)\n",
    "    soup = BeautifulSoup(page.content, 'html.parser')\n",
    "    if len(soup) == 5:\n",
    "        valid_ids.append(id)\n",
    "    if i % "
   ]
  },
  {
   "cell_type": "code",
   "execution_count": 29,
   "metadata": {},
   "outputs": [
    {
     "data": {
      "text/plain": [
       "62"
      ]
     },
     "execution_count": 29,
     "metadata": {},
     "output_type": "execute_result"
    }
   ],
   "source": [
    "len(valid_ids)"
   ]
  },
  {
   "cell_type": "code",
   "execution_count": 12,
   "metadata": {
    "tags": []
   },
   "outputs": [
    {
     "output_type": "stream",
     "name": "stdout",
     "text": "20000\n21000\n22000\n23000\n24000\n25000\n26000\n27000\n28000\n29000\n"
    }
   ],
   "source": [
    "for i in range(20000,30000):\n",
    "    if i % 1000 == 0:\n",
    "        print(i)"
   ]
  },
  {
   "cell_type": "code",
   "execution_count": null,
   "metadata": {},
   "outputs": [],
   "source": []
  }
 ],
 "metadata": {
  "kernelspec": {
   "display_name": "Python 3",
   "language": "python",
   "name": "python3"
  },
  "language_info": {
   "codemirror_mode": {
    "name": "ipython",
    "version": 3
   },
   "file_extension": ".py",
   "mimetype": "text/x-python",
   "name": "python",
   "nbconvert_exporter": "python",
   "pygments_lexer": "ipython3",
   "version": "3.7.7-final"
  }
 },
 "nbformat": 4,
 "nbformat_minor": 4
}
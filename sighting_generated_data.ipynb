{
 "metadata": {
  "language_info": {
   "codemirror_mode": {
    "name": "ipython",
    "version": 3
   },
   "file_extension": ".py",
   "mimetype": "text/x-python",
   "name": "python",
   "nbconvert_exporter": "python",
   "pygments_lexer": "ipython3",
   "version": "3.5.5-final"
  },
  "orig_nbformat": 2,
  "kernelspec": {
   "name": "python35564bitpy35condaa74a24b6075244cb830811c39c7c8916",
   "display_name": "Python 3.5.5 64-bit ('py35': conda)"
  }
 },
 "nbformat": 4,
 "nbformat_minor": 2,
 "cells": [
  {
   "cell_type": "code",
   "execution_count": 1,
   "metadata": {},
   "outputs": [],
   "source": [
    "import src.data_prep as dp\n",
    "import pandas as pd \n",
    "import numpy as np\n",
    "import matplotlib.pyplot as plt\n",
    "import json\n",
    "import src.data_prep as dp\n",
    "from datetime import datetime, timedelta\n",
    "import time\n",
    "import string\n",
    "import os\n",
    "import tweepy\n",
    "import re"
   ]
  },
  {
   "cell_type": "code",
   "execution_count": 2,
   "metadata": {},
   "outputs": [],
   "source": [
    "with open(\"data/auth.json\") as f:\n",
    "    keys = json.load(f)\n",
    "f.close()"
   ]
  },
  {
   "cell_type": "code",
   "execution_count": 3,
   "metadata": {},
   "outputs": [],
   "source": [
    "# authentication of consumer key and secret \n",
    "auth = tweepy.OAuthHandler(keys[\"consumer_key\"], keys[\"consumer_secret\"]) \n",
    "  \n",
    "# authentication of access token and secret \n",
    "auth.set_access_token(keys[\"access_token\"], keys[\"access_token_secret\"]) \n",
    "api = tweepy.API(auth) "
   ]
  },
  {
   "cell_type": "code",
   "execution_count": 2,
   "metadata": {},
   "outputs": [],
   "source": [
    "reports = dp.import_data(\"data/data.json\")\n",
    "df = dp.create_df(reports)\n",
    "# df.head()"
   ]
  },
  {
   "cell_type": "code",
   "execution_count": 3,
   "metadata": {},
   "outputs": [
    {
     "output_type": "execute_result",
     "data": {
      "text/html": "<div>\n<style scoped>\n    .dataframe tbody tr th:only-of-type {\n        vertical-align: middle;\n    }\n\n    .dataframe tbody tr th {\n        vertical-align: top;\n    }\n\n    .dataframe thead th {\n        text-align: right;\n    }\n</style>\n<table border=\"1\" class=\"dataframe\">\n  <thead>\n    <tr style=\"text-align: right;\">\n      <th></th>\n      <th>YEAR</th>\n      <th>SEASON</th>\n      <th>MONTH</th>\n      <th>STATE</th>\n      <th>COUNTY</th>\n      <th>LOCATION DETAILS</th>\n      <th>NEAREST TOWN</th>\n      <th>NEAREST ROAD</th>\n      <th>OBSERVED</th>\n      <th>ALSO NOTICED</th>\n      <th>OTHER WITNESSES</th>\n      <th>OTHER STORIES</th>\n      <th>TIME AND CONDITIONS</th>\n      <th>ENVIRONMENT</th>\n      <th>DATE</th>\n    </tr>\n  </thead>\n  <tbody>\n    <tr>\n      <th>10001</th>\n      <td>1987</td>\n      <td>Spring</td>\n      <td>April</td>\n      <td>NaN</td>\n      <td>NaN</td>\n      <td>Give or take a few kilometers about 25 north o...</td>\n      <td>Fort Liard NWT</td>\n      <td>Highway 77</td>\n      <td>We were traveling north to Fort Liard NWT from...</td>\n      <td>When the sasquach looked towards us and contin...</td>\n      <td>Three wittnesses listening to music.</td>\n      <td>I've heard tell of the native residents in tha...</td>\n      <td>10 or 11 in the morning overcast and raining.</td>\n      <td>Large mixed spruce and poplar trees.</td>\n      <td>13</td>\n    </tr>\n    <tr>\n      <th>10006</th>\n      <td>2004</td>\n      <td>Winter</td>\n      <td>December</td>\n      <td>West Virginia</td>\n      <td>Ohio County</td>\n      <td>Off of rt 2 in warwood.</td>\n      <td>warwood</td>\n      <td>NaN</td>\n      <td>hello. some time back i submitted a report abo...</td>\n      <td>have been hearing strange howl/moans for years...</td>\n      <td>just me. kids were asleep.</td>\n      <td>no, the closest i have seen would be in steube...</td>\n      <td>1:00 in the morning. there was some moonlight ...</td>\n      <td>valley between two high ridges. a creek runs t...</td>\n      <td>12</td>\n    </tr>\n    <tr>\n      <th>10012</th>\n      <td>1988</td>\n      <td>Winter</td>\n      <td>December</td>\n      <td>Idaho</td>\n      <td>Kootenai County</td>\n      <td>NaN</td>\n      <td>Post Falls Idaho</td>\n      <td>Interstate 90</td>\n      <td>My wife and myself were trucking in 1988 . We ...</td>\n      <td>His strength was unreal. He broke branches 2 t...</td>\n      <td>My wife saw it through the window when I got b...</td>\n      <td>No</td>\n      <td>Winter, about 1 AM, Saturday, beginning of Dec...</td>\n      <td>Mountain area with very heavy forest and thick...</td>\n      <td>3</td>\n    </tr>\n    <tr>\n      <th>10024</th>\n      <td>1982</td>\n      <td>Fall</td>\n      <td>October</td>\n      <td>Utah</td>\n      <td>Utah County</td>\n      <td>You can get to the location by hiking to the Y...</td>\n      <td>Provo</td>\n      <td>NaN</td>\n      <td>I was hunting on the second weekend of the dee...</td>\n      <td>As I was hiking off the mountain, and down int...</td>\n      <td>Only me</td>\n      <td>None</td>\n      <td>It was before the sun went down in the evening...</td>\n      <td>It is surrounded by cliffs on all sides except...</td>\n      <td>31</td>\n    </tr>\n    <tr>\n      <th>1003</th>\n      <td>1984</td>\n      <td>Fall</td>\n      <td>October</td>\n      <td>Florida</td>\n      <td>St. Johns County</td>\n      <td>Take SR 207 East from I-95 to the Florida East...</td>\n      <td>St. Augustine</td>\n      <td>SR 207 &amp; Kings Estate Rd.</td>\n      <td>Around fifteen years ago me and a friend of mi...</td>\n      <td>NaN</td>\n      <td>Riding other horse.</td>\n      <td>NaN</td>\n      <td>Clear no rain, around dusk.</td>\n      <td>Pines and Palm-meddows, swampy area. Beside FE...</td>\n      <td>15th</td>\n    </tr>\n  </tbody>\n</table>\n</div>",
      "text/plain": "       YEAR  SEASON     MONTH          STATE            COUNTY  \\\n10001  1987  Spring     April            NaN               NaN   \n10006  2004  Winter  December  West Virginia       Ohio County   \n10012  1988  Winter  December          Idaho   Kootenai County   \n10024  1982    Fall   October           Utah       Utah County   \n1003   1984    Fall   October        Florida  St. Johns County   \n\n                                        LOCATION DETAILS      NEAREST TOWN  \\\n10001  Give or take a few kilometers about 25 north o...   Fort Liard NWT    \n10006                            Off of rt 2 in warwood.           warwood   \n10012                                                NaN  Post Falls Idaho   \n10024  You can get to the location by hiking to the Y...            Provo    \n1003   Take SR 207 East from I-95 to the Florida East...     St. Augustine   \n\n                    NEAREST ROAD  \\\n10001                 Highway 77   \n10006                        NaN   \n10012              Interstate 90   \n10024                        NaN   \n1003   SR 207 & Kings Estate Rd.   \n\n                                                OBSERVED  \\\n10001  We were traveling north to Fort Liard NWT from...   \n10006  hello. some time back i submitted a report abo...   \n10012  My wife and myself were trucking in 1988 . We ...   \n10024  I was hunting on the second weekend of the dee...   \n1003   Around fifteen years ago me and a friend of mi...   \n\n                                            ALSO NOTICED  \\\n10001  When the sasquach looked towards us and contin...   \n10006  have been hearing strange howl/moans for years...   \n10012  His strength was unreal. He broke branches 2 t...   \n10024  As I was hiking off the mountain, and down int...   \n1003                                                 NaN   \n\n                                         OTHER WITNESSES  \\\n10001               Three wittnesses listening to music.   \n10006                         just me. kids were asleep.   \n10012  My wife saw it through the window when I got b...   \n10024                                            Only me   \n1003                                 Riding other horse.   \n\n                                           OTHER STORIES  \\\n10001  I've heard tell of the native residents in tha...   \n10006  no, the closest i have seen would be in steube...   \n10012                                                 No   \n10024                                               None   \n1003                                                 NaN   \n\n                                     TIME AND CONDITIONS  \\\n10001      10 or 11 in the morning overcast and raining.   \n10006  1:00 in the morning. there was some moonlight ...   \n10012  Winter, about 1 AM, Saturday, beginning of Dec...   \n10024  It was before the sun went down in the evening...   \n1003                         Clear no rain, around dusk.   \n\n                                             ENVIRONMENT  DATE  \n10001               Large mixed spruce and poplar trees.    13  \n10006  valley between two high ridges. a creek runs t...    12  \n10012  Mountain area with very heavy forest and thick...     3  \n10024  It is surrounded by cliffs on all sides except...    31  \n1003   Pines and Palm-meddows, swampy area. Beside FE...  15th  "
     },
     "metadata": {},
     "execution_count": 3
    }
   ],
   "source": [
    "df.head()"
   ]
  },
  {
   "cell_type": "code",
   "execution_count": 37,
   "metadata": {
    "tags": []
   },
   "outputs": [],
   "source": [
    "with open('d:/gal/gpt-2/src/generated_sightings.txt', \"r\", encoding='utf-8') as f:\n",
    "    data = f.read()"
   ]
  },
  {
   "cell_type": "code",
   "execution_count": 38,
   "metadata": {},
   "outputs": [
    {
     "output_type": "execute_result",
     "data": {
      "text/plain": "1647784"
     },
     "metadata": {},
     "execution_count": 38
    }
   ],
   "source": [
    "len(data)"
   ]
  },
  {
   "cell_type": "code",
   "execution_count": 39,
   "metadata": {
    "tags": []
   },
   "outputs": [
    {
     "output_type": "stream",
     "name": "stdout",
     "text": "769\n"
    }
   ],
   "source": [
    "delim = \"\"\"\n",
    "\n",
    "<|endoftext|>\n",
    "\n",
    "\"\"\"\n",
    "s = []\n",
    "ds = data.split(delim)\n",
    "print(len(ds))\n",
    "for i in ds:\n",
    "    if len(i) < 2000:\n",
    "        s.append(i)"
   ]
  },
  {
   "cell_type": "code",
   "execution_count": 68,
   "metadata": {},
   "outputs": [],
   "source": [
    "d = dict()\n",
    "for i in s:\n",
    "    d[str(datetime.now())] = i\n",
    "    time.sleep(0.2)"
   ]
  },
  {
   "cell_type": "code",
   "execution_count": 66,
   "metadata": {},
   "outputs": [],
   "source": [
    "filename = \"gpt2_sightings\""
   ]
  },
  {
   "cell_type": "code",
   "execution_count": 69,
   "metadata": {
    "tags": []
   },
   "outputs": [],
   "source": [
    "with open(\"{}.json\".format(filename), \"a\") as f:\n",
    "    with open(\"{}.json\".format(filename)) as f:\n",
    "        data = json.load(f)\n",
    "    data.update(d)\n",
    "    with open(\"{}.json\".format(filename), \"w\") as f:\n",
    "        json.dump(data, f, indent=4, sort_keys=False)\n",
    "f.close()    "
   ]
  },
  {
   "cell_type": "code",
   "execution_count": 120,
   "metadata": {
    "tags": []
   },
   "outputs": [
    {
     "output_type": "stream",
     "name": "stdout",
     "text": "generating sighting number...0\ngenerating sighting number...1\ngenerating sighting number...2\ngenerating sighting number...3\ngenerating sighting number...4\ngenerating sighting number...5\ngenerating sighting number...6\ngenerating sighting number...7\ngenerating sighting number...8\ngenerating sighting number...9\ngenerating sighting number...10\ngenerating sighting number...11\ngenerating sighting number...12\ngenerating sighting number...13\ngenerating sighting number...14\ngenerating sighting number...15\ngenerating sighting number...16\ngenerating sighting number...17\ngenerating sighting number...18\ngenerating sighting number...19\ngenerating sighting number...20\ngenerating sighting number...21\ngenerating sighting number...22\ngenerating sighting number...23\ngenerating sighting number...24\ngenerating sighting number...25\ngenerating sighting number...26\ngenerating sighting number...27\ngenerating sighting number...28\ngenerating sighting number...29\ngenerating sighting number...30\ngenerating sighting number...31\ngenerating sighting number...32\ngenerating sighting number...33\ngenerating sighting number...34\ngenerating sighting number...35\ngenerating sighting number...36\ngenerating sighting number...37\ngenerating sighting number...38\ngenerating sighting number...39\ngenerating sighting number...40\ngenerating sighting number...41\ngenerating sighting number...42\ngenerating sighting number...43\ngenerating sighting number...44\ngenerating sighting number...45\ngenerating sighting number...46\ngenerating sighting number...47\ngenerating sighting number...48\ngenerating sighting number...49\ngenerating sighting number...50\ngenerating sighting number...51\ngenerating sighting number...52\ngenerating sighting number...53\ngenerating sighting number...54\ngenerating sighting number...55\ngenerating sighting number...56\ngenerating sighting number...57\ngenerating sighting number...58\ngenerating sighting number...59\ngenerating sighting number...60\ngenerating sighting number...61\ngenerating sighting number...62\ngenerating sighting number...63\ngenerating sighting number...64\ngenerating sighting number...65\ngenerating sighting number...66\ngenerating sighting number...67\ngenerating sighting number...68\ngenerating sighting number...69\ngenerating sighting number...70\ngenerating sighting number...71\ngenerating sighting number...72\ngenerating sighting number...73\ngenerating sighting number...74\ngenerating sighting number...75\ngenerating sighting number...76\ngenerating sighting number...77\ngenerating sighting number...78\ngenerating sighting number...79\ngenerating sighting number...80\ngenerating sighting number...81\ngenerating sighting number...82\ngenerating sighting number...83\ngenerating sighting number...84\ngenerating sighting number...85\ngenerating sighting number...86\ngenerating sighting number...87\ngenerating sighting number...88\ngenerating sighting number...89\ngenerating sighting number...90\ngenerating sighting number...91\ngenerating sighting number...92\ngenerating sighting number...93\ngenerating sighting number...94\ngenerating sighting number...95\ngenerating sighting number...96\ngenerating sighting number...97\ngenerating sighting number...98\ngenerating sighting number...99\ngenerating sighting number...100\ngenerating sighting number...101\ngenerating sighting number...102\ngenerating sighting number...103\ngenerating sighting number...104\ngenerating sighting number...105\ngenerating sighting number...106\ngenerating sighting number...107\ngenerating sighting number...108\ngenerating sighting number...109\ngenerating sighting number...110\ngenerating sighting number...111\ngenerating sighting number...112\ngenerating sighting number...113\ngenerating sighting number...114\ngenerating sighting number...115\ngenerating sighting number...116\ngenerating sighting number...117\ngenerating sighting number...118\ngenerating sighting number...119\ngenerating sighting number...120\ngenerating sighting number...121\ngenerating sighting number...122\ngenerating sighting number...123\ngenerating sighting number...124\ngenerating sighting number...125\ngenerating sighting number...126\ngenerating sighting number...127\ngenerating sighting number...128\ngenerating sighting number...129\ngenerating sighting number...130\ngenerating sighting number...131\ngenerating sighting number...132\ngenerating sighting number...133\ngenerating sighting number...134\ngenerating sighting number...135\ngenerating sighting number...136\ngenerating sighting number...137\ngenerating sighting number...138\ngenerating sighting number...139\ngenerating sighting number...140\ngenerating sighting number...141\ngenerating sighting number...142\ngenerating sighting number...143\ngenerating sighting number...144\ngenerating sighting number...145\ngenerating sighting number...146\ngenerating sighting number...147\ngenerating sighting number...148\ngenerating sighting number...149\ngenerating sighting number...150\ngenerating sighting number...151\ngenerating sighting number...152\ngenerating sighting number...153\ngenerating sighting number...154\ngenerating sighting number...155\ngenerating sighting number...156\ngenerating sighting number...157\ngenerating sighting number...158\ngenerating sighting number...159\ngenerating sighting number...160\ngenerating sighting number...161\ngenerating sighting number...162\ngenerating sighting number...163\ngenerating sighting number...164\ngenerating sighting number...165\ngenerating sighting number...166\ngenerating sighting number...167\ngenerating sighting number...168\ngenerating sighting number...169\ngenerating sighting number...170\ngenerating sighting number...171\ngenerating sighting number...172\ngenerating sighting number...173\ngenerating sighting number...174\ngenerating sighting number...175\ngenerating sighting number...176\ngenerating sighting number...177\ngenerating sighting number...178\ngenerating sighting number...179\ngenerating sighting number...180\ngenerating sighting number...181\ngenerating sighting number...182\ngenerating sighting number...183\ngenerating sighting number...184\ngenerating sighting number...185\ngenerating sighting number...186\ngenerating sighting number...187\ngenerating sighting number...188\ngenerating sighting number...189\ngenerating sighting number...190\ngenerating sighting number...191\ngenerating sighting number...192\ngenerating sighting number...193\ngenerating sighting number...194\ngenerating sighting number...195\ngenerating sighting number...196\ngenerating sighting number...197\ngenerating sighting number...198\ngenerating sighting number...199\n"
    }
   ],
   "source": [
    "for i in range(200):\n",
    "    print(\"generating sighting number...{}\".format(i))\n",
    "    os.system(\"generate_sighting.bat\")"
   ]
  },
  {
   "cell_type": "code",
   "execution_count": null,
   "metadata": {},
   "outputs": [],
   "source": []
  }
 ]
}
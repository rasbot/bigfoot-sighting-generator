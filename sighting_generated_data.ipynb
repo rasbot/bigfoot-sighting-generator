{
 "metadata": {
  "language_info": {
   "codemirror_mode": {
    "name": "ipython",
    "version": 3
   },
   "file_extension": ".py",
   "mimetype": "text/x-python",
   "name": "python",
   "nbconvert_exporter": "python",
   "pygments_lexer": "ipython3",
   "version": "3.5.5-final"
  },
  "orig_nbformat": 2,
  "kernelspec": {
   "name": "python35564bitpy35condaa74a24b6075244cb830811c39c7c8916",
   "display_name": "Python 3.5.5 64-bit ('py35': conda)"
  }
 },
 "nbformat": 4,
 "nbformat_minor": 2,
 "cells": [
  {
   "cell_type": "code",
   "execution_count": 1,
   "metadata": {},
   "outputs": [],
   "source": [
    "import src.data_prep as dp\n",
    "import pandas as pd \n",
    "import numpy as np\n",
    "import matplotlib.pyplot as plt\n",
    "import json\n",
    "import src.data_prep as dp\n",
    "from datetime import datetime, timedelta\n",
    "import time\n",
    "import os\n",
    "import tweepy"
   ]
  },
  {
   "cell_type": "code",
   "execution_count": 2,
   "metadata": {},
   "outputs": [],
   "source": [
    "with open(\"data/auth.json\") as f:\n",
    "    keys = json.load(f)\n",
    "f.close()"
   ]
  },
  {
   "cell_type": "code",
   "execution_count": 3,
   "metadata": {},
   "outputs": [],
   "source": [
    "# authentication of consumer key and secret \n",
    "auth = tweepy.OAuthHandler(keys[\"consumer_key\"], keys[\"consumer_secret\"]) \n",
    "  \n",
    "# authentication of access token and secret \n",
    "auth.set_access_token(keys[\"access_token\"], keys[\"access_token_secret\"]) \n",
    "api = tweepy.API(auth) "
   ]
  },
  {
   "cell_type": "code",
   "execution_count": 4,
   "metadata": {},
   "outputs": [],
   "source": [
    "reports = dp.import_data(\"data/data.json\")\n",
    "df = dp.create_df(reports)\n",
    "# df.head()"
   ]
  },
  {
   "cell_type": "markdown",
   "metadata": {},
   "source": [
    "The `OBSERVED` column has been generated with a RNN. A few other columns can be generated with the RNN, and some will just be randomized. It won't be entirely possible to correlate the generated portions with randomized sections. For instance, if `STATE` is randomized, then `COUNTY` can't be. `COUNTY` could be stored in a dictionary as a list under the key `STATE`, but that might be too much work. \n",
    "\n",
    "RANDOMIZED:\n",
    "* NEAREST ROAD\n",
    "* SEASON (generate MONTH from that)\n",
    "* STATE (generate NEAREST TOWN from that)\n",
    "* OTHER WITNESSES\n",
    "\n",
    "RNN:\n",
    "* TIME AND CONDITIONS\n",
    "* ENVIRONMENT\n",
    "* OTHER CONDITIONS?\n"
   ]
  },
  {
   "cell_type": "code",
   "execution_count": 5,
   "metadata": {},
   "outputs": [],
   "source": [
    "# dp.get_state_data(df, 'data')"
   ]
  },
  {
   "cell_type": "code",
   "execution_count": 6,
   "metadata": {},
   "outputs": [],
   "source": [
    "# dp.get_bag_of_words(df, 'TIME AND CONDITIONS', 'data/time_conditions')"
   ]
  },
  {
   "cell_type": "code",
   "execution_count": 7,
   "metadata": {},
   "outputs": [],
   "source": [
    "# dp.get_bag_of_words(df, 'ENVIRONMENT', 'data/environment')"
   ]
  },
  {
   "cell_type": "code",
   "execution_count": 19,
   "metadata": {
    "tags": []
   },
   "outputs": [
    {
     "output_type": "stream",
     "name": "stdout",
     "text": "\n(py35) d:\\gal\\bigfoot-sighting-generator>#!/bin/bash\n\n(py35) d:\\gal\\bigfoot-sighting-generator>python sample.py --save_dir=\"data/observed/save\" -n=250 -s=True -t=\"observed\" \nHen\nThe blurry cellphone photos mentioned is that what we saw was a perfect match. at one encounter i went to play in late evening to this day and i know what i mean). i saw my story. many times. there was also a full moon i heard the noise walking in the front seat. at the end of where i seen him frequently. the recording was dr. xxxxxxxxxxx steve told me. i got scared... i am planning to escape from the colorado pass of mo. i was travelling to visit some friends who had been in the woods near the sugar creek 's' which is called from. suddenly i had my wife and said if he were out on the ice storm to the tree i was trying to find tracks at about 40 yards away and as i continued off the side of the old road. on the other side of the hill and out of sight, i began to my really brother in his hand stands down. he then described the same scene.\n\n(py35) d:\\gal\\bigfoot-sighting-generator>python sample.py --save_dir=\"data/environment/save\" -n=30 -s=True -t=\"environment\" \n\"Sunrise\nThing source sort of forested area, rolling pine forest, not plateaus. growth. rural fields valley and various bark, bordering us.\n\n(py35) d:\\gal\\bigfoot-sighting-generator>python sample.py --save_dir=\"data/time_conditions/save\" -n=20 -s=True -t=\"time_conditions\" \nAdirondacks,\nClear, but in weather poor. dusk, lit the clouds, not a cold moonlight, calm day.\n\n(py35) d:\\gal\\bigfoot-sighting-generator>python generate_sighting.py \nSEASON: Spring\n\nSTATE: Oregon\n\nNEAREST TOWN: Sisters\n\nNEAREST ROAD: FS road 28\n\nENVIRONMENT: Thing source sort of forested area, rolling pine forest, not plateaus. growth. rural fields valley and various bark, bordering us.\n\nTIME AND CONDITIONS: Clear, but in weather poor. dusk, lit the clouds, not a cold moonlight, calm day.\n\n\nOBSERVATION: The blurry cellphone photos mentioned is that what we saw was a perfect match. at one encounter i went to play in late evening to this day and i know what i mean). i saw my story. many times. there was also a full moon i heard the noise walking in the front seat. at the end of where i seen him frequently. the recording was dr. xxxxxxxxxxx steve told me. i got scared... i am planning to escape from the colorado pass of mo. i was travelling to visit some friends who had been in the woods near the sugar creek 's' which is called from. suddenly i had my wife and said if he were out on the ice storm to the tree i was trying to find tracks at about 40 yards away and as i continued off the side of the old road. on the other side of the hill and out of sight, i began to my really brother in his hand stands down. he then described the same scene.\n'#!' is not recognized as an internal or external command,\noperable program or batch file.\n2020-09-16 21:36:33.445322: I T:\\src\\github\\tensorflow\\tensorflow\\core\\platform\\cpu_feature_guard.cc:140] Your CPU supports instructions that this TensorFlow binary was not compiled to use: AVX2\n2020-09-16 21:36:42.154403: I T:\\src\\github\\tensorflow\\tensorflow\\core\\platform\\cpu_feature_guard.cc:140] Your CPU supports instructions that this TensorFlow binary was not compiled to use: AVX2\n2020-09-16 21:36:48.187021: I T:\\src\\github\\tensorflow\\tensorflow\\core\\platform\\cpu_feature_guard.cc:140] Your CPU supports instructions that this TensorFlow binary was not compiled to use: AVX2\n"
    }
   ],
   "source": [
    "!generate_sighting.bat"
   ]
  },
  {
   "cell_type": "code",
   "execution_count": 11,
   "metadata": {},
   "outputs": [],
   "source": [
    "with open(\"temp_environment.txt\", \"r\") as f:\n",
    "    env = f.read()\n",
    "f.close()\n",
    "with open(\"temp_observed.txt\", \"r\") as f:\n",
    "    obs = f.read()\n",
    "f.close()\n",
    "with open(\"temp_time_conditions.txt\", \"r\") as f:\n",
    "    tc = f.read()\n",
    "f.close()"
   ]
  },
  {
   "cell_type": "code",
   "execution_count": 12,
   "metadata": {},
   "outputs": [],
   "source": [
    "with open(\"data/states.json\", \"r\") as f:\n",
    "    states_data = json.load(f)"
   ]
  },
  {
   "cell_type": "code",
   "execution_count": 13,
   "metadata": {},
   "outputs": [],
   "source": [
    "unique_states = np.unique(np.array(df['STATE'].dropna()))\n",
    "idx = np.argwhere(unique_states == '(International)')\n",
    "unique_states = np.delete(unique_states, idx)"
   ]
  },
  {
   "cell_type": "code",
   "execution_count": 14,
   "metadata": {},
   "outputs": [],
   "source": [
    "unique_seasons = np.unique(np.array(df['SEASON'].dropna()))"
   ]
  },
  {
   "cell_type": "code",
   "execution_count": 15,
   "metadata": {},
   "outputs": [
    {
     "output_type": "execute_result",
     "data": {
      "text/plain": "array(['Fall', 'Spring', 'Summer', 'Unknown', 'Winter'], dtype=object)"
     },
     "metadata": {},
     "execution_count": 15
    }
   ],
   "source": [
    "unique_seasons"
   ]
  },
  {
   "cell_type": "code",
   "execution_count": 16,
   "metadata": {
    "tags": []
   },
   "outputs": [],
   "source": [
    "state = np.random.choice(unique_states)\n",
    "county = np.random.choice(states_data[state][\"Counties\"])\n",
    "nearest_town = np.random.choice(states_data[state][\"Nearest Town\"])\n",
    "nearest_road = np.random.choice(states_data[state][\"Nearest Road\"])\n",
    "season = np.random.choice(unique_seasons)\n"
   ]
  },
  {
   "cell_type": "code",
   "execution_count": 17,
   "metadata": {},
   "outputs": [],
   "source": [
    "sighting_info = \"\"\"SEASON: {season}\n",
    "\n",
    "STATE: {state}\n",
    "\n",
    "NEAREST TOWN: {nearest_town}\n",
    "\n",
    "NEAREST ROAD: {nearest_road}\n",
    "\n",
    "ENVIRONMENT: {env}\n",
    "\n",
    "TIME AND CONDITIONS: {tc}\n",
    "\n",
    "\"\"\".format(season=season, state=state, nearest_town=nearest_town, nearest_road=nearest_road, env=env, tc=tc)\n",
    "\n",
    "observation = \"\"\"OBSERVED: {obs}\"\"\".format(obs=obs)"
   ]
  },
  {
   "cell_type": "code",
   "execution_count": 18,
   "metadata": {
    "tags": []
   },
   "outputs": [
    {
     "output_type": "stream",
     "name": "stdout",
     "text": "SEASON: Summer\n\nSTATE: Louisiana\n\nNEAREST TOWN: Pollock\n\nNEAREST ROAD: Hwy 17\n\nENVIRONMENT: Area was flat. we valley. and near puget county. swampy area bordered the north, rocky and close to trees.\n\nTIME AND CONDITIONS: \n\n\nOBSERVED: A question was not the rather explorer with three witnesses. they where people in the back is a bit concerned @ once in my opinion we have clearly seen the creature, he truly has invited us of the children that had gone home for the night. although we have been in a very remote area of pendleton county. i wanted to go back through the dark. a couple of minutes later we calmed down and stared straight at us. \"phil stop!\" my son fell \"i think about it was oh till yesterday jan 9:00 to large am. he heard the noises. i asked if he could hear the tree pattern of bigfoot and not breaking the sounds. about 40 to 45 minutes later i heard the second or the animal call. after a while, my wife started to say because it was fast, i thought it was wearing fact anything but the sound was a screech owl, (for any easy time to come to speak for 4 people to get some trouble under control. during my night going around quickly a very nice part. we made a drive up to our left and saw a face through the thick brush there. i didnÂ’t think much about it. to amuse silence. i slung my flashlight in and then jumped into a ravine. i remember that i kept glancing in.\n"
    }
   ],
   "source": [
    "print(sighting_info)\n",
    "print(observation)"
   ]
  },
  {
   "cell_type": "code",
   "execution_count": 17,
   "metadata": {
    "tags": []
   },
   "outputs": [
    {
     "output_type": "stream",
     "name": "stdout",
     "text": "2020-09-16 15:52:35.920272\n"
    }
   ],
   "source": [
    "print(datetime.now())"
   ]
  },
  {
   "cell_type": "code",
   "execution_count": 17,
   "metadata": {},
   "outputs": [],
   "source": [
    "season_d = {\"SEASON: \": season}\n",
    "state_d = {\"STATE: \": state}\n",
    "nearest_town_d = {\"NEAREST TOWN: \": nearest_town}\n",
    "nearest_road_d = {\"NEAREST ROAD: \": nearest_road}\n",
    "env_d = {\"ENVIRONMENT: \": env}\n",
    "tc_d = {\"TIME AND CONDITIONS: \": tc}\n",
    "obs_d = {\"OBSERVATION: \": obs}"
   ]
  },
  {
   "cell_type": "code",
   "execution_count": 18,
   "metadata": {},
   "outputs": [],
   "source": [
    "sighting_d = { str(datetime.now()): \n",
    "        {\"SEASON: \": season, \n",
    "        \"STATE: \": state,\n",
    "        \"NEAREST TOWN: \": nearest_town,\n",
    "        \"NEAREST ROAD: \": nearest_road,\n",
    "        \"ENVIRONMENT: \": env,\n",
    "        \"TIME AND CONDITIONS: \": tc,\n",
    "        \"OBSERVATION: \": obs}}"
   ]
  },
  {
   "cell_type": "code",
   "execution_count": 20,
   "metadata": {
    "tags": []
   },
   "outputs": [],
   "source": [
    "with open(\"generated_sightings.json\", \"a\") as f:\n",
    "        with open(\"generated_sightings.json\") as f:\n",
    "            data = json.load(f)\n",
    "        data.update(sighting_d)\n",
    "        with open(\"generated_sightings.json\", \"w\") as f:\n",
    "            json.dump(data, f, indent=4, sort_keys=False)\n",
    "f.close()"
   ]
  },
  {
   "cell_type": "code",
   "execution_count": 20,
   "metadata": {
    "tags": []
   },
   "outputs": [],
   "source": [
    "with open(\"generated_sightings.json\") as f:\n",
    "    data = json.load(f)"
   ]
  },
  {
   "cell_type": "code",
   "execution_count": 21,
   "metadata": {},
   "outputs": [],
   "source": [
    "# key of the newest entry\n",
    "latest_key = sorted(data.keys())[-1]"
   ]
  },
  {
   "cell_type": "code",
   "execution_count": 22,
   "metadata": {},
   "outputs": [],
   "source": [
    "latest_sighting = data[latest_key]"
   ]
  },
  {
   "cell_type": "code",
   "execution_count": 23,
   "metadata": {
    "tags": []
   },
   "outputs": [],
   "source": [
    "sighting_info = [\"SEASON: {season}\".format(season=latest_sighting[\"SEASON: \"]),\n",
    "\"STATE: {state}\".format(state=latest_sighting[\"STATE: \"]),\n",
    "\"NEAREST TOWN: {nearest_town}\".format(nearest_town=latest_sighting[\"NEAREST TOWN: \"]),\n",
    "\"NEAREST ROAD: {nearest_road}\".format(nearest_road=latest_sighting[\"NEAREST ROAD: \"]),\n",
    "\"ENVIRONMENT: {env}\".format(env=latest_sighting[\"ENVIRONMENT: \"]),\n",
    "\"TIME AND CONDITIONS: {tc}\".format(tc=latest_sighting[\"TIME AND CONDITIONS: \"])]\n",
    "\n",
    "observation = \"\"\"OBSERVATION: {obs}\"\"\".format(obs=latest_sighting[\"OBSERVATION: \"])"
   ]
  },
  {
   "cell_type": "code",
   "execution_count": 24,
   "metadata": {
    "tags": []
   },
   "outputs": [
    {
     "output_type": "execute_result",
     "data": {
      "text/plain": "\"OBSERVATION: The blurry cellphone photos mentioned is that what we saw was a perfect matchAt one encounter i went to play in late evening to this day and i know what i mean). I saw my story. Many times. There was also a full moon i heard the noise walking in the front seat. At the end of where i seen him frequently. The recording was dr. Xxxxxxxxxxx steve told me. I got scared... I am planning to escape from the colorado pass of mo. I was travelling to visit some friends who had been in the woods near the sugar creek 's' which is called from. Suddenly i had my wife and said if he were out on the ice storm to the tree i was trying to find tracks at about 40 yards away and as i continued off the side of the old road. On the other side of the hill and out of sight, i began to my really brother in his hand stands down. He then described the same scene.. \""
     },
     "metadata": {},
     "execution_count": 24
    }
   ],
   "source": [
    "o = \"\"\n",
    "obs_split = observation.split(\". \")\n",
    "for i in range(1,len(obs_split)):\n",
    "    o += obs_split[i].capitalize() + \". \"\n",
    "observation = obs_split[0] + o\n",
    "observation"
   ]
  },
  {
   "cell_type": "code",
   "execution_count": 68,
   "metadata": {},
   "outputs": [
    {
     "output_type": "execute_result",
     "data": {
      "text/plain": "\"I did not think i was going to hunt, but i'm not sure did you account for what is worse because i think my dad would sit on a stump and when you all this time, it had to be 8 feet in approaching the campsite\""
     },
     "metadata": {},
     "execution_count": 68
    }
   ],
   "source": [
    "observation.split(\". \")[1].capitalize()"
   ]
  },
  {
   "cell_type": "code",
   "execution_count": 79,
   "metadata": {
    "tags": []
   },
   "outputs": [
    {
     "output_type": "stream",
     "name": "stdout",
     "text": "['SEASON: Summer', 'STATE: Maine', 'NEAREST TOWN: Hollis', 'NEAREST ROAD: Rt. 11', 'ENVIRONMENT: Spruce and mountaintop bluffs. at the road from 12,500 creek bottom.', 'TIME AND CONDITIONS: Shift, both were mid afternoon, early for darkness provided after could took dusk and a dry, partially.']\n"
    }
   ],
   "source": [
    "print(sighting_info)"
   ]
  },
  {
   "cell_type": "code",
   "execution_count": 42,
   "metadata": {},
   "outputs": [
    {
     "output_type": "execute_result",
     "data": {
      "text/plain": "\"OBSERVATION: I chose the numerous holes near the tracks and it dawned on me that he really does exist. i did not think i was going to hunt, but i'm not sure did you account for what is worse because i think my dad would sit on ...\""
     },
     "metadata": {},
     "execution_count": 42
    }
   ],
   "source": [
    "s"
   ]
  },
  {
   "cell_type": "code",
   "execution_count": 25,
   "metadata": {},
   "outputs": [],
   "source": [
    "def split_tweet(observation, sighting_info, max_length=225):\n",
    "    o = \"\"\n",
    "    obs_split = observation.split(\". \")\n",
    "    for i in range(1,len(obs_split)):\n",
    "        o += obs_split[i].capitalize() + \". \"\n",
    "    observation = obs_split[0] + o\n",
    "    obs_split = observation.split(' ')\n",
    "    obs_list, sighting_list, tweet_list = [], [], []\n",
    "    s = \"\"\n",
    "    for val in obs_split:\n",
    "        if len(s) < max_length:\n",
    "            word = val + \" \"\n",
    "            s += word\n",
    "        else:\n",
    "            obs_list.append(s)\n",
    "            _ = val + \" \"\n",
    "            s = _\n",
    "    obs_list.append(s)\n",
    "    sighting_list = []\n",
    "    s = \"\"\n",
    "    for i in sighting_info:\n",
    "        if len(s) < max_length:\n",
    "            _ = i + \"\\n\"\n",
    "            s += _\n",
    "        if len(s) > max_length:\n",
    "            s = s.replace(_, \"\")\n",
    "            sighting_list.append(s)\n",
    "            s = \"\" + i\n",
    "    sighting_list.append(s)\n",
    "    for i in sighting_list:\n",
    "        tweet_list.append(i)\n",
    "    for j in obs_list:\n",
    "        tweet_list.append(j)\n",
    "    return tweet_list"
   ]
  },
  {
   "cell_type": "code",
   "execution_count": 26,
   "metadata": {
    "tags": []
   },
   "outputs": [],
   "source": [
    "st = split_tweet(observation, sighting_info)"
   ]
  },
  {
   "cell_type": "code",
   "execution_count": 27,
   "metadata": {},
   "outputs": [
    {
     "output_type": "execute_result",
     "data": {
      "text/plain": "['SEASON: Spring\\nSTATE: Oregon\\nNEAREST TOWN: Sisters\\nNEAREST ROAD: FS road 28\\nENVIRONMENT: Thing source sort of forested area, rolling pine forest, not plateaus. growth. rural fields valley and various bark, bordering us.\\n',\n 'TIME AND CONDITIONS: Clear, but in weather poor. dusk, lit the clouds, not a cold moonlight, calm day.',\n 'OBSERVATION: The blurry cellphone photos mentioned is that what we saw was a perfect matchAt one encounter i went to play in late evening to this day and i know what i mean)I saw my story. Many times. There was also a full moon ',\n 'i heard the noise walking in the front seat. At the end of where i seen him frequently. The recording was dr. Xxxxxxxxxxx steve told me. I got scared... I am planning to escape from the colorado pass of mo. I was travelling to ',\n \"visit some friends who had been in the woods near the sugar creek 's' which is called from. Suddenly i had my wife and said if he were out on the ice storm to the tree i was trying to find tracks at about 40 yards away and as \",\n 'i continued off the side of the old road. On the other side of the hill and out of sight, i began to my really brother in his hand stands down. He then described the same scene.. .  ']"
     },
     "metadata": {},
     "execution_count": 27
    }
   ],
   "source": [
    "st"
   ]
  },
  {
   "cell_type": "code",
   "execution_count": 28,
   "metadata": {},
   "outputs": [
    {
     "output_type": "execute_result",
     "data": {
      "text/plain": "6"
     },
     "metadata": {},
     "execution_count": 28
    }
   ],
   "source": [
    "len(st)"
   ]
  },
  {
   "cell_type": "code",
   "execution_count": 29,
   "metadata": {
    "tags": []
   },
   "outputs": [],
   "source": [
    "tweets = []\n",
    "for i in range(len(st)):\n",
    "    tweets.append(st[i] + \" {}/{}\".format(i+1, len(st)))"
   ]
  },
  {
   "cell_type": "code",
   "execution_count": 31,
   "metadata": {
    "tags": []
   },
   "outputs": [
    {
     "output_type": "stream",
     "name": "stdout",
     "text": "SEASON: Spring\nSTATE: Oregon\nNEAREST TOWN: Sisters\nNEAREST ROAD: FS road 28\nENVIRONMENT: Thing source sort of forested area, rolling pine forest, not plateaus. growth. rural fields valley and various bark, bordering us.\n 1/6\nTIME AND CONDITIONS: Clear, but in weather poor. dusk, lit the clouds, not a cold moonlight, calm day. 2/6\nOBSERVATION: The blurry cellphone photos mentioned is that what we saw was a perfect matchAt one encounter i went to play in late evening to this day and i know what i mean)I saw my story. Many times. There was also a full moon  3/6\ni heard the noise walking in the front seat. At the end of where i seen him frequently. The recording was dr. Xxxxxxxxxxx steve told me. I got scared... I am planning to escape from the colorado pass of mo. I was travelling to  4/6\nvisit some friends who had been in the woods near the sugar creek 's' which is called from. Suddenly i had my wife and said if he were out on the ice storm to the tree i was trying to find tracks at about 40 yards away and as  5/6\ni continued off the side of the old road. On the other side of the hill and out of sight, i began to my really brother in his hand stands down. He then described the same scene.. .   6/6\n"
    }
   ],
   "source": [
    "for i in tweets:\n",
    "    print(i)"
   ]
  },
  {
   "cell_type": "code",
   "execution_count": 46,
   "metadata": {
    "tags": []
   },
   "outputs": [
    {
     "output_type": "stream",
     "name": "stdout",
     "text": "230\n229\n232\n232\n229\n"
    }
   ],
   "source": [
    "for i in obs_list:\n",
    "    print(len(i))"
   ]
  },
  {
   "cell_type": "code",
   "execution_count": 50,
   "metadata": {
    "tags": []
   },
   "outputs": [],
   "source": [
    "sighting_list = []\n",
    "s = \"\"\n",
    "for i in sighting_info:\n",
    "    if len(s) < 230:\n",
    "        _ = i + \"\\n\"\n",
    "        s += _\n",
    "    if len(s) > 225:\n",
    "        s = s.replace(_, \"\")\n",
    "        sighting_list.append(s)\n",
    "        s = \"\" + _\n",
    "sighting_list.append(s)"
   ]
  },
  {
   "cell_type": "code",
   "execution_count": 51,
   "metadata": {
    "tags": []
   },
   "outputs": [
    {
     "output_type": "stream",
     "name": "stdout",
     "text": "['SEASON: Summer\\nSTATE: Maine\\nNEAREST TOWN: Hollis\\nNEAREST ROAD: Rt. 11\\nENVIRONMENT: Spruce and mountaintop bluffs. at the road from 12,500 creek bottom.\\n', 'TIME AND CONDITIONS: Shift, both were mid afternoon, early for darkness provided after could took dusk and a dry, partially.\\n']\n"
    }
   ],
   "source": [
    "print(sighting_list)"
   ]
  },
  {
   "cell_type": "code",
   "execution_count": 52,
   "metadata": {},
   "outputs": [
    {
     "output_type": "execute_result",
     "data": {
      "text/plain": "2"
     },
     "metadata": {},
     "execution_count": 52
    }
   ],
   "source": [
    "len(sighting_list)"
   ]
  },
  {
   "cell_type": "code",
   "execution_count": 163,
   "metadata": {
    "tags": []
   },
   "outputs": [
    {
     "output_type": "stream",
     "name": "stdout",
     "text": "TWEET # 1\nSEASON: Winter\nSTATE: Alabama\nNEAREST TOWN: Heflin \nNEAREST ROAD: Appalachian Rd\nENVIRONMENT: 100yrd combination open field with some bare right next by a berry-producing highway to an week of thick trees.\n\nTWEET # 2\nTIME AND CONDITIONS: Mounted days while night lights. sunset around 2pm it was clear. 1-2 am at evening....\n\nTWEET # 3\nOBSERVATION: I first did it take him right but i kinda didn't get someone to drink. everyone went back to him and got all the binoculars. i then slowed down and reported it. that had it really happened either. i just wanted to shoot ...\nTWEET # 4\nwith the shotgun. the rear lines i saw on the leg. and like the moan even bad. on this moment i felt as if someone would be hunting here, but for the first camper in the house a few years ago when they started. i send them to we do?\" ...\nTWEET # 5\nroad the backyard got drawn out of the fallen tree line on his left, looking toward the front for balance creek above the peak east of the campus and his arm moved slightly almost hair which was at least 10 feet. it was no humon way ...\n"
    }
   ],
   "source": [
    "i = 1\n",
    "for tweet in sighting_list:\n",
    "    print(\"TWEET # {}\".format(i))\n",
    "    print(tweet)\n",
    "    i += 1\n",
    "for tweet in obs_list:\n",
    "    print(\"TWEET # {}\".format(i))\n",
    "    print(tweet)\n",
    "    i += 1"
   ]
  },
  {
   "cell_type": "code",
   "execution_count": 80,
   "metadata": {
    "tags": []
   },
   "outputs": [
    {
     "output_type": "stream",
     "name": "stdout",
     "text": "SEASON: Winter\n\nSTATE: Alabama\n"
    }
   ],
   "source": [
    "print(sighting_info[0] + \"\\n\\n\" + sighting_info[1])"
   ]
  },
  {
   "cell_type": "code",
   "execution_count": 105,
   "metadata": {},
   "outputs": [
    {
     "output_type": "execute_result",
     "data": {
      "text/plain": "'from the grass..   8/8'"
     },
     "metadata": {},
     "execution_count": 105
    }
   ],
   "source": [
    "tweets[7]"
   ]
  },
  {
   "cell_type": "code",
   "execution_count": 32,
   "metadata": {},
   "outputs": [],
   "source": [
    "with open(\"my_tweet.txt\", \"w\") as f:\n",
    "    f.write(tweets[0])\n",
    "with open('my_tweet.txt','r') as f:\n",
    "    tweet = api.update_status(f.read())\n",
    "for i in range(1,len(tweets)):\n",
    "    with open(\"my_tweet.txt\", \"w\") as f:\n",
    "        f.write(tweets[i])\n",
    "    with open('my_tweet.txt','r') as f:\n",
    "        tweet = api.update_status(f.read(), in_reply_to_status_id = tweet.id_str)\n",
    "    time.sleep(5)"
   ]
  },
  {
   "cell_type": "code",
   "execution_count": 104,
   "metadata": {},
   "outputs": [
    {
     "output_type": "error",
     "ename": "IndexError",
     "evalue": "list index out of range",
     "traceback": [
      "\u001b[1;31m---------------------------------------------------------------------------\u001b[0m",
      "\u001b[1;31mIndexError\u001b[0m                                Traceback (most recent call last)",
      "\u001b[1;32m<ipython-input-104-0a06323d952e>\u001b[0m in \u001b[0;36m<module>\u001b[1;34m()\u001b[0m\n\u001b[0;32m      1\u001b[0m \u001b[1;32mwith\u001b[0m \u001b[0mopen\u001b[0m\u001b[1;33m(\u001b[0m\u001b[1;34m\"my_tweet.txt\"\u001b[0m\u001b[1;33m,\u001b[0m \u001b[1;34m\"w\"\u001b[0m\u001b[1;33m)\u001b[0m \u001b[1;32mas\u001b[0m \u001b[0mf\u001b[0m\u001b[1;33m:\u001b[0m\u001b[1;33m\u001b[0m\u001b[0m\n\u001b[1;32m----> 2\u001b[1;33m     \u001b[0mf\u001b[0m\u001b[1;33m.\u001b[0m\u001b[0mwrite\u001b[0m\u001b[1;33m(\u001b[0m\u001b[0mtweets\u001b[0m\u001b[1;33m[\u001b[0m\u001b[1;36m8\u001b[0m\u001b[1;33m]\u001b[0m\u001b[1;33m)\u001b[0m\u001b[1;33m\u001b[0m\u001b[0m\n\u001b[0m\u001b[0;32m      3\u001b[0m \u001b[1;32mwith\u001b[0m \u001b[0mopen\u001b[0m\u001b[1;33m(\u001b[0m\u001b[1;34m'my_tweet.txt'\u001b[0m\u001b[1;33m,\u001b[0m\u001b[1;34m'r'\u001b[0m\u001b[1;33m)\u001b[0m \u001b[1;32mas\u001b[0m \u001b[0mf\u001b[0m\u001b[1;33m:\u001b[0m\u001b[1;33m\u001b[0m\u001b[0m\n\u001b[0;32m      4\u001b[0m     \u001b[0mtweet\u001b[0m \u001b[1;33m=\u001b[0m \u001b[0mapi\u001b[0m\u001b[1;33m.\u001b[0m\u001b[0mupdate_status\u001b[0m\u001b[1;33m(\u001b[0m\u001b[0mf\u001b[0m\u001b[1;33m.\u001b[0m\u001b[0mread\u001b[0m\u001b[1;33m(\u001b[0m\u001b[1;33m)\u001b[0m\u001b[1;33m,\u001b[0m \u001b[0min_reply_to_status_id\u001b[0m \u001b[1;33m=\u001b[0m \u001b[0mtweet\u001b[0m\u001b[1;33m.\u001b[0m\u001b[0mid_str\u001b[0m\u001b[1;33m)\u001b[0m\u001b[1;33m\u001b[0m\u001b[0m\n",
      "\u001b[1;31mIndexError\u001b[0m: list index out of range"
     ]
    }
   ],
   "source": [
    "# with open(\"my_tweet.txt\", \"w\") as f:\n",
    "#     f.write(tweets[8])\n",
    "# with open('my_tweet.txt','r') as f:\n",
    "#     tweet = api.update_status(f.read(), in_reply_to_status_id = tweet.id_str)"
   ]
  },
  {
   "cell_type": "code",
   "execution_count": 86,
   "metadata": {
    "tags": []
   },
   "outputs": [],
   "source": [
    "for i in range(1,len(tweets)):\n",
    "    with open(\"my_tweet.txt\", \"w\") as f:\n",
    "        f.write(tweets[i])\n",
    "    with open('my_tweet.txt','r') as f:\n",
    "        tweet = api.update_status(f.read(), in_reply_to_status_id = tweet.id_str)"
   ]
  },
  {
   "cell_type": "code",
   "execution_count": 48,
   "metadata": {
    "tags": []
   },
   "outputs": [],
   "source": [
    "with open('my_tweet.txt','r') as f:\n",
    "   tweet = api.update_status(f.read())"
   ]
  },
  {
   "cell_type": "code",
   "execution_count": 51,
   "metadata": {},
   "outputs": [],
   "source": [
    "with open(\"my_tweet.txt\", \"w\") as f:\n",
    "    f.write(st[3])\n",
    "\n",
    "with open('my_tweet.txt','r') as f:\n",
    "   api.update_status(status = f.read(), in_reply_to_status_id = tweet.id_str)"
   ]
  },
  {
   "cell_type": "code",
   "execution_count": 44,
   "metadata": {
    "tags": []
   },
   "outputs": [
    {
     "output_type": "stream",
     "name": "stdout",
     "text": "1306381848336117761\n1306381722330656768\n"
    }
   ],
   "source": [
    "for status in api.user_timeline():\n",
    "    print(status.id)"
   ]
  },
  {
   "cell_type": "code",
   "execution_count": null,
   "metadata": {},
   "outputs": [],
   "source": []
  }
 ]
}
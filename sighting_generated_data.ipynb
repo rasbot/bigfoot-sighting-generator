{
 "metadata": {
  "language_info": {
   "codemirror_mode": {
    "name": "ipython",
    "version": 3
   },
   "file_extension": ".py",
   "mimetype": "text/x-python",
   "name": "python",
   "nbconvert_exporter": "python",
   "pygments_lexer": "ipython3",
   "version": "3.5.5-final"
  },
  "orig_nbformat": 2,
  "kernelspec": {
   "name": "python35564bitpy35condaa74a24b6075244cb830811c39c7c8916",
   "display_name": "Python 3.5.5 64-bit ('py35': conda)"
  }
 },
 "nbformat": 4,
 "nbformat_minor": 2,
 "cells": [
  {
   "cell_type": "code",
   "execution_count": 1,
   "metadata": {},
   "outputs": [],
   "source": [
    "import src.data_prep as dp\n",
    "import pandas as pd \n",
    "import numpy as np\n",
    "import matplotlib.pyplot as plt\n",
    "import json\n",
    "import src.data_prep as dp\n",
    "from datetime import datetime"
   ]
  },
  {
   "cell_type": "code",
   "execution_count": 2,
   "metadata": {},
   "outputs": [],
   "source": [
    "reports = dp.import_data(\"data/data.json\")\n",
    "df = dp.create_df(reports)\n",
    "# df.head()"
   ]
  },
  {
   "cell_type": "markdown",
   "metadata": {},
   "source": [
    "The `OBSERVED` column has been generated with a RNN. A few other columns can be generated with the RNN, and some will just be randomized. It won't be entirely possible to correlate the generated portions with randomized sections. For instance, if `STATE` is randomized, then `COUNTY` can't be. `COUNTY` could be stored in a dictionary as a list under the key `STATE`, but that might be too much work. \n",
    "\n",
    "RANDOMIZED:\n",
    "* NEAREST ROAD\n",
    "* SEASON (generate MONTH from that)\n",
    "* STATE (generate NEAREST TOWN from that)\n",
    "* OTHER WITNESSES\n",
    "\n",
    "RNN:\n",
    "* TIME AND CONDITIONS\n",
    "* ENVIRONMENT\n",
    "* OTHER CONDITIONS?\n"
   ]
  },
  {
   "cell_type": "code",
   "execution_count": 3,
   "metadata": {},
   "outputs": [],
   "source": [
    "# dp.get_state_data(df, 'data')"
   ]
  },
  {
   "cell_type": "code",
   "execution_count": 3,
   "metadata": {},
   "outputs": [],
   "source": [
    "# dp.get_bag_of_words(df, 'TIME AND CONDITIONS', 'data/time_conditions')"
   ]
  },
  {
   "cell_type": "code",
   "execution_count": 4,
   "metadata": {},
   "outputs": [],
   "source": [
    "# dp.get_bag_of_words(df, 'ENVIRONMENT', 'data/environment')"
   ]
  },
  {
   "cell_type": "code",
   "execution_count": 3,
   "metadata": {
    "tags": []
   },
   "outputs": [
    {
     "output_type": "stream",
     "name": "stdout",
     "text": "\n(py35) d:\\gal\\bigfoot-sighting-generator>#!/bin/bash\n\n(py35) d:\\gal\\bigfoot-sighting-generator>python sample.py --save_dir=\"data/observed/save\" -n=250 -s=True -t=\"observed\" \nbackside.\nFigured that it was a young bigfoot, because i thought we were walking through the forest in the water. so, it was a wonderful sunny morning i was on duty at this time walking like a train nearby about the size of a large man walk past his campsite. from first dad was spending a night of firearm brush and deadfall near the lake. i only saw the creature, but it smelled awful. it instead more about 20 feet away. it was tall, tall and hairy but i have seen action of my ears. when i mention it in chapparal area that i was hearing was happening that initial few minutes ago. he did believe me, so he told me that he had been out their window to look at my rifle because i caught into the fish. i sat in the car and hid behind the furniture in search and i stopped the tape because i was homeless or more then and said \"lets go\". who was telling me to go back to my truck where i heard this sound before. i thought it's not enough to be responsible for my bow and a flashlight in the side of the car which did look over its eyes like an animal ripping off . i see no more.my one told me i had camping across the smith river from a town in the past several days.\n\n(py35) d:\\gal\\bigfoot-sighting-generator>python sample.py --save_dir=\"data/environment/save\" -n=30 -s=True -t=\"environment\" \ntyped\nOil look and conifer swamps, oak cover. moderate deciduous mixed ponderosa line(25 populated location there. on southeast at.\n\n(py35) d:\\gal\\bigfoot-sighting-generator>python sample.py --save_dir=\"data/time_conditions/save\" -n=20 -s=True -t=\"time_conditions\" \nscream,\nMid it was dry, late evening.\n'#!' is not recognized as an internal or external command,\noperable program or batch file.\n2020-09-15 14:42:02.356360: I T:\\src\\github\\tensorflow\\tensorflow\\core\\platform\\cpu_feature_guard.cc:140] Your CPU supports instructions that this TensorFlow binary was not compiled to use: AVX2\n2020-09-15 14:42:16.387033: I T:\\src\\github\\tensorflow\\tensorflow\\core\\platform\\cpu_feature_guard.cc:140] Your CPU supports instructions that this TensorFlow binary was not compiled to use: AVX2\n2020-09-15 14:42:24.377006: I T:\\src\\github\\tensorflow\\tensorflow\\core\\platform\\cpu_feature_guard.cc:140] Your CPU supports instructions that this TensorFlow binary was not compiled to use: AVX2\n"
    }
   ],
   "source": [
    "!generate_sighting.bat"
   ]
  },
  {
   "cell_type": "code",
   "execution_count": 36,
   "metadata": {},
   "outputs": [],
   "source": [
    "with open(\"temp_environment.txt\", \"r\") as f:\n",
    "    env = f.read()\n",
    "f.close()\n",
    "with open(\"temp_observed.txt\", \"r\") as f:\n",
    "    obs = f.read()\n",
    "f.close()\n",
    "with open(\"temp_time_conditions.txt\", \"r\") as f:\n",
    "    tc = f.read()\n",
    "f.close()"
   ]
  },
  {
   "cell_type": "code",
   "execution_count": 37,
   "metadata": {},
   "outputs": [],
   "source": [
    "with open(\"data/states.json\", \"r\") as f:\n",
    "    states_data = json.load(f)"
   ]
  },
  {
   "cell_type": "code",
   "execution_count": 38,
   "metadata": {},
   "outputs": [],
   "source": [
    "unique_states = np.unique(np.array(df['STATE'].dropna()))\n",
    "idx = np.argwhere(unique_states == '(International)')\n",
    "unique_states = np.delete(unique_states, idx)"
   ]
  },
  {
   "cell_type": "code",
   "execution_count": 39,
   "metadata": {},
   "outputs": [],
   "source": [
    "unique_seasons = np.unique(np.array(df['SEASON'].dropna()))"
   ]
  },
  {
   "cell_type": "code",
   "execution_count": 40,
   "metadata": {},
   "outputs": [
    {
     "output_type": "execute_result",
     "data": {
      "text/plain": "array(['Fall', 'Spring', 'Summer', 'Unknown', 'Winter'], dtype=object)"
     },
     "metadata": {},
     "execution_count": 40
    }
   ],
   "source": [
    "unique_seasons"
   ]
  },
  {
   "cell_type": "code",
   "execution_count": 41,
   "metadata": {
    "tags": []
   },
   "outputs": [],
   "source": [
    "state = np.random.choice(unique_states)\n",
    "county = np.random.choice(states_data[state][\"Counties\"])\n",
    "nearest_town = np.random.choice(states_data[state][\"Nearest Town\"])\n",
    "nearest_road = np.random.choice(states_data[state][\"Nearest Road\"])\n",
    "season = np.random.choice(unique_seasons)\n"
   ]
  },
  {
   "cell_type": "code",
   "execution_count": 42,
   "metadata": {},
   "outputs": [],
   "source": [
    "sighting_info = \"\"\"SEASON: {season}\n",
    "\n",
    "STATE: {state}\n",
    "\n",
    "NEAREST TOWN: {nearest_town}\n",
    "\n",
    "NEAREST ROAD: {nearest_road}\n",
    "\n",
    "ENVIRONMENT: {env}\n",
    "\n",
    "TIME AND CONDITIONS: {tc}\n",
    "\n",
    "\"\"\".format(season=season, state=state, nearest_town=nearest_town, nearest_road=nearest_road, env=env, tc=tc)\n",
    "\n",
    "observation = \"\"\"OBSERVED: {obs}\"\"\".format(obs=obs)"
   ]
  },
  {
   "cell_type": "code",
   "execution_count": 43,
   "metadata": {
    "tags": []
   },
   "outputs": [
    {
     "output_type": "stream",
     "name": "stdout",
     "text": "SEASON: Fall\n\nSTATE: Connecticut\n\nNEAREST TOWN: Torrington\n\nNEAREST ROAD: We were on Town Hill Rd, Rt. 219\n\nENVIRONMENT: 100yrd combination open field with some bare right next by a berry-producing highway to an week of thick trees.\n\nTIME AND CONDITIONS: Mounted days while night lights. sunset around 2pm it was clear. 1-2 am at evening....\n\n\nOBSERVED: I first did it take him right but i kinda didn't get someone to drink. everyone went back to him and got all the binoculars. i then slowed down and reported it. that had it really happened either. i just wanted to shoot it with the shotgun. the rear lines i saw on the leg. and like the moan even bad. on this moment i felt as if someone would be hunting here, but for the first camper in the house a few years ago when they started. i send them to we do?\" the road the backyard got drawn out of the fallen tree line on his left, looking toward the front for balance creek above the peak east of the campus and his arm moved slightly almost hair which was at least 10 feet. it was no humon way to looking on it as well. i clearly really felt glass and i just kind of brushed it or made me for awhile too, but iÂ’d never heard someone, and cougars wind in the trees i tried to make fun of me.\n"
    }
   ],
   "source": [
    "print(sighting_info)\n",
    "print(observation)"
   ]
  },
  {
   "cell_type": "code",
   "execution_count": 13,
   "metadata": {
    "tags": []
   },
   "outputs": [
    {
     "output_type": "stream",
     "name": "stdout",
     "text": "2020-09-15 12:50:09.949534\n"
    }
   ],
   "source": [
    "print(datetime.now())"
   ]
  },
  {
   "cell_type": "code",
   "execution_count": 13,
   "metadata": {},
   "outputs": [],
   "source": [
    "season_d = {\"SEASON: \": season}\n",
    "state_d = {\"STATE: \": state}\n",
    "nearest_town_d = {\"NEAREST TOWN: \": nearest_town}\n",
    "nearest_road_d = {\"NEAREST ROAD: \": nearest_road}\n",
    "env_d = {\"ENVIRONMENT: \": env}\n",
    "tc_d = {\"TIME AND CONDITIONS: \": tc}\n",
    "obs_d = {\"OBSERVATION: \": obs}"
   ]
  },
  {
   "cell_type": "code",
   "execution_count": 22,
   "metadata": {},
   "outputs": [],
   "source": [
    "sighting_d = { str(datetime.now()): \n",
    "        {\"SEASON: \": season, \n",
    "        \"STATE: \": state,\n",
    "        \"NEAREST TOWN: \": nearest_town,\n",
    "        \"NEAREST ROAD: \": nearest_road,\n",
    "        \"ENVIRONMENT: \": env,\n",
    "        \"TIME AND CONDITIONS: \": tc,\n",
    "        \"OBSERVATION: \": obs}}"
   ]
  },
  {
   "cell_type": "code",
   "execution_count": 23,
   "metadata": {
    "tags": []
   },
   "outputs": [],
   "source": [
    "with open(\"generated_sightings.json\", \"a\") as f:\n",
    "        with open(\"generated_sightings.json\") as f:\n",
    "            data = json.load(f)\n",
    "        data.update(sighting_d)\n",
    "        with open(\"generated_sightings.json\", \"w\") as f:\n",
    "            json.dump(data, f, indent=4, sort_keys=False)\n",
    "f.close()"
   ]
  },
  {
   "cell_type": "code",
   "execution_count": 44,
   "metadata": {
    "tags": []
   },
   "outputs": [],
   "source": [
    "with open(\"generated_sightings.json\") as f:\n",
    "    data = json.load(f)"
   ]
  },
  {
   "cell_type": "code",
   "execution_count": 45,
   "metadata": {},
   "outputs": [],
   "source": [
    "# key of the newest entry\n",
    "latest_key = sorted(data.keys())[-1]"
   ]
  },
  {
   "cell_type": "code",
   "execution_count": 46,
   "metadata": {},
   "outputs": [],
   "source": [
    "latest_sighting = data[latest_key]"
   ]
  },
  {
   "cell_type": "code",
   "execution_count": 150,
   "metadata": {
    "tags": []
   },
   "outputs": [],
   "source": [
    "sighting_info = [\"SEASON: {season}\".format(season=latest_sighting[\"SEASON: \"]),\n",
    "\"STATE: {state}\".format(state=latest_sighting[\"STATE: \"]),\n",
    "\"NEAREST TOWN: {nearest_town}\".format(nearest_town=latest_sighting[\"NEAREST TOWN: \"]),\n",
    "\"NEAREST ROAD: {nearest_road}\".format(nearest_road=latest_sighting[\"NEAREST ROAD: \"]),\n",
    "\"ENVIRONMENT: {env}\".format(env=latest_sighting[\"ENVIRONMENT: \"]),\n",
    "\"TIME AND CONDITIONS: {tc}\".format(tc=latest_sighting[\"TIME AND CONDITIONS: \"])]\n",
    "\n",
    "observation = \"\"\"OBSERVATION: {obs}\"\"\".format(obs=latest_sighting[\"OBSERVATION: \"])"
   ]
  },
  {
   "cell_type": "code",
   "execution_count": 48,
   "metadata": {
    "tags": []
   },
   "outputs": [
    {
     "output_type": "stream",
     "name": "stdout",
     "text": "OBSERVATION: I first did it take him right but i kinda didn't get someone to drink. everyone went back to him and got all the binoculars. i then slowed down and reported it. that had it really happened either. i just wanted to shoot it with the shotgun. the rear lines i saw on the leg. and like the moan even bad. on this moment i felt as if someone would be hunting here, but for the first camper in the house a few years ago when they started. i send them to we do?\" the road the backyard got drawn out of the fallen tree line on his left, looking toward the front for balance creek above the peak east of the campus and his arm moved slightly almost hair which was at least 10 feet. it was no humon way to looking on it as well. i clearly really felt glass and i just kind of brushed it or made me for awhile too, but iÂ’d never heard someone, and cougars wind in the trees i tried to make fun of me.\n"
    }
   ],
   "source": [
    "print(observation)"
   ]
  },
  {
   "cell_type": "code",
   "execution_count": 72,
   "metadata": {
    "tags": []
   },
   "outputs": [
    {
     "output_type": "stream",
     "name": "stdout",
     "text": "['SEASON: Winter', 'STATE: Alabama', 'NEAREST TOWN: Heflin ', 'NEAREST ROAD: Appalachian Rd', 'ENVIRONMENT: 100yrd combination open field with some bare right next by a berry-producing highway to an week of thick trees.', 'TIME AND CONDITIONS: Mounted days while night lights. sunset around 2pm it was clear. 1-2 am at evening....']\n"
    }
   ],
   "source": [
    "print(sighting_info)"
   ]
  },
  {
   "cell_type": "code",
   "execution_count": 52,
   "metadata": {},
   "outputs": [],
   "source": [
    "if len(observation) > 240:\n",
    "    observation.split(' ')"
   ]
  },
  {
   "cell_type": "code",
   "execution_count": 74,
   "metadata": {},
   "outputs": [],
   "source": [
    "obs_split = observation.split(' ')\n",
    "obs_list = []\n",
    "s = \"\"\n",
    "for val in obs_split:\n",
    "    # while True:\n",
    "    if len(s) < 230:\n",
    "        word = val + \" \"\n",
    "        s += word\n",
    "    else:\n",
    "        s += \"...\"\n",
    "        obs_list.append(s)\n",
    "        s = \"\""
   ]
  },
  {
   "cell_type": "code",
   "execution_count": 75,
   "metadata": {},
   "outputs": [
    {
     "output_type": "execute_result",
     "data": {
      "text/plain": "[\"OBSERVATION: I first did it take him right but i kinda didn't get someone to drink. everyone went back to him and got all the binoculars. i then slowed down and reported it. that had it really happened either. i just wanted to shoot ...\",\n 'with the shotgun. the rear lines i saw on the leg. and like the moan even bad. on this moment i felt as if someone would be hunting here, but for the first camper in the house a few years ago when they started. i send them to we do?\" ...',\n 'road the backyard got drawn out of the fallen tree line on his left, looking toward the front for balance creek above the peak east of the campus and his arm moved slightly almost hair which was at least 10 feet. it was no humon way ...']"
     },
     "metadata": {},
     "execution_count": 75
    }
   ],
   "source": [
    "obs_list"
   ]
  },
  {
   "cell_type": "code",
   "execution_count": 76,
   "metadata": {
    "tags": []
   },
   "outputs": [
    {
     "output_type": "stream",
     "name": "stdout",
     "text": "236\n237\n236\n"
    }
   ],
   "source": [
    "for i in obs_list:\n",
    "    print(len(i))"
   ]
  },
  {
   "cell_type": "code",
   "execution_count": 143,
   "metadata": {},
   "outputs": [],
   "source": [
    "sighting_info = [\"a\"*200, \"b\"*25, \"c\"*150, \"d\"*50, \"e\"*10]"
   ]
  },
  {
   "cell_type": "code",
   "execution_count": 155,
   "metadata": {
    "tags": []
   },
   "outputs": [],
   "source": [
    "sighting_list = []\n",
    "s = \"\"\n",
    "for i in sighting_info:\n",
    "    if len(s) < 230:\n",
    "        _ = i + \"\\n\"\n",
    "        s += _\n",
    "    if len(s) > 230:\n",
    "        s = s.replace(_, \"\")\n",
    "        sighting_list.append(s)\n",
    "        s = \"\" + _\n",
    "sighting_list.append(s)"
   ]
  },
  {
   "cell_type": "code",
   "execution_count": 160,
   "metadata": {
    "tags": []
   },
   "outputs": [
    {
     "output_type": "stream",
     "name": "stdout",
     "text": "SEASON: Winter\nSTATE: Alabama\nNEAREST TOWN: Heflin \nNEAREST ROAD: Appalachian Rd\nENVIRONMENT: 100yrd combination open field with some bare right next by a berry-producing highway to an week of thick trees.\nFIN\n"
    }
   ],
   "source": [
    "print(sighting_list[0] + \"FIN\")"
   ]
  },
  {
   "cell_type": "code",
   "execution_count": 119,
   "metadata": {},
   "outputs": [],
   "source": [
    ">>> string1 = 'AJYF'\n",
    ">>> string2 = 'AJ'\n",
    ">>> if string2 in string1:\n",
    "...     string1.replace(string2,'')"
   ]
  },
  {
   "cell_type": "code",
   "execution_count": 120,
   "metadata": {},
   "outputs": [
    {
     "output_type": "execute_result",
     "data": {
      "text/plain": "'AJYF'"
     },
     "metadata": {},
     "execution_count": 120
    }
   ],
   "source": [
    "string1"
   ]
  },
  {
   "cell_type": "code",
   "execution_count": 110,
   "metadata": {},
   "outputs": [
    {
     "output_type": "execute_result",
     "data": {
      "text/plain": "['cheese', 'tortilla']"
     },
     "metadata": {},
     "execution_count": 110
    }
   ],
   "source": [
    "taco"
   ]
  },
  {
   "cell_type": "code",
   "execution_count": 80,
   "metadata": {
    "tags": []
   },
   "outputs": [
    {
     "output_type": "stream",
     "name": "stdout",
     "text": "SEASON: Winter\n\nSTATE: Alabama\n"
    }
   ],
   "source": [
    "print(sighting_info[0] + \"\\n\\n\" + sighting_info[1])"
   ]
  },
  {
   "cell_type": "code",
   "execution_count": null,
   "metadata": {},
   "outputs": [],
   "source": []
  }
 ]
}
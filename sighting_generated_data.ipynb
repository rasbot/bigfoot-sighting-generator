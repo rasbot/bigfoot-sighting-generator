{
 "metadata": {
  "language_info": {
   "codemirror_mode": {
    "name": "ipython",
    "version": 3
   },
   "file_extension": ".py",
   "mimetype": "text/x-python",
   "name": "python",
   "nbconvert_exporter": "python",
   "pygments_lexer": "ipython3",
   "version": "3.5.5-final"
  },
  "orig_nbformat": 2,
  "kernelspec": {
   "name": "python35564bitpy35condaa74a24b6075244cb830811c39c7c8916",
   "display_name": "Python 3.5.5 64-bit ('py35': conda)"
  }
 },
 "nbformat": 4,
 "nbformat_minor": 2,
 "cells": [
  {
   "cell_type": "code",
   "execution_count": 1,
   "metadata": {},
   "outputs": [],
   "source": [
    "import src.data_prep as dp\n",
    "import pandas as pd \n",
    "import numpy as np\n",
    "import matplotlib.pyplot as plt\n",
    "import json\n",
    "import src.data_prep as dp\n",
    "from datetime import datetime, timedelta\n",
    "import time\n",
    "import os\n",
    "import tweepy"
   ]
  },
  {
   "cell_type": "code",
   "execution_count": 2,
   "metadata": {},
   "outputs": [],
   "source": [
    "with open(\"data/auth.json\") as f:\n",
    "    keys = json.load(f)\n",
    "f.close()"
   ]
  },
  {
   "cell_type": "code",
   "execution_count": 3,
   "metadata": {},
   "outputs": [],
   "source": [
    "# authentication of consumer key and secret \n",
    "auth = tweepy.OAuthHandler(keys[\"consumer_key\"], keys[\"consumer_secret\"]) \n",
    "  \n",
    "# authentication of access token and secret \n",
    "auth.set_access_token(keys[\"access_token\"], keys[\"access_token_secret\"]) \n",
    "api = tweepy.API(auth) "
   ]
  },
  {
   "cell_type": "code",
   "execution_count": 4,
   "metadata": {},
   "outputs": [],
   "source": [
    "reports = dp.import_data(\"data/data.json\")\n",
    "df = dp.create_df(reports)\n",
    "# df.head()"
   ]
  },
  {
   "cell_type": "markdown",
   "metadata": {},
   "source": [
    "The `OBSERVED` column has been generated with a RNN. A few other columns can be generated with the RNN, and some will just be randomized. It won't be entirely possible to correlate the generated portions with randomized sections. For instance, if `STATE` is randomized, then `COUNTY` can't be. `COUNTY` could be stored in a dictionary as a list under the key `STATE`, but that might be too much work. \n",
    "\n",
    "RANDOMIZED:\n",
    "* NEAREST ROAD\n",
    "* SEASON (generate MONTH from that)\n",
    "* STATE (generate NEAREST TOWN from that)\n",
    "* OTHER WITNESSES\n",
    "\n",
    "RNN:\n",
    "* TIME AND CONDITIONS\n",
    "* ENVIRONMENT\n",
    "* OTHER CONDITIONS?\n"
   ]
  },
  {
   "cell_type": "code",
   "execution_count": 5,
   "metadata": {},
   "outputs": [],
   "source": [
    "# dp.get_state_data(df, 'data')"
   ]
  },
  {
   "cell_type": "code",
   "execution_count": 6,
   "metadata": {},
   "outputs": [],
   "source": [
    "# dp.get_bag_of_words(df, 'TIME AND CONDITIONS', 'data/time_conditions')"
   ]
  },
  {
   "cell_type": "code",
   "execution_count": 7,
   "metadata": {},
   "outputs": [],
   "source": [
    "# dp.get_bag_of_words(df, 'ENVIRONMENT', 'data/environment')"
   ]
  },
  {
   "cell_type": "code",
   "execution_count": 36,
   "metadata": {
    "tags": []
   },
   "outputs": [
    {
     "output_type": "stream",
     "name": "stdout",
     "text": "\n(py35) d:\\gal\\bigfoot-sighting-generator>#!/bin/bash\n\n(py35) d:\\gal\\bigfoot-sighting-generator>python sample.py --save_dir=\"data/observed/save\" -n=250 -s=True -t=\"observed\" \nouting!\nMy mother lives. i cried alone and screech or whatever. you dont put up with them, but the weather made only 4 times in the morning three things circling out close to us. it was getting dark and in the deep woods. i still didn't say anything out of the ordinary particularly clearly, could be a juvenile. where at this distance we each pretty much to prove to us that an episode of the word show, an odd encounter with what they sound was up, but found in the years in your mountains at north even though the tracks is now the largest of a paranormal site. this area has always been brought away together. around 20 or so, we heard first was making our way across the road. it was close to 7:00pm and i were a very convincing bear-growl yet. she was out there. around 4:00 am. what i entered that time i could see through the brush. it was fairly late at night and i could no longer could see what appeared to be a very large wallowy mass of about three or three inches of snow on the ground. i've seen a sasquatch, when i looked out into the foliage i heard a strange presence and a dark tall walked within thick forest on the west coast to witness me in mine and whistling altogether.\n\n(py35) d:\\gal\\bigfoot-sighting-generator>python sample.py --save_dir=\"data/environment/save\" -n=30 -s=True -t=\"environment\" \ndiversed\nSlide surrounded by little ridges.\n\n(py35) d:\\gal\\bigfoot-sighting-generator>python sample.py --save_dir=\"data/time_conditions/save\" -n=20 -s=True -t=\"time_conditions\" \ncornered.\nHappened hours. woods were my house happend on the season. cold morning.\n\n(py35) d:\\gal\\bigfoot-sighting-generator>python generate_sighting.py \n\n(py35) d:\\gal\\bigfoot-sighting-generator>python generate_tweet.py \n'#!' is not recognized as an internal or external command,\noperable program or batch file.\n2020-09-17 17:06:46.686500: I T:\\src\\github\\tensorflow\\tensorflow\\core\\platform\\cpu_feature_guard.cc:140] Your CPU supports instructions that this TensorFlow binary was not compiled to use: AVX2\n2020-09-17 17:06:59.952139: I T:\\src\\github\\tensorflow\\tensorflow\\core\\platform\\cpu_feature_guard.cc:140] Your CPU supports instructions that this TensorFlow binary was not compiled to use: AVX2\n2020-09-17 17:07:07.031513: I T:\\src\\github\\tensorflow\\tensorflow\\core\\platform\\cpu_feature_guard.cc:140] Your CPU supports instructions that this TensorFlow binary was not compiled to use: AVX2\nTraceback (most recent call last):\n  File \"generate_tweet.py\", line 75, in <module>\n    f.write(tweets[0])\nNameError: name 'tweets' is not defined\n"
    }
   ],
   "source": [
    "!generate_sighting.bat"
   ]
  },
  {
   "cell_type": "code",
   "execution_count": 5,
   "metadata": {},
   "outputs": [],
   "source": [
    "with open(\"temp_environment.txt\", \"r\") as f:\n",
    "    env = f.read()\n",
    "f.close()\n",
    "with open(\"temp_observed.txt\", \"r\") as f:\n",
    "    obs = f.read()\n",
    "f.close()\n",
    "with open(\"temp_time_conditions.txt\", \"r\") as f:\n",
    "    tc = f.read()\n",
    "f.close()"
   ]
  },
  {
   "cell_type": "code",
   "execution_count": 6,
   "metadata": {},
   "outputs": [],
   "source": [
    "with open(\"data/states.json\", \"r\") as f:\n",
    "    states_data = json.load(f)"
   ]
  },
  {
   "cell_type": "code",
   "execution_count": 7,
   "metadata": {},
   "outputs": [],
   "source": [
    "unique_states = np.unique(np.array(df['STATE'].dropna()))\n",
    "idx = np.argwhere(unique_states == '(International)')\n",
    "unique_states = np.delete(unique_states, idx)"
   ]
  },
  {
   "cell_type": "code",
   "execution_count": 8,
   "metadata": {},
   "outputs": [],
   "source": [
    "unique_seasons = np.unique(np.array(df['SEASON'].dropna()))"
   ]
  },
  {
   "cell_type": "code",
   "execution_count": 15,
   "metadata": {},
   "outputs": [
    {
     "output_type": "execute_result",
     "data": {
      "text/plain": "array(['Fall', 'Spring', 'Summer', 'Unknown', 'Winter'], dtype=object)"
     },
     "metadata": {},
     "execution_count": 15
    }
   ],
   "source": [
    "unique_seasons"
   ]
  },
  {
   "cell_type": "code",
   "execution_count": 9,
   "metadata": {
    "tags": []
   },
   "outputs": [],
   "source": [
    "state = np.random.choice(unique_states)\n",
    "county = np.random.choice(states_data[state][\"Counties\"])\n",
    "nearest_town = np.random.choice(states_data[state][\"Nearest Town\"])\n",
    "nearest_road = np.random.choice(states_data[state][\"Nearest Road\"])\n",
    "season = np.random.choice(unique_seasons)\n"
   ]
  },
  {
   "cell_type": "code",
   "execution_count": 17,
   "metadata": {},
   "outputs": [],
   "source": [
    "sighting_info = \"\"\"SEASON: {season}\n",
    "\n",
    "STATE: {state}\n",
    "\n",
    "NEAREST TOWN: {nearest_town}\n",
    "\n",
    "NEAREST ROAD: {nearest_road}\n",
    "\n",
    "ENVIRONMENT: {env}\n",
    "\n",
    "TIME AND CONDITIONS: {tc}\n",
    "\n",
    "\"\"\".format(season=season, state=state, nearest_town=nearest_town, nearest_road=nearest_road, env=env, tc=tc)\n",
    "\n",
    "observation = \"\"\"OBSERVED: {obs}\"\"\".format(obs=obs)"
   ]
  },
  {
   "cell_type": "code",
   "execution_count": 18,
   "metadata": {
    "tags": []
   },
   "outputs": [
    {
     "output_type": "stream",
     "name": "stdout",
     "text": "SEASON: Summer\n\nSTATE: Louisiana\n\nNEAREST TOWN: Pollock\n\nNEAREST ROAD: Hwy 17\n\nENVIRONMENT: Area was flat. we valley. and near puget county. swampy area bordered the north, rocky and close to trees.\n\nTIME AND CONDITIONS: \n\n\nOBSERVED: A question was not the rather explorer with three witnesses. they where people in the back is a bit concerned @ once in my opinion we have clearly seen the creature, he truly has invited us of the children that had gone home for the night. although we have been in a very remote area of pendleton county. i wanted to go back through the dark. a couple of minutes later we calmed down and stared straight at us. \"phil stop!\" my son fell \"i think about it was oh till yesterday jan 9:00 to large am. he heard the noises. i asked if he could hear the tree pattern of bigfoot and not breaking the sounds. about 40 to 45 minutes later i heard the second or the animal call. after a while, my wife started to say because it was fast, i thought it was wearing fact anything but the sound was a screech owl, (for any easy time to come to speak for 4 people to get some trouble under control. during my night going around quickly a very nice part. we made a drive up to our left and saw a face through the thick brush there. i didnÂ’t think much about it. to amuse silence. i slung my flashlight in and then jumped into a ravine. i remember that i kept glancing in.\n"
    }
   ],
   "source": [
    "print(sighting_info)\n",
    "print(observation)"
   ]
  },
  {
   "cell_type": "code",
   "execution_count": 17,
   "metadata": {
    "tags": []
   },
   "outputs": [
    {
     "output_type": "stream",
     "name": "stdout",
     "text": "2020-09-16 15:52:35.920272\n"
    }
   ],
   "source": [
    "print(datetime.now())"
   ]
  },
  {
   "cell_type": "code",
   "execution_count": 10,
   "metadata": {},
   "outputs": [],
   "source": [
    "season_d = {\"SEASON: \": season}\n",
    "state_d = {\"STATE: \": state}\n",
    "nearest_town_d = {\"NEAREST TOWN: \": nearest_town}\n",
    "nearest_road_d = {\"NEAREST ROAD: \": nearest_road}\n",
    "env_d = {\"ENVIRONMENT: \": env}\n",
    "tc_d = {\"TIME AND CONDITIONS: \": tc}\n",
    "obs_d = {\"OBSERVATION: \": obs}"
   ]
  },
  {
   "cell_type": "code",
   "execution_count": 11,
   "metadata": {},
   "outputs": [],
   "source": [
    "sighting_d = { str(datetime.now()): \n",
    "        {\"SEASON: \": season, \n",
    "        \"STATE: \": state,\n",
    "        \"NEAREST TOWN: \": nearest_town,\n",
    "        \"NEAREST ROAD: \": nearest_road,\n",
    "        \"ENVIRONMENT: \": env,\n",
    "        \"TIME AND CONDITIONS: \": tc,\n",
    "        \"OBSERVATION: \": obs}}"
   ]
  },
  {
   "cell_type": "code",
   "execution_count": 20,
   "metadata": {
    "tags": []
   },
   "outputs": [],
   "source": [
    "with open(\"generated_sightings.json\", \"a\") as f:\n",
    "        with open(\"generated_sightings.json\") as f:\n",
    "            data = json.load(f)\n",
    "        data.update(sighting_d)\n",
    "        with open(\"generated_sightings.json\", \"w\") as f:\n",
    "            json.dump(data, f, indent=4, sort_keys=False)\n",
    "f.close()"
   ]
  },
  {
   "cell_type": "code",
   "execution_count": 6,
   "metadata": {
    "tags": []
   },
   "outputs": [],
   "source": [
    "with open(\"generated_sightings.json\") as f:\n",
    "    data = json.load(f)"
   ]
  },
  {
   "cell_type": "code",
   "execution_count": 7,
   "metadata": {},
   "outputs": [],
   "source": [
    "# key of the newest entry\n",
    "latest_key = sorted(data.keys())[-1]"
   ]
  },
  {
   "cell_type": "code",
   "execution_count": 8,
   "metadata": {},
   "outputs": [],
   "source": [
    "latest_sighting = data[latest_key]"
   ]
  },
  {
   "cell_type": "code",
   "execution_count": 9,
   "metadata": {
    "tags": []
   },
   "outputs": [],
   "source": [
    "sighting_info = [\"SEASON: {season}\".format(season=latest_sighting[\"SEASON: \"]),\n",
    "\"STATE: {state}\".format(state=latest_sighting[\"STATE: \"]),\n",
    "\"NEAREST TOWN: {nearest_town}\".format(nearest_town=latest_sighting[\"NEAREST TOWN: \"]),\n",
    "\"NEAREST ROAD: {nearest_road}\".format(nearest_road=latest_sighting[\"NEAREST ROAD: \"]),\n",
    "\"ENVIRONMENT: {env}\".format(env=latest_sighting[\"ENVIRONMENT: \"]),\n",
    "\"TIME AND CONDITIONS: {tc}\".format(tc=latest_sighting[\"TIME AND CONDITIONS: \"])]\n",
    "\n",
    "observation = \"\"\"OBSERVATION: {obs}\"\"\".format(obs=latest_sighting[\"OBSERVATION: \"])"
   ]
  },
  {
   "cell_type": "code",
   "execution_count": 10,
   "metadata": {},
   "outputs": [
    {
     "output_type": "execute_result",
     "data": {
      "text/plain": "'OBSERVATION: A many older only truck running. seen 40 years ago. i\\'m six or six years and i have never seen his parents he could gauge things. iÂ’m going to be careful\" after i had passed later. another spot is at a very remote region of hood national forest in fl on ground two lanes just downhill from us hwy 411 in diameter. i took our trip out in the cuyahoga creek state below peter byrne for a while and so we put right up the hill, the same time, i assumed did not see this creature. this was when i shined my light to decide if the bigfoot had gone to do. i could hear something very far off the side passenger window of the property to stop because my friend had already dropped it and see it\\'s as could have been lost when my buddy alerted the flashlight to go down. he replied that he didn\\'t know what to do. i cannot remember how thing it sounded like a rock or mom his mom said they saw a single knocking noise loudly from the window. i walked halfway up to look the entire time and found a large brownish red stride about 5 feet from him through my body. it sounded like it was coming up in the opposite direction away from our camp fire. it was very voluminous and covered with a reddish brown hair.'"
     },
     "metadata": {},
     "execution_count": 10
    }
   ],
   "source": [
    "observation"
   ]
  },
  {
   "cell_type": "code",
   "execution_count": 24,
   "metadata": {
    "tags": []
   },
   "outputs": [
    {
     "output_type": "execute_result",
     "data": {
      "text/plain": "\"OBSERVATION: The blurry cellphone photos mentioned is that what we saw was a perfect matchAt one encounter i went to play in late evening to this day and i know what i mean). I saw my story. Many times. There was also a full moon i heard the noise walking in the front seat. At the end of where i seen him frequently. The recording was dr. Xxxxxxxxxxx steve told me. I got scared... I am planning to escape from the colorado pass of mo. I was travelling to visit some friends who had been in the woods near the sugar creek 's' which is called from. Suddenly i had my wife and said if he were out on the ice storm to the tree i was trying to find tracks at about 40 yards away and as i continued off the side of the old road. On the other side of the hill and out of sight, i began to my really brother in his hand stands down. He then described the same scene.. \""
     },
     "metadata": {},
     "execution_count": 24
    }
   ],
   "source": [
    "o = \"\"\n",
    "obs_split = observation.split(\". \")\n",
    "for i in range(1,len(obs_split)):\n",
    "    o += obs_split[i].capitalize() + \". \"\n",
    "observation = obs_split[0] + o\n",
    "observation"
   ]
  },
  {
   "cell_type": "code",
   "execution_count": 68,
   "metadata": {},
   "outputs": [
    {
     "output_type": "execute_result",
     "data": {
      "text/plain": "\"I did not think i was going to hunt, but i'm not sure did you account for what is worse because i think my dad would sit on a stump and when you all this time, it had to be 8 feet in approaching the campsite\""
     },
     "metadata": {},
     "execution_count": 68
    }
   ],
   "source": [
    "observation.split(\". \")[1].capitalize()"
   ]
  },
  {
   "cell_type": "code",
   "execution_count": 79,
   "metadata": {
    "tags": []
   },
   "outputs": [
    {
     "output_type": "stream",
     "name": "stdout",
     "text": "['SEASON: Summer', 'STATE: Maine', 'NEAREST TOWN: Hollis', 'NEAREST ROAD: Rt. 11', 'ENVIRONMENT: Spruce and mountaintop bluffs. at the road from 12,500 creek bottom.', 'TIME AND CONDITIONS: Shift, both were mid afternoon, early for darkness provided after could took dusk and a dry, partially.']\n"
    }
   ],
   "source": [
    "print(sighting_info)"
   ]
  },
  {
   "cell_type": "code",
   "execution_count": 42,
   "metadata": {},
   "outputs": [
    {
     "output_type": "execute_result",
     "data": {
      "text/plain": "\"OBSERVATION: I chose the numerous holes near the tracks and it dawned on me that he really does exist. i did not think i was going to hunt, but i'm not sure did you account for what is worse because i think my dad would sit on ...\""
     },
     "metadata": {},
     "execution_count": 42
    }
   ],
   "source": [
    "s"
   ]
  },
  {
   "cell_type": "code",
   "execution_count": 42,
   "metadata": {},
   "outputs": [],
   "source": [
    "def split_tweet(observation, sighting_info, only_obs=False, numbered=True, max_length=225):\n",
    "    o = \"\"\n",
    "    obs_split = observation.split(\". \")\n",
    "    for i in range(1,len(obs_split)):\n",
    "        o += obs_split[i].capitalize() + \". \"\n",
    "    observation = obs_split[0] + o\n",
    "    obs_split = observation.split(' ')\n",
    "    obs_list, sighting_list, tweet_list, numbered_tweets = [], [], [], []\n",
    "    s = \"\"\n",
    "    for val in obs_split:\n",
    "        if len(s) < max_length:\n",
    "            word = val + \" \"\n",
    "            s += word\n",
    "        else:\n",
    "            obs_list.append(s)\n",
    "            _ = val + \" \"\n",
    "            s = _\n",
    "    obs_list.append(s)\n",
    "    if only_obs:\n",
    "        obs_list[0] = \"\".join(obs_list[0].split(\": \")[1:])\n",
    "    else:\n",
    "        sighting_list = []\n",
    "        s = \"\"\n",
    "        for i in sighting_info:\n",
    "            if len(s) < max_length:\n",
    "                _ = i + \"\\n\"\n",
    "                s += _\n",
    "            if len(s) > max_length:\n",
    "                s = s.replace(_, \"\")\n",
    "                sighting_list.append(s)\n",
    "                s = \"\" + i\n",
    "        sighting_list.append(s)\n",
    "        sighting_list[0] = sighting_list[0][:-1]\n",
    "        for i in sighting_list:\n",
    "            tweet_list.append(i)\n",
    "    for j in obs_list:\n",
    "        tweet_list.append(j)\n",
    "    if numbered:\n",
    "        for i in range(len(tweet_list)):\n",
    "            numbered_tweets.append(tweet_list[i] + \" ({}/{})\".format(i+1, len(tweet_list)))\n",
    "        return numbered_tweets\n",
    "    else:\n",
    "        return tweet_list"
   ]
  },
  {
   "cell_type": "code",
   "execution_count": 43,
   "metadata": {
    "tags": []
   },
   "outputs": [],
   "source": [
    "st = split_tweet(observation, sighting_info, numbered=True, only_obs=True)"
   ]
  },
  {
   "cell_type": "code",
   "execution_count": 44,
   "metadata": {
    "tags": []
   },
   "outputs": [
    {
     "output_type": "stream",
     "name": "stdout",
     "text": "A many older only truck runningSeen 40 years ago. I'm six or six years and i have never seen his parents he could gauge things. Iâ’m going to be careful\" after i had passed later. Another spot is at a very remote  (1/6)\n"
    }
   ],
   "source": [
    "print(st[0])"
   ]
  },
  {
   "cell_type": "code",
   "execution_count": 21,
   "metadata": {},
   "outputs": [
    {
     "output_type": "execute_result",
     "data": {
      "text/plain": "True"
     },
     "metadata": {},
     "execution_count": 21
    }
   ],
   "source": [
    "\"'\" in printable"
   ]
  },
  {
   "cell_type": "code",
   "execution_count": 52,
   "metadata": {},
   "outputs": [],
   "source": [
    "def remove_non_ascii(s):\n",
    "    s = s.replace('’', '\\'')\n",
    "    printable = list(string.printable)\n",
    "    return \"\".join(filter(lambda x: x in printable, s))\n",
    "\n",
    "def split_tweet(observation, sighting_info, only_obs=False, numbered=True, max_length=225):\n",
    "    o = \"\"\n",
    "    observation = remove_non_ascii(observation)\n",
    "    obs_split = observation.split(\". \")\n",
    "    for i in range(1,len(obs_split)):\n",
    "        o += obs_split[i].capitalize() + \". \"\n",
    "    observation = obs_split[0] + \". \" + o\n",
    "    obs_split = observation.split(' ')\n",
    "    obs_list, sighting_list, tweet_list, numbered_tweets = [], [], [], []\n",
    "    s = \"\"\n",
    "    for val in obs_split:\n",
    "        if len(s) < max_length:\n",
    "            word = val + \" \"\n",
    "            s += word\n",
    "        else:\n",
    "            obs_list.append(s)\n",
    "            _ = val + \" \"\n",
    "            s = _\n",
    "    obs_list.append(s)\n",
    "    if only_obs:\n",
    "        obs_list[0] = \"\".join(obs_list[0].split(\": \")[1:])\n",
    "    else:\n",
    "        sighting_list = []\n",
    "        s = \"\"\n",
    "        sighting_info = remove_non_ascii(sighting_info)\n",
    "        for i in sighting_info:\n",
    "            if len(s) < max_length:\n",
    "                _ = i + \"\\n\"\n",
    "                s += _\n",
    "            if len(s) > max_length:\n",
    "                s = s.replace(_, \"\")\n",
    "                sighting_list.append(s)\n",
    "                s = \"\" + i\n",
    "        sighting_list.append(s)\n",
    "        sighting_list[0] = sighting_list[0][:-1]\n",
    "        for i in sighting_list:\n",
    "            tweet_list.append(i)\n",
    "    for j in obs_list:\n",
    "        tweet_list.append(j)\n",
    "    if numbered:\n",
    "        for i in range(len(tweet_list)):\n",
    "            numbered_tweets.append(tweet_list[i] + \" ({}/{})\".format(i+1, len(tweet_list)))\n",
    "        return numbered_tweets\n",
    "    else:\n",
    "        return tweet_list"
   ]
  },
  {
   "cell_type": "code",
   "execution_count": 53,
   "metadata": {
    "tags": []
   },
   "outputs": [],
   "source": [
    "st = split_tweet(observation, sighting_info, numbered=True, only_obs=True)"
   ]
  },
  {
   "cell_type": "code",
   "execution_count": 54,
   "metadata": {
    "tags": []
   },
   "outputs": [
    {
     "output_type": "stream",
     "name": "stdout",
     "text": "A many older only truck running. Seen 40 years ago. I'm six or six years and i have never seen his parents he could gauge things. I'm going to be careful\" after i had passed later. Another spot is at a very remote  (1/6)\n"
    }
   ],
   "source": [
    "print(st[0])"
   ]
  },
  {
   "cell_type": "code",
   "execution_count": 46,
   "metadata": {},
   "outputs": [],
   "source": [
    "st[1] = \"OBSERVATION: My mother lives. I cried alone and screech or whatever. You don’t put up with them, but the weather made only 4 times in the morning three things circling out close to us. It was getting dark and in the deep woods.  2/7\""
   ]
  },
  {
   "cell_type": "code",
   "execution_count": 54,
   "metadata": {},
   "outputs": [],
   "source": [
    "st = ['OBSERVATION: My mother lives. I cried alone and screech or whatever. You don’t put up with them, but the weather made only 4 times in the morning three things circling out close to us. It was getting dark and in the deep woods.  1/6',\n",
    " \"I still didn't say anything out of the ordinary particularly clearly, could be a juvenile. Where at this distance we each pretty much to prove to us that an episode of the word show, an odd encounter with what they sound was  2/6\",\n",
    " 'up, but found in the years in your mountains at north even though the tracks is now the largest of a paranormal site. This area has always been brought away together. Around 20 or so, we heard first was making our way across  3/6',\n",
    " 'the road. It was close to 7:00pm and i were a very convincing bear-growl yet. She was out there. Around 4:00 am. What i entered that time i could see through the brush. It was fairly late at night and i could no longer could  4/6',\n",
    " \"see what appeared to be a very large wallowy mass of about three or three inches of snow on the ground. I've seen a sasquatch, when i looked out into the foliage i heard a strange presence and a dark tall walked within thick  5/6\",\n",
    " 'forest on the west coast to witness me in mine and whistling altogether..   6/6']\n",
    "\n",
    "st2 = ['My mother lives. I cried alone and screech or whatever. You don’t put up with them, but the weather made only 4 times in the morning three things circling out close to us. It was getting dark and in the deep woods.  1/6',\n",
    " \"I still didn't say anything out of the ordinary particularly clearly, could be a juvenile. Where at this distance we each pretty much to prove to us that an episode of the word show, an odd encounter with what they sound was  2/6\",\n",
    " 'up, but found in the years in your mountains at north even though the tracks is now the largest of a paranormal site. This area has always been brought away together. Around 20 or so, we heard first was making our way across  3/6',\n",
    " 'the road. It was close to 7:00pm and i were a very convincing bear-growl yet. She was out there. Around 4:00 am. What i entered that time i could see through the brush. It was fairly late at night and i could no longer could  4/6',\n",
    " \"see what appeared to be a very large wallowy mass of about three or three inches of snow on the ground. I've seen a sasquatch, when i looked out into the foliage i heard a strange presence and a dark tall walked within thick  5/6\",\n",
    " 'forest on the west coast to witness me in mine and whistling altogether..   6/6']"
   ]
  },
  {
   "cell_type": "code",
   "execution_count": 48,
   "metadata": {
    "tags": []
   },
   "outputs": [
    {
     "output_type": "stream",
     "name": "stdout",
     "text": "SEASON: Spring\nSTATE: Texas\nNEAREST TOWN: Streetman\nNEAREST ROAD: Interstate 20\nENVIRONMENT: Slide surrounded by little ridges.\nTIME AND CONDITIONS: Happened hours. woods were my house happend on the season. cold morning. 1/7\nOBSERVATION: My mother lives. I cried alone and screech or whatever. You don’t put up with them, but the weather made only 4 times in the morning three things circling out close to us. It was getting dark and in the deep woods.  2/7\nI still didn't say anything out of the ordinary particularly clearly, could be a juvenile. Where at this distance we each pretty much to prove to us that an episode of the word show, an odd encounter with what they sound was  3/7\nup, but found in the years in your mountains at north even though the tracks is now the largest of a paranormal site. This area has always been brought away together. Around 20 or so, we heard first was making our way across  4/7\nthe road. It was close to 7:00pm and i were a very convincing bear-growl yet. She was out there. Around 4:00 am. What i entered that time i could see through the brush. It was fairly late at night and i could no longer could  5/7\nsee what appeared to be a very large wallowy mass of about three or three inches of snow on the ground. I've seen a sasquatch, when i looked out into the foliage i heard a strange presence and a dark tall walked within thick  6/7\nforest on the west coast to witness me in mine and whistling altogether..   7/7\n"
    }
   ],
   "source": [
    "for i in st:\n",
    "    print(i)"
   ]
  },
  {
   "cell_type": "code",
   "execution_count": 50,
   "metadata": {
    "tags": []
   },
   "outputs": [
    {
     "output_type": "stream",
     "name": "stdout",
     "text": "225\n232\n229\n229\n229\n229\n79\n"
    }
   ],
   "source": [
    "for i in st:\n",
    "    print(len(i))"
   ]
  },
  {
   "cell_type": "code",
   "execution_count": 56,
   "metadata": {},
   "outputs": [],
   "source": [
    "with open(\"my_tweet.txt\", \"w\") as f:\n",
    "    f.write(st2[0])\n",
    "with open('my_tweet.txt','r') as f:\n",
    "    tweet = api.update_status(f.read())\n",
    "for i in range(1,len(st2)):\n",
    "    with open(\"my_tweet.txt\", \"w\") as f:\n",
    "        f.write(st2[i])\n",
    "    with open('my_tweet.txt','r') as f:\n",
    "        tweet = api.update_status(f.read(), in_reply_to_status_id = tweet.id_str)\n",
    "    time.sleep(5)"
   ]
  },
  {
   "cell_type": "code",
   "execution_count": 104,
   "metadata": {},
   "outputs": [
    {
     "output_type": "error",
     "ename": "IndexError",
     "evalue": "list index out of range",
     "traceback": [
      "\u001b[1;31m---------------------------------------------------------------------------\u001b[0m",
      "\u001b[1;31mIndexError\u001b[0m                                Traceback (most recent call last)",
      "\u001b[1;32m<ipython-input-104-0a06323d952e>\u001b[0m in \u001b[0;36m<module>\u001b[1;34m()\u001b[0m\n\u001b[0;32m      1\u001b[0m \u001b[1;32mwith\u001b[0m \u001b[0mopen\u001b[0m\u001b[1;33m(\u001b[0m\u001b[1;34m\"my_tweet.txt\"\u001b[0m\u001b[1;33m,\u001b[0m \u001b[1;34m\"w\"\u001b[0m\u001b[1;33m)\u001b[0m \u001b[1;32mas\u001b[0m \u001b[0mf\u001b[0m\u001b[1;33m:\u001b[0m\u001b[1;33m\u001b[0m\u001b[0m\n\u001b[1;32m----> 2\u001b[1;33m     \u001b[0mf\u001b[0m\u001b[1;33m.\u001b[0m\u001b[0mwrite\u001b[0m\u001b[1;33m(\u001b[0m\u001b[0mtweets\u001b[0m\u001b[1;33m[\u001b[0m\u001b[1;36m8\u001b[0m\u001b[1;33m]\u001b[0m\u001b[1;33m)\u001b[0m\u001b[1;33m\u001b[0m\u001b[0m\n\u001b[0m\u001b[0;32m      3\u001b[0m \u001b[1;32mwith\u001b[0m \u001b[0mopen\u001b[0m\u001b[1;33m(\u001b[0m\u001b[1;34m'my_tweet.txt'\u001b[0m\u001b[1;33m,\u001b[0m\u001b[1;34m'r'\u001b[0m\u001b[1;33m)\u001b[0m \u001b[1;32mas\u001b[0m \u001b[0mf\u001b[0m\u001b[1;33m:\u001b[0m\u001b[1;33m\u001b[0m\u001b[0m\n\u001b[0;32m      4\u001b[0m     \u001b[0mtweet\u001b[0m \u001b[1;33m=\u001b[0m \u001b[0mapi\u001b[0m\u001b[1;33m.\u001b[0m\u001b[0mupdate_status\u001b[0m\u001b[1;33m(\u001b[0m\u001b[0mf\u001b[0m\u001b[1;33m.\u001b[0m\u001b[0mread\u001b[0m\u001b[1;33m(\u001b[0m\u001b[1;33m)\u001b[0m\u001b[1;33m,\u001b[0m \u001b[0min_reply_to_status_id\u001b[0m \u001b[1;33m=\u001b[0m \u001b[0mtweet\u001b[0m\u001b[1;33m.\u001b[0m\u001b[0mid_str\u001b[0m\u001b[1;33m)\u001b[0m\u001b[1;33m\u001b[0m\u001b[0m\n",
      "\u001b[1;31mIndexError\u001b[0m: list index out of range"
     ]
    }
   ],
   "source": [
    "# with open(\"my_tweet.txt\", \"w\") as f:\n",
    "#     f.write(tweets[8])\n",
    "# with open('my_tweet.txt','r') as f:\n",
    "#     tweet = api.update_status(f.read(), in_reply_to_status_id = tweet.id_str)"
   ]
  },
  {
   "cell_type": "code",
   "execution_count": 86,
   "metadata": {
    "tags": []
   },
   "outputs": [],
   "source": [
    "for i in range(1,len(tweets)):\n",
    "    with open(\"my_tweet.txt\", \"w\") as f:\n",
    "        f.write(tweets[i])\n",
    "    with open('my_tweet.txt','r') as f:\n",
    "        tweet = api.update_status(f.read(), in_reply_to_status_id = tweet.id_str)"
   ]
  },
  {
   "cell_type": "code",
   "execution_count": 48,
   "metadata": {
    "tags": []
   },
   "outputs": [],
   "source": [
    "with open('my_tweet.txt','r') as f:\n",
    "   tweet = api.update_status(f.read())"
   ]
  },
  {
   "cell_type": "code",
   "execution_count": 51,
   "metadata": {},
   "outputs": [],
   "source": [
    "with open(\"my_tweet.txt\", \"w\") as f:\n",
    "    f.write(st[3])\n",
    "\n",
    "with open('my_tweet.txt','r') as f:\n",
    "   api.update_status(status = f.read(), in_reply_to_status_id = tweet.id_str)"
   ]
  },
  {
   "cell_type": "code",
   "execution_count": 44,
   "metadata": {
    "tags": []
   },
   "outputs": [
    {
     "output_type": "stream",
     "name": "stdout",
     "text": "1306381848336117761\n1306381722330656768\n"
    }
   ],
   "source": [
    "for status in api.user_timeline():\n",
    "    print(status.id)"
   ]
  },
  {
   "cell_type": "code",
   "execution_count": 26,
   "metadata": {},
   "outputs": [],
   "source": [
    "def replace_char(s, o, r):\n",
    "    s = s.replace(o, r)\n",
    "    return s"
   ]
  },
  {
   "cell_type": "code",
   "execution_count": 28,
   "metadata": {},
   "outputs": [
    {
     "output_type": "execute_result",
     "data": {
      "text/plain": "\"Iâ'm going to be careful\""
     },
     "metadata": {},
     "execution_count": 28
    }
   ],
   "source": [
    "replace_char('Iâ’m going to be careful', '’', '\\'')"
   ]
  },
  {
   "cell_type": "code",
   "execution_count": null,
   "metadata": {},
   "outputs": [],
   "source": []
  }
 ]
}
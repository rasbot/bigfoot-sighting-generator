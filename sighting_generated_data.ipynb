{
 "metadata": {
  "language_info": {
   "codemirror_mode": {
    "name": "ipython",
    "version": 3
   },
   "file_extension": ".py",
   "mimetype": "text/x-python",
   "name": "python",
   "nbconvert_exporter": "python",
   "pygments_lexer": "ipython3",
   "version": "3.5.5-final"
  },
  "orig_nbformat": 2,
  "kernelspec": {
   "name": "python35564bitpy35condaa74a24b6075244cb830811c39c7c8916",
   "display_name": "Python 3.5.5 64-bit ('py35': conda)"
  }
 },
 "nbformat": 4,
 "nbformat_minor": 2,
 "cells": [
  {
   "cell_type": "code",
   "execution_count": 1,
   "metadata": {},
   "outputs": [],
   "source": [
    "import src.data_prep as dp\n",
    "import pandas as pd \n",
    "import numpy as np\n",
    "import matplotlib.pyplot as plt\n",
    "import json\n",
    "import src.data_prep as dp"
   ]
  },
  {
   "cell_type": "code",
   "execution_count": 2,
   "metadata": {},
   "outputs": [],
   "source": [
    "reports = dp.import_data(\"data/data.json\")\n",
    "df = dp.create_df(reports)\n",
    "# df.head()"
   ]
  },
  {
   "cell_type": "markdown",
   "metadata": {},
   "source": [
    "The `OBSERVED` column has been generated with a RNN. A few other columns can be generated with the RNN, and some will just be randomized. It won't be entirely possible to correlate the generated portions with randomized sections. For instance, if `STATE` is randomized, then `COUNTY` can't be. `COUNTY` could be stored in a dictionary as a list under the key `STATE`, but that might be too much work. \n",
    "\n",
    "RANDOMIZED:\n",
    "* NEAREST ROAD\n",
    "* SEASON (generate MONTH from that)\n",
    "* STATE (generate NEAREST TOWN from that)\n",
    "* OTHER WITNESSES\n",
    "\n",
    "RNN:\n",
    "* TIME AND CONDITIONS\n",
    "* ENVIRONMENT\n",
    "* OTHER CONDITIONS?\n"
   ]
  },
  {
   "cell_type": "code",
   "execution_count": 3,
   "metadata": {},
   "outputs": [],
   "source": [
    "# dp.get_state_data(df, 'data')"
   ]
  },
  {
   "cell_type": "code",
   "execution_count": 3,
   "metadata": {},
   "outputs": [],
   "source": [
    "# dp.get_bag_of_words(df, 'TIME AND CONDITIONS', 'data/time_conditions')"
   ]
  },
  {
   "cell_type": "code",
   "execution_count": 4,
   "metadata": {},
   "outputs": [],
   "source": [
    "# dp.get_bag_of_words(df, 'ENVIRONMENT', 'data/environment')"
   ]
  },
  {
   "cell_type": "code",
   "execution_count": 16,
   "metadata": {
    "tags": []
   },
   "outputs": [
    {
     "output_type": "stream",
     "name": "stdout",
     "text": "\n(py35) d:\\gal\\bigfoot-sighting-generator>#!/bin/bash\n\n(py35) d:\\gal\\bigfoot-sighting-generator>python sample.py --save_dir=\"data/observed/save\" -n=250 -s=True -t=\"observed\" \nstinky\nThis is aug. pears and worth hunting yet, we were about 20 to 14 inches long and feet 5.5 inches in between two nature (denton but not one tough in river being south. i kept driving, and i began to hear breaking limbs, and no fear were responsible. to this day, you can tell any movement is in the woods behind us, we both stayed in the freezer no more and they were standing and thats as to what i believe to be a bigfoot. i kept trying to see a screaming noise howling in the air on a raised noise one night. this last portion of the family was near and we only saw the elk, so it was almost even bigger. a very tall 1/2 foot in width. these prints sunk to a deeper patch of snow in the dirt. the rest of the drive was tight and standing out at about 30 feet away just staying we were alone at the lake fork of the navajo river, their patterson site, she just started telling us to shut into foot and head threw the shed very well. i have been back to upstream with their potential cousin and everybody about them. so once in the hunting trip in woods. she gladly you can usually want to mention my story, what on earth recognized i and i have seen \"sasquatch\" taking pictures, but rarely decided to - them.\n\n(py35) d:\\gal\\bigfoot-sighting-generator>python sample.py --save_dir=\"data/environment/save\" -n=30 -s=True -t=\"environment\" \n158\nJust the half a mile, miles of those old growth mixed trees.\n\n(py35) d:\\gal\\bigfoot-sighting-generator>python sample.py --save_dir=\"data/time_conditions/save\" -n=20 -s=True -t=\"time_conditions\" \nMohican\n11pm raining and clear. thunderstorm both clouds.\n'#!' is not recognized as an internal or external command,\noperable program or batch file.\n2020-09-14 18:42:40.208775: I T:\\src\\github\\tensorflow\\tensorflow\\core\\platform\\cpu_feature_guard.cc:140] Your CPU supports instructions that this TensorFlow binary was not compiled to use: AVX2\n2020-09-14 18:42:48.920651: I T:\\src\\github\\tensorflow\\tensorflow\\core\\platform\\cpu_feature_guard.cc:140] Your CPU supports instructions that this TensorFlow binary was not compiled to use: AVX2\n2020-09-14 18:42:54.843306: I T:\\src\\github\\tensorflow\\tensorflow\\core\\platform\\cpu_feature_guard.cc:140] Your CPU supports instructions that this TensorFlow binary was not compiled to use: AVX2\n"
    }
   ],
   "source": [
    "!generate_sighting.bat"
   ]
  },
  {
   "cell_type": "code",
   "execution_count": 17,
   "metadata": {},
   "outputs": [],
   "source": [
    "with open(\"temp_environment.txt\", \"r\") as f:\n",
    "    env = f.read()\n",
    "f.close()\n",
    "with open(\"temp_observed.txt\", \"r\") as f:\n",
    "    obs = f.read()\n",
    "f.close()\n",
    "with open(\"temp_time_conditions.txt\", \"r\") as f:\n",
    "    tc = f.read()\n",
    "f.close()"
   ]
  },
  {
   "cell_type": "code",
   "execution_count": 18,
   "metadata": {},
   "outputs": [],
   "source": [
    "with open(\"data/states.json\", \"r\") as f:\n",
    "    states_data = json.load(f)"
   ]
  },
  {
   "cell_type": "code",
   "execution_count": 19,
   "metadata": {},
   "outputs": [],
   "source": [
    "unique_states = np.unique(np.array(df['STATE'].dropna()))\n",
    "idx = np.argwhere(unique_states == '(International)')\n",
    "unique_states = np.delete(unique_states, idx)"
   ]
  },
  {
   "cell_type": "code",
   "execution_count": 20,
   "metadata": {},
   "outputs": [],
   "source": [
    "unique_seasons = np.unique(np.array(df['SEASON'].dropna()))"
   ]
  },
  {
   "cell_type": "code",
   "execution_count": 21,
   "metadata": {},
   "outputs": [
    {
     "output_type": "execute_result",
     "data": {
      "text/plain": "array(['Fall', 'Spring', 'Summer', 'Unknown', 'Winter'], dtype=object)"
     },
     "metadata": {},
     "execution_count": 21
    }
   ],
   "source": [
    "unique_seasons"
   ]
  },
  {
   "cell_type": "code",
   "execution_count": 22,
   "metadata": {
    "tags": []
   },
   "outputs": [],
   "source": [
    "state = np.random.choice(unique_states)\n",
    "county = np.random.choice(states_data[state][\"Counties\"])\n",
    "nearest_town = np.random.choice(states_data[state][\"Nearest Town\"])\n",
    "nearest_road = np.random.choice(states_data[state][\"Nearest Road\"])\n",
    "season = np.random.choice(unique_seasons)\n"
   ]
  },
  {
   "cell_type": "code",
   "execution_count": 26,
   "metadata": {
    "tags": []
   },
   "outputs": [],
   "source": [
    "p1 = \"\"\"SEASON: {seas}\n",
    "\n",
    "STATE: {state}\n",
    "\n",
    "NEAREST TOWN: {n_town}\n",
    "\n",
    "NEAREST ROAD: {n_road}\"\"\".format(seas=season, state=state, n_town=nearest_town, n_road=nearest_road)\n",
    "p2 = \"\"\"\n",
    "OBSERVED: {obs}\"\"\".format(obs=obs)\n",
    "p3 = \"\"\"\n",
    "ENVIRONMENT: {env}\n",
    "\n",
    "TIME AND CONDITIONS: {tc}\n",
    "\n",
    "\"\"\".format(env=env, tc=tc)"
   ]
  },
  {
   "cell_type": "code",
   "execution_count": 31,
   "metadata": {
    "tags": []
   },
   "outputs": [
    {
     "output_type": "stream",
     "name": "stdout",
     "text": "SEASON: Fall\n\nSTATE: Mississippi\n\nNEAREST TOWN: Batesville\n\nNEAREST ROAD: Highway 469\n\nENVIRONMENT: Just the half a mile, miles of those old growth mixed trees.\n\nTIME AND CONDITIONS: 11pm raining and clear. thunderstorm both clouds.\n\n\n\nOBSERVED: This is aug. pears and worth hunting yet, we were about 20 to 14 inches long and feet 5.5 inches in between two nature (denton but not one tough in river being south. i kept driving, and i began to hear breaking limbs, and no fear were responsible. to this day, you can tell any movement is in the woods behind us, we both stayed in the freezer no more and they were standing and thats as to what i believe to be a bigfoot. i kept trying to see a screaming noise howling in the air on a raised noise one night. this last portion of the family was near and we only saw the elk, so it was almost even bigger. a very tall 1/2 foot in width. these prints sunk to a deeper patch of snow in the dirt. the rest of the drive was tight and standing out at about 30 feet away just staying we were alone at the lake fork of the navajo river, their patterson site, she just started telling us to shut into foot and head threw the shed very well. i have been back to upstream with their potential cousin and everybody about them. so once in the hunting trip in woods. she gladly you can usually want to mention my story, what on earth recognized i and i have seen \"sasquatch\" taking pictures, but rarely decided to - them.\n"
    }
   ],
   "source": [
    "print(p1)\n",
    "print(p3)\n",
    "print(p2)"
   ]
  },
  {
   "cell_type": "code",
   "execution_count": 29,
   "metadata": {
    "tags": []
   },
   "outputs": [
    {
     "output_type": "stream",
     "name": "stdout",
     "text": "233\n1220\n148\n"
    }
   ],
   "source": [
    "print(len(p1)+len(p3))\n",
    "print(len(p2))\n",
    "print(len(p3))"
   ]
  },
  {
   "cell_type": "code",
   "execution_count": null,
   "metadata": {},
   "outputs": [],
   "source": []
  }
 ]
}
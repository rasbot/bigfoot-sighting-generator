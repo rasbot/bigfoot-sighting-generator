{
 "metadata": {
  "language_info": {
   "codemirror_mode": {
    "name": "ipython",
    "version": 3
   },
   "file_extension": ".py",
   "mimetype": "text/x-python",
   "name": "python",
   "nbconvert_exporter": "python",
   "pygments_lexer": "ipython3",
   "version": "3.6.7-final"
  },
  "orig_nbformat": 2,
  "kernelspec": {
   "name": "python36764bitbase33d3c959fe934c0c8e17d94ccab1c9ba",
   "display_name": "Python 3.6.7 64-bit ('base')"
  }
 },
 "nbformat": 4,
 "nbformat_minor": 2,
 "cells": [
  {
   "cell_type": "code",
   "execution_count": 17,
   "metadata": {},
   "outputs": [],
   "source": [
    "import src.data_prep as dp\n",
    "import pandas as pd \n",
    "import numpy as np\n",
    "import matplotlib.pyplot as plt\n",
    "from sklearn.feature_extraction.text import CountVectorizer, TfidfVectorizer\n",
    "from sklearn.cluster import KMeans\n",
    "from sklearn.decomposition import NMF"
   ]
  },
  {
   "cell_type": "code",
   "execution_count": 2,
   "metadata": {},
   "outputs": [],
   "source": [
    "reports = dp.import_data(\"data/data.json\")"
   ]
  },
  {
   "cell_type": "code",
   "execution_count": 3,
   "metadata": {
    "tags": []
   },
   "outputs": [],
   "source": [
    "df = dp.create_df(reports)"
   ]
  },
  {
   "cell_type": "code",
   "execution_count": 57,
   "metadata": {
    "tags": []
   },
   "outputs": [
    {
     "output_type": "execute_result",
     "data": {
      "text/plain": "dtype('O')"
     },
     "metadata": {},
     "execution_count": 57
    }
   ],
   "source": [
    "df.index.dtype"
   ]
  },
  {
   "cell_type": "code",
   "execution_count": 4,
   "metadata": {},
   "outputs": [
    {
     "output_type": "execute_result",
     "data": {
      "text/plain": "          YEAR  SEASON      MONTH       STATE             COUNTY  \\\n60  1994-1997+  Spring        NaN  Washington      Skagit County   \n70        2000  Summer       July    New York  Washington County   \n76        1997  Summer       June    Arkansas      Baxter County   \n77        1983    Fall  September  Washington    Kittitas County   \n80        1983  Summer     August      Oregon        Lane County   \n\n                                     LOCATION DETAILS  NEAREST TOWN  \\\n60  Up the Baker hwy., about 12 miles north from H...      Concrete   \n70           1/2 mile into the trail to Buck Mountain    Queensbury   \n76  THE LOCATION WAS IN THE GOVERNMENT TRACK LAND ...      Mt. Home   \n77  I haven't been there in years, but an area map...        Yakima   \n80  It was at Kitson Springs, near the Willamette ...  Bend, Oregon   \n\n              NEAREST ROAD                                           OBSERVED  \\\n60            Mt.Baker Hwy  These two gentlmen, brothers, recluses age 50'...   \n70      Shelving Rock Road  My wife and I were off the trail to take some ...   \n76              101 bridge  I DID NOT SEE ANYTHING.  I DID HEAR A LOT.  WH...   \n77  Chinook pass hyway 410  We had driven into Milk pond, up Chinook pass,...   \n80            State Hwy 58  My veterinarian sister, former girlfriend, and...   \n\n                                         ALSO NOTICED  \\\n60  Feces was found and sent to a University in Mo...   \n70                                                NaN   \n76                                        LOUD SHRILL   \n77  we thought it was weird the frogs stopped, usa...   \n80                                                NaN   \n\n                                      OTHER WITNESSES  \\\n60                                                NaN   \n70                                            My wife   \n76                                 THRE TOTAL/FISHING   \n77  my husband, Glenn.  we had a tape recorded, bu...   \n80  3 persons total.  We were tring to get some sl...   \n\n                                        OTHER STORIES  \\\n60  There is a ridge along their property-Doc Butt...   \n70  The local Police chased a Bigfoot into the woo...   \n76                                                NO.   \n77                                                NaN   \n80  On another occaison I had found and photograhe...   \n\n                                  TIME AND CONDITIONS  \\\n60  These events occured from May all thru June an...   \n70               2 pm , partly cloudy with light rain   \n76  THIS INCIDENT DID TAKE PLACE ON THE EARLY MORN...   \n77                                                NaN   \n80              1:00AM dark, warm evening. clear sky.   \n\n                                          ENVIRONMENT          DATE  \n60  200 acres of interspersed Old growth Douglas Fir.  intermittant  \n70  Next to a creek 300 feet off the trail to Buck...             9  \n76  THE AREA IS A DENSE FOREST WHICH SURROUNDS A V...   25-27approx  \n77  pine forest, you have to drive up to get to th...             ?  \n80                      Forest, mountains and streams            12  ",
      "text/html": "<div>\n<style scoped>\n    .dataframe tbody tr th:only-of-type {\n        vertical-align: middle;\n    }\n\n    .dataframe tbody tr th {\n        vertical-align: top;\n    }\n\n    .dataframe thead th {\n        text-align: right;\n    }\n</style>\n<table border=\"1\" class=\"dataframe\">\n  <thead>\n    <tr style=\"text-align: right;\">\n      <th></th>\n      <th>YEAR</th>\n      <th>SEASON</th>\n      <th>MONTH</th>\n      <th>STATE</th>\n      <th>COUNTY</th>\n      <th>LOCATION DETAILS</th>\n      <th>NEAREST TOWN</th>\n      <th>NEAREST ROAD</th>\n      <th>OBSERVED</th>\n      <th>ALSO NOTICED</th>\n      <th>OTHER WITNESSES</th>\n      <th>OTHER STORIES</th>\n      <th>TIME AND CONDITIONS</th>\n      <th>ENVIRONMENT</th>\n      <th>DATE</th>\n    </tr>\n  </thead>\n  <tbody>\n    <tr>\n      <th>60</th>\n      <td>1994-1997+</td>\n      <td>Spring</td>\n      <td>NaN</td>\n      <td>Washington</td>\n      <td>Skagit County</td>\n      <td>Up the Baker hwy., about 12 miles north from H...</td>\n      <td>Concrete</td>\n      <td>Mt.Baker Hwy</td>\n      <td>These two gentlmen, brothers, recluses age 50'...</td>\n      <td>Feces was found and sent to a University in Mo...</td>\n      <td>NaN</td>\n      <td>There is a ridge along their property-Doc Butt...</td>\n      <td>These events occured from May all thru June an...</td>\n      <td>200 acres of interspersed Old growth Douglas Fir.</td>\n      <td>intermittant</td>\n    </tr>\n    <tr>\n      <th>70</th>\n      <td>2000</td>\n      <td>Summer</td>\n      <td>July</td>\n      <td>New York</td>\n      <td>Washington County</td>\n      <td>1/2 mile into the trail to Buck Mountain</td>\n      <td>Queensbury</td>\n      <td>Shelving Rock Road</td>\n      <td>My wife and I were off the trail to take some ...</td>\n      <td>NaN</td>\n      <td>My wife</td>\n      <td>The local Police chased a Bigfoot into the woo...</td>\n      <td>2 pm , partly cloudy with light rain</td>\n      <td>Next to a creek 300 feet off the trail to Buck...</td>\n      <td>9</td>\n    </tr>\n    <tr>\n      <th>76</th>\n      <td>1997</td>\n      <td>Summer</td>\n      <td>June</td>\n      <td>Arkansas</td>\n      <td>Baxter County</td>\n      <td>THE LOCATION WAS IN THE GOVERNMENT TRACK LAND ...</td>\n      <td>Mt. Home</td>\n      <td>101 bridge</td>\n      <td>I DID NOT SEE ANYTHING.  I DID HEAR A LOT.  WH...</td>\n      <td>LOUD SHRILL</td>\n      <td>THRE TOTAL/FISHING</td>\n      <td>NO.</td>\n      <td>THIS INCIDENT DID TAKE PLACE ON THE EARLY MORN...</td>\n      <td>THE AREA IS A DENSE FOREST WHICH SURROUNDS A V...</td>\n      <td>25-27approx</td>\n    </tr>\n    <tr>\n      <th>77</th>\n      <td>1983</td>\n      <td>Fall</td>\n      <td>September</td>\n      <td>Washington</td>\n      <td>Kittitas County</td>\n      <td>I haven't been there in years, but an area map...</td>\n      <td>Yakima</td>\n      <td>Chinook pass hyway 410</td>\n      <td>We had driven into Milk pond, up Chinook pass,...</td>\n      <td>we thought it was weird the frogs stopped, usa...</td>\n      <td>my husband, Glenn.  we had a tape recorded, bu...</td>\n      <td>NaN</td>\n      <td>NaN</td>\n      <td>pine forest, you have to drive up to get to th...</td>\n      <td>?</td>\n    </tr>\n    <tr>\n      <th>80</th>\n      <td>1983</td>\n      <td>Summer</td>\n      <td>August</td>\n      <td>Oregon</td>\n      <td>Lane County</td>\n      <td>It was at Kitson Springs, near the Willamette ...</td>\n      <td>Bend, Oregon</td>\n      <td>State Hwy 58</td>\n      <td>My veterinarian sister, former girlfriend, and...</td>\n      <td>NaN</td>\n      <td>3 persons total.  We were tring to get some sl...</td>\n      <td>On another occaison I had found and photograhe...</td>\n      <td>1:00AM dark, warm evening. clear sky.</td>\n      <td>Forest, mountains and streams</td>\n      <td>12</td>\n    </tr>\n  </tbody>\n</table>\n</div>"
     },
     "metadata": {},
     "execution_count": 4
    }
   ],
   "source": [
    "df.head()"
   ]
  },
  {
   "cell_type": "code",
   "execution_count": 23,
   "metadata": {},
   "outputs": [
    {
     "output_type": "execute_result",
     "data": {
      "text/plain": "60       These two gentlmen, brothers, recluses age 50'...\n70       My wife and I were off the trail to take some ...\n76       I DID NOT SEE ANYTHING.  I DID HEAR A LOT.  WH...\n77       We had driven into Milk pond, up Chinook pass,...\n80       My veterinarian sister, former girlfriend, and...\n                               ...                        \n65943    Hello. My family and I took a trip to the Sequ...\n65978    The town of strawberry is about 10 miles from ...\n65984    While bow hunting in a field in Kansas, I obse...\n65996    Hiking the Seven Sisters Trail from Mt Holyoke...\n66003    Heard: at approx 2:15am my labrador retriever ...\nName: OBSERVED, Length: 5089, dtype: object"
     },
     "metadata": {},
     "execution_count": 23
    }
   ],
   "source": [
    "df.loc[df['OBSERVED'].notnull()]['OBSERVED']"
   ]
  },
  {
   "cell_type": "code",
   "execution_count": 45,
   "metadata": {},
   "outputs": [],
   "source": [
    "df_o = df.loc[df['OBSERVED'].notnull()]"
   ]
  },
  {
   "cell_type": "code",
   "execution_count": 24,
   "metadata": {},
   "outputs": [],
   "source": [
    "cv = CountVectorizer()\n",
    "cv_fit = cv.fit_transform(df_o['OBSERVED'])"
   ]
  },
  {
   "cell_type": "code",
   "execution_count": 25,
   "metadata": {},
   "outputs": [],
   "source": [
    "vocab_cv = cv.get_feature_names()\n",
    "vocab_count = cv_fit.toarray().sum(axis=0)"
   ]
  },
  {
   "cell_type": "code",
   "execution_count": 26,
   "metadata": {},
   "outputs": [],
   "source": [
    "tfidf = TfidfVectorizer(stop_words='english')\n",
    "tfidf_matrix = tfidf.fit_transform(df_o['OBSERVED'])\n",
    "vocab = np.array(sorted(tfidf.vocabulary_))\n",
    "V = tfidf_matrix"
   ]
  },
  {
   "cell_type": "code",
   "execution_count": 27,
   "metadata": {},
   "outputs": [],
   "source": [
    "cluster = KMeans(n_clusters=6)\n",
    "cluster.fit(tfidf_matrix)\n",
    "centroids = cluster.cluster_centers_"
   ]
  },
  {
   "cell_type": "code",
   "execution_count": 28,
   "metadata": {
    "tags": []
   },
   "outputs": [
    {
     "output_type": "stream",
     "name": "stdout",
     "text": "['tracks' 'prints' 'print' 'snow' 'inches' 'foot' 'track' 'toes' 'trail'\n 'footprints']\n['house' 'window' 'door' 'outside' 'heard' 'dogs' 'night' 'like' 'dog'\n 'went']\n['saw' 'creature' 'area' 'seen' 'large' 'like' 'woods' 'tall' 'bigfoot'\n 'looked']\n['heard' 'sound' 'like' 'tent' 'night' 'loud' 'sounded' 'sounds' 'camp'\n 'scream']\n['road' 'saw' 'driving' 'car' 'creature' 'tall' 'looked' 'just' 'hair'\n 'like']\n['just' 'saw' 'like' 'tree' 'woods' 'river' 'looked' 'trail' 'feet' 'got']\n"
    }
   ],
   "source": [
    "for idx, topic in enumerate(centroids):\n",
    "    print(vocab[np.argsort(-topic)[:10]])"
   ]
  },
  {
   "cell_type": "code",
   "execution_count": 46,
   "metadata": {},
   "outputs": [],
   "source": [
    "labels = np.array(['Tracking', 'House', 'Seen', 'Heard', 'Driving', 'Saw'])"
   ]
  },
  {
   "cell_type": "code",
   "execution_count": 47,
   "metadata": {},
   "outputs": [],
   "source": [
    "report_label = labels[np.argmin(cluster.transform(tfidf_matrix), axis=1)]"
   ]
  },
  {
   "cell_type": "code",
   "execution_count": 48,
   "metadata": {},
   "outputs": [],
   "source": [
    "df_o['label_clustering'] = report_label"
   ]
  },
  {
   "cell_type": "code",
   "execution_count": 29,
   "metadata": {},
   "outputs": [],
   "source": [
    "nmf = NMF(n_components=6)\n",
    "nmf.fit(V)\n",
    "W = nmf.transform(V)\n",
    "H = nmf.components_"
   ]
  },
  {
   "cell_type": "code",
   "execution_count": 30,
   "metadata": {
    "tags": []
   },
   "outputs": [
    {
     "output_type": "stream",
     "name": "stdout",
     "text": "['tree' 'deer' 'woods' 'just' 'saw' 'like' 'river' 'walking' 'looked'\n 'hunting' 'got' 'trail' 'trees' 'area' 'started']\n['heard' 'sound' 'loud' 'sounds' 'like' 'sounded' 'scream' 'howl' 'noise'\n 'area' 'hear' 'animal' 'minutes' 'woods' 'screams']\n['tracks' 'prints' 'snow' 'inches' 'print' 'foot' 'track' 'footprints'\n 'trail' 'toes' 'area' 'pictures' 'size' 'long' 'wide']\n['house' 'window' 'door' 'outside' 'said' 'dog' 'night' 'dogs' 'went'\n 'home' 'ran' 'yard' 'saw' 'told' 'brother']\n['road' 'car' 'saw' 'driving' 'creature' 'tall' 'hair' 'looked' 'highway'\n 'feet' 'crossed' 'dark' 'arms' 'brown' 'large']\n['tent' 'camp' 'lake' 'night' 'camping' 'sleep' 'went' 'morning' 'got'\n 'campground' 'campsite' 'time' 'set' 'decided' 'site']\n"
    }
   ],
   "source": [
    "for idx, topic in enumerate(H):\n",
    "    print(vocab[np.argsort(-topic)[:15]])"
   ]
  },
  {
   "cell_type": "code",
   "execution_count": 49,
   "metadata": {},
   "outputs": [],
   "source": [
    "labels = np.array(['Witnessed','Heard','Found Tracks','Saw from House','While Driving','While Camping'])"
   ]
  },
  {
   "cell_type": "code",
   "execution_count": 50,
   "metadata": {},
   "outputs": [],
   "source": [
    "report_label = labels[np.argmax(W, axis=1)]"
   ]
  },
  {
   "cell_type": "code",
   "execution_count": 51,
   "metadata": {},
   "outputs": [],
   "source": [
    "df_o['label_NMF'] = report_label"
   ]
  },
  {
   "cell_type": "code",
   "execution_count": 52,
   "metadata": {},
   "outputs": [
    {
     "output_type": "execute_result",
     "data": {
      "text/plain": "68.43236938715371"
     },
     "metadata": {},
     "execution_count": 52
    }
   ],
   "source": [
    "nmf.reconstruction_err_"
   ]
  },
  {
   "cell_type": "code",
   "execution_count": 53,
   "metadata": {},
   "outputs": [],
   "source": [
    "df_o.to_csv('data/nlp_observed_df.csv')"
   ]
  },
  {
   "cell_type": "code",
   "execution_count": 54,
   "metadata": {},
   "outputs": [
    {
     "output_type": "execute_result",
     "data": {
      "text/plain": "pandas.core.frame.DataFrame"
     },
     "metadata": {},
     "execution_count": 54
    }
   ],
   "source": [
    "type(df_o)"
   ]
  },
  {
   "cell_type": "code",
   "execution_count": null,
   "metadata": {},
   "outputs": [],
   "source": []
  }
 ]
}
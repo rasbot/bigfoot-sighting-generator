{
 "metadata": {
  "language_info": {
   "codemirror_mode": {
    "name": "ipython",
    "version": 3
   },
   "file_extension": ".py",
   "mimetype": "text/x-python",
   "name": "python",
   "nbconvert_exporter": "python",
   "pygments_lexer": "ipython3",
   "version": "3.6.7-final"
  },
  "orig_nbformat": 2,
  "kernelspec": {
   "name": "python36764bitbase33d3c959fe934c0c8e17d94ccab1c9ba",
   "display_name": "Python 3.6.7 64-bit ('base')"
  }
 },
 "nbformat": 4,
 "nbformat_minor": 2,
 "cells": [
  {
   "cell_type": "code",
   "execution_count": 10,
   "metadata": {},
   "outputs": [],
   "source": [
    "import src.data_prep as dp\n",
    "import pandas as pd \n",
    "import numpy as np\n",
    "import matplotlib.pyplot as plt\n",
    "from sklearn.feature_extraction.text import CountVectorizer, TfidfVectorizer"
   ]
  },
  {
   "cell_type": "code",
   "execution_count": 11,
   "metadata": {},
   "outputs": [],
   "source": [
    "reports = dp.import_data(\"data/data.json\")"
   ]
  },
  {
   "cell_type": "code",
   "execution_count": 12,
   "metadata": {
    "tags": []
   },
   "outputs": [],
   "source": [
    "df = dp.create_df(reports)"
   ]
  },
  {
   "cell_type": "code",
   "execution_count": 13,
   "metadata": {},
   "outputs": [
    {
     "output_type": "execute_result",
     "data": {
      "text/plain": "          YEAR  SEASON      MONTH       STATE             COUNTY  \\\n60  1994-1997+  Spring        NaN  Washington      Skagit County   \n70        2000  Summer       July    New York  Washington County   \n76        1997  Summer       June    Arkansas      Baxter County   \n77        1983    Fall  September  Washington    Kittitas County   \n80        1983  Summer     August      Oregon        Lane County   \n\n                                     LOCATION DETAILS  NEAREST TOWN  \\\n60  Up the Baker hwy., about 12 miles north from H...      Concrete   \n70           1/2 mile into the trail to Buck Mountain    Queensbury   \n76  THE LOCATION WAS IN THE GOVERNMENT TRACK LAND ...      Mt. Home   \n77  I haven't been there in years, but an area map...        Yakima   \n80  It was at Kitson Springs, near the Willamette ...  Bend, Oregon   \n\n              NEAREST ROAD                                           OBSERVED  \\\n60            Mt.Baker Hwy  These two gentlmen, brothers, recluses age 50'...   \n70      Shelving Rock Road  My wife and I were off the trail to take some ...   \n76              101 bridge  I DID NOT SEE ANYTHING.  I DID HEAR A LOT.  WH...   \n77  Chinook pass hyway 410  We had driven into Milk pond, up Chinook pass,...   \n80            State Hwy 58  My veterinarian sister, former girlfriend, and...   \n\n                                         ALSO NOTICED  \\\n60  Feces was found and sent to a University in Mo...   \n70                                                NaN   \n76                                        LOUD SHRILL   \n77  we thought it was weird the frogs stopped, usa...   \n80                                                NaN   \n\n                                      OTHER WITNESSES  \\\n60                                                NaN   \n70                                            My wife   \n76                                 THRE TOTAL/FISHING   \n77  my husband, Glenn.  we had a tape recorded, bu...   \n80  3 persons total.  We were tring to get some sl...   \n\n                                        OTHER STORIES  \\\n60  There is a ridge along their property-Doc Butt...   \n70  The local Police chased a Bigfoot into the woo...   \n76                                                NO.   \n77                                                NaN   \n80  On another occaison I had found and photograhe...   \n\n                                  TIME AND CONDITIONS  \\\n60  These events occured from May all thru June an...   \n70               2 pm , partly cloudy with light rain   \n76  THIS INCIDENT DID TAKE PLACE ON THE EARLY MORN...   \n77                                                NaN   \n80              1:00AM dark, warm evening. clear sky.   \n\n                                          ENVIRONMENT          DATE  \n60  200 acres of interspersed Old growth Douglas Fir.  intermittant  \n70  Next to a creek 300 feet off the trail to Buck...             9  \n76  THE AREA IS A DENSE FOREST WHICH SURROUNDS A V...   25-27approx  \n77  pine forest, you have to drive up to get to th...             ?  \n80                      Forest, mountains and streams            12  ",
      "text/html": "<div>\n<style scoped>\n    .dataframe tbody tr th:only-of-type {\n        vertical-align: middle;\n    }\n\n    .dataframe tbody tr th {\n        vertical-align: top;\n    }\n\n    .dataframe thead th {\n        text-align: right;\n    }\n</style>\n<table border=\"1\" class=\"dataframe\">\n  <thead>\n    <tr style=\"text-align: right;\">\n      <th></th>\n      <th>YEAR</th>\n      <th>SEASON</th>\n      <th>MONTH</th>\n      <th>STATE</th>\n      <th>COUNTY</th>\n      <th>LOCATION DETAILS</th>\n      <th>NEAREST TOWN</th>\n      <th>NEAREST ROAD</th>\n      <th>OBSERVED</th>\n      <th>ALSO NOTICED</th>\n      <th>OTHER WITNESSES</th>\n      <th>OTHER STORIES</th>\n      <th>TIME AND CONDITIONS</th>\n      <th>ENVIRONMENT</th>\n      <th>DATE</th>\n    </tr>\n  </thead>\n  <tbody>\n    <tr>\n      <th>60</th>\n      <td>1994-1997+</td>\n      <td>Spring</td>\n      <td>NaN</td>\n      <td>Washington</td>\n      <td>Skagit County</td>\n      <td>Up the Baker hwy., about 12 miles north from H...</td>\n      <td>Concrete</td>\n      <td>Mt.Baker Hwy</td>\n      <td>These two gentlmen, brothers, recluses age 50'...</td>\n      <td>Feces was found and sent to a University in Mo...</td>\n      <td>NaN</td>\n      <td>There is a ridge along their property-Doc Butt...</td>\n      <td>These events occured from May all thru June an...</td>\n      <td>200 acres of interspersed Old growth Douglas Fir.</td>\n      <td>intermittant</td>\n    </tr>\n    <tr>\n      <th>70</th>\n      <td>2000</td>\n      <td>Summer</td>\n      <td>July</td>\n      <td>New York</td>\n      <td>Washington County</td>\n      <td>1/2 mile into the trail to Buck Mountain</td>\n      <td>Queensbury</td>\n      <td>Shelving Rock Road</td>\n      <td>My wife and I were off the trail to take some ...</td>\n      <td>NaN</td>\n      <td>My wife</td>\n      <td>The local Police chased a Bigfoot into the woo...</td>\n      <td>2 pm , partly cloudy with light rain</td>\n      <td>Next to a creek 300 feet off the trail to Buck...</td>\n      <td>9</td>\n    </tr>\n    <tr>\n      <th>76</th>\n      <td>1997</td>\n      <td>Summer</td>\n      <td>June</td>\n      <td>Arkansas</td>\n      <td>Baxter County</td>\n      <td>THE LOCATION WAS IN THE GOVERNMENT TRACK LAND ...</td>\n      <td>Mt. Home</td>\n      <td>101 bridge</td>\n      <td>I DID NOT SEE ANYTHING.  I DID HEAR A LOT.  WH...</td>\n      <td>LOUD SHRILL</td>\n      <td>THRE TOTAL/FISHING</td>\n      <td>NO.</td>\n      <td>THIS INCIDENT DID TAKE PLACE ON THE EARLY MORN...</td>\n      <td>THE AREA IS A DENSE FOREST WHICH SURROUNDS A V...</td>\n      <td>25-27approx</td>\n    </tr>\n    <tr>\n      <th>77</th>\n      <td>1983</td>\n      <td>Fall</td>\n      <td>September</td>\n      <td>Washington</td>\n      <td>Kittitas County</td>\n      <td>I haven't been there in years, but an area map...</td>\n      <td>Yakima</td>\n      <td>Chinook pass hyway 410</td>\n      <td>We had driven into Milk pond, up Chinook pass,...</td>\n      <td>we thought it was weird the frogs stopped, usa...</td>\n      <td>my husband, Glenn.  we had a tape recorded, bu...</td>\n      <td>NaN</td>\n      <td>NaN</td>\n      <td>pine forest, you have to drive up to get to th...</td>\n      <td>?</td>\n    </tr>\n    <tr>\n      <th>80</th>\n      <td>1983</td>\n      <td>Summer</td>\n      <td>August</td>\n      <td>Oregon</td>\n      <td>Lane County</td>\n      <td>It was at Kitson Springs, near the Willamette ...</td>\n      <td>Bend, Oregon</td>\n      <td>State Hwy 58</td>\n      <td>My veterinarian sister, former girlfriend, and...</td>\n      <td>NaN</td>\n      <td>3 persons total.  We were tring to get some sl...</td>\n      <td>On another occaison I had found and photograhe...</td>\n      <td>1:00AM dark, warm evening. clear sky.</td>\n      <td>Forest, mountains and streams</td>\n      <td>12</td>\n    </tr>\n  </tbody>\n</table>\n</div>"
     },
     "metadata": {},
     "execution_count": 13
    }
   ],
   "source": [
    "df.head()"
   ]
  },
  {
   "cell_type": "code",
   "execution_count": null,
   "metadata": {},
   "outputs": [],
   "source": []
  }
 ]
}